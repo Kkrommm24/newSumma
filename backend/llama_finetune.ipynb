{
 "cells": [
  {
   "cell_type": "code",
   "execution_count": 1,
   "metadata": {
    "_cell_guid": "b1076dfc-b9ad-4769-8c92-a6c4dae69d19",
    "_uuid": "8f2839f25d086af736a60e9eeb907d3b93b6e0e5",
    "execution": {
     "iopub.execute_input": "2025-03-29T17:45:26.354731Z",
     "iopub.status.busy": "2025-03-29T17:45:26.354346Z",
     "iopub.status.idle": "2025-03-29T17:45:35.255864Z",
     "shell.execute_reply": "2025-03-29T17:45:35.254700Z",
     "shell.execute_reply.started": "2025-03-29T17:45:26.354697Z"
    },
    "trusted": true
   },
   "outputs": [
    {
     "name": "stdout",
     "output_type": "stream",
     "text": [
      "\u001b[2K   \u001b[90m━━━━━━━━━━━━━━━━━━━━━━━━━━━━━━━━━━━━━━━━\u001b[0m \u001b[32m76.0/76.0 MB\u001b[0m \u001b[31m22.2 MB/s\u001b[0m eta \u001b[36m0:00:00\u001b[0m:00:01\u001b[0m00:01\u001b[0m\n",
      "\u001b[2K   \u001b[90m━━━━━━━━━━━━━━━━━━━━━━━━━━━━━━━━━━━━━━━━\u001b[0m \u001b[32m84.0/84.0 kB\u001b[0m \u001b[31m3.6 MB/s\u001b[0m eta \u001b[36m0:00:00\u001b[0m\n",
      "\u001b[?25h"
     ]
    }
   ],
   "source": [
    "!pip install accelerate peft datasets bitsandbytes evaluate -q"
   ]
  },
  {
   "cell_type": "code",
   "execution_count": 2,
   "metadata": {
    "execution": {
     "iopub.execute_input": "2025-03-29T17:45:35.257468Z",
     "iopub.status.busy": "2025-03-29T17:45:35.257232Z",
     "iopub.status.idle": "2025-03-29T17:45:41.131891Z",
     "shell.execute_reply": "2025-03-29T17:45:41.130998Z",
     "shell.execute_reply.started": "2025-03-29T17:45:35.257448Z"
    },
    "trusted": true
   },
   "outputs": [
    {
     "name": "stdout",
     "output_type": "stream",
     "text": [
      "Collecting rouge_score\n",
      "  Downloading rouge_score-0.1.2.tar.gz (17 kB)\n",
      "  Preparing metadata (setup.py) ... \u001b[?25l\u001b[?25hdone\n",
      "Requirement already satisfied: absl-py in /usr/local/lib/python3.10/dist-packages (from rouge_score) (1.4.0)\n",
      "Requirement already satisfied: nltk in /usr/local/lib/python3.10/dist-packages (from rouge_score) (3.2.4)\n",
      "Requirement already satisfied: numpy in /usr/local/lib/python3.10/dist-packages (from rouge_score) (1.26.4)\n",
      "Requirement already satisfied: six>=1.14.0 in /usr/local/lib/python3.10/dist-packages (from rouge_score) (1.17.0)\n",
      "Requirement already satisfied: mkl_fft in /usr/local/lib/python3.10/dist-packages (from numpy->rouge_score) (1.3.8)\n",
      "Requirement already satisfied: mkl_random in /usr/local/lib/python3.10/dist-packages (from numpy->rouge_score) (1.2.4)\n",
      "Requirement already satisfied: mkl_umath in /usr/local/lib/python3.10/dist-packages (from numpy->rouge_score) (0.1.1)\n",
      "Requirement already satisfied: mkl in /usr/local/lib/python3.10/dist-packages (from numpy->rouge_score) (2025.0.1)\n",
      "Requirement already satisfied: tbb4py in /usr/local/lib/python3.10/dist-packages (from numpy->rouge_score) (2022.0.0)\n",
      "Requirement already satisfied: mkl-service in /usr/local/lib/python3.10/dist-packages (from numpy->rouge_score) (2.4.1)\n",
      "Requirement already satisfied: intel-openmp>=2024 in /usr/local/lib/python3.10/dist-packages (from mkl->numpy->rouge_score) (2024.2.0)\n",
      "Requirement already satisfied: tbb==2022.* in /usr/local/lib/python3.10/dist-packages (from mkl->numpy->rouge_score) (2022.0.0)\n",
      "Requirement already satisfied: tcmlib==1.* in /usr/local/lib/python3.10/dist-packages (from tbb==2022.*->mkl->numpy->rouge_score) (1.2.0)\n",
      "Requirement already satisfied: intel-cmplr-lib-rt in /usr/local/lib/python3.10/dist-packages (from mkl_umath->numpy->rouge_score) (2024.2.0)\n",
      "Requirement already satisfied: intel-cmplr-lib-ur==2024.2.0 in /usr/local/lib/python3.10/dist-packages (from intel-openmp>=2024->mkl->numpy->rouge_score) (2024.2.0)\n",
      "Building wheels for collected packages: rouge_score\n",
      "  Building wheel for rouge_score (setup.py) ... \u001b[?25l\u001b[?25hdone\n",
      "  Created wheel for rouge_score: filename=rouge_score-0.1.2-py3-none-any.whl size=24935 sha256=51df3a5378f3cfc146228403ee4c3a2ecf8804c6eaa0dc6bcaca88554c6d4e0a\n",
      "  Stored in directory: /root/.cache/pip/wheels/5f/dd/89/461065a73be61a532ff8599a28e9beef17985c9e9c31e541b4\n",
      "Successfully built rouge_score\n",
      "Installing collected packages: rouge_score\n",
      "Successfully installed rouge_score-0.1.2\n"
     ]
    }
   ],
   "source": [
    "!pip install rouge_score"
   ]
  },
  {
   "cell_type": "code",
   "execution_count": 3,
   "metadata": {
    "execution": {
     "iopub.execute_input": "2025-03-29T17:45:41.133842Z",
     "iopub.status.busy": "2025-03-29T17:45:41.133505Z",
     "iopub.status.idle": "2025-03-29T17:46:13.718974Z",
     "shell.execute_reply": "2025-03-29T17:46:13.718019Z",
     "shell.execute_reply.started": "2025-03-29T17:45:41.133815Z"
    },
    "trusted": true
   },
   "outputs": [],
   "source": [
    "import evaluate\n",
    "import torch\n",
    "from torch.utils.data import DataLoader\n",
    "from transformers import (\n",
    "    AutoModelForCausalLM,\n",
    "    AutoTokenizer,\n",
    "    BitsAndBytesConfig,\n",
    "    default_data_collator,\n",
    ")\n",
    "from datasets import load_dataset\n",
    "from peft import LoraConfig, get_peft_model, prepare_model_for_kbit_training\n",
    "from tqdm import tqdm\n",
    "import os"
   ]
  },
  {
   "cell_type": "code",
   "execution_count": 4,
   "metadata": {
    "execution": {
     "iopub.execute_input": "2025-03-29T17:46:13.720895Z",
     "iopub.status.busy": "2025-03-29T17:46:13.720259Z",
     "iopub.status.idle": "2025-03-29T17:46:13.724640Z",
     "shell.execute_reply": "2025-03-29T17:46:13.723844Z",
     "shell.execute_reply.started": "2025-03-29T17:46:13.720868Z"
    },
    "trusted": true
   },
   "outputs": [],
   "source": [
    "os.environ[\"PYTORCH_CUDA_ALLOC_CONF\"] = \"expandable_segments:True\"\n"
   ]
  },
  {
   "cell_type": "code",
   "execution_count": 5,
   "metadata": {
    "execution": {
     "iopub.execute_input": "2025-03-29T17:46:13.725730Z",
     "iopub.status.busy": "2025-03-29T17:46:13.725476Z",
     "iopub.status.idle": "2025-03-29T17:46:13.856677Z",
     "shell.execute_reply": "2025-03-29T17:46:13.856025Z",
     "shell.execute_reply.started": "2025-03-29T17:46:13.725706Z"
    },
    "trusted": true
   },
   "outputs": [],
   "source": [
    "from huggingface_hub import login\n",
    "\n",
    "hf_token = os.getenv('HF_TOKEN')\n",
    "\n",
    "login(token=hf_token)"
   ]
  },
  {
   "cell_type": "code",
   "execution_count": 6,
   "metadata": {
    "execution": {
     "iopub.execute_input": "2025-03-29T17:46:13.857686Z",
     "iopub.status.busy": "2025-03-29T17:46:13.857442Z",
     "iopub.status.idle": "2025-03-29T17:46:30.726458Z",
     "shell.execute_reply": "2025-03-29T17:46:30.725497Z",
     "shell.execute_reply.started": "2025-03-29T17:46:13.857665Z"
    },
    "trusted": true
   },
   "outputs": [
    {
     "data": {
      "application/vnd.jupyter.widget-view+json": {
       "model_id": "391d3381bd034051a541c0abca0f3fa2",
       "version_major": 2,
       "version_minor": 0
      },
      "text/plain": [
       "tokenizer_config.json:   0%|          | 0.00/50.5k [00:00<?, ?B/s]"
      ]
     },
     "metadata": {},
     "output_type": "display_data"
    },
    {
     "data": {
      "application/vnd.jupyter.widget-view+json": {
       "model_id": "e3525fe7ab494ec6af41837b770b4441",
       "version_major": 2,
       "version_minor": 0
      },
      "text/plain": [
       "tokenizer.json:   0%|          | 0.00/9.09M [00:00<?, ?B/s]"
      ]
     },
     "metadata": {},
     "output_type": "display_data"
    },
    {
     "data": {
      "application/vnd.jupyter.widget-view+json": {
       "model_id": "cec47700e1f644f4bf8789d9cc060577",
       "version_major": 2,
       "version_minor": 0
      },
      "text/plain": [
       "special_tokens_map.json:   0%|          | 0.00/301 [00:00<?, ?B/s]"
      ]
     },
     "metadata": {},
     "output_type": "display_data"
    },
    {
     "data": {
      "application/vnd.jupyter.widget-view+json": {
       "model_id": "104e322cdd404670a57146365b19eaae",
       "version_major": 2,
       "version_minor": 0
      },
      "text/plain": [
       "config.json:   0%|          | 0.00/843 [00:00<?, ?B/s]"
      ]
     },
     "metadata": {},
     "output_type": "display_data"
    },
    {
     "data": {
      "application/vnd.jupyter.widget-view+json": {
       "model_id": "9deec787db2440ba8bab7ccb73ed4591",
       "version_major": 2,
       "version_minor": 0
      },
      "text/plain": [
       "model.safetensors:   0%|          | 0.00/2.47G [00:00<?, ?B/s]"
      ]
     },
     "metadata": {},
     "output_type": "display_data"
    },
    {
     "data": {
      "application/vnd.jupyter.widget-view+json": {
       "model_id": "70a827c8cfad46abad9d462be8d65a9e",
       "version_major": 2,
       "version_minor": 0
      },
      "text/plain": [
       "generation_config.json:   0%|          | 0.00/185 [00:00<?, ?B/s]"
      ]
     },
     "metadata": {},
     "output_type": "display_data"
    }
   ],
   "source": [
    "model_id = \"meta-llama/Llama-3.2-1B\"\n",
    "bnb_config = BitsAndBytesConfig(\n",
    "    load_in_4bit=True,\n",
    "    bnb_4bit_use_double_quant=True,\n",
    "    bnb_4bit_quant_type=\"nf4\",\n",
    "    bnb_4bit_compute_dtype=torch.float16,\n",
    ")\n",
    "\n",
    "tokenizer = AutoTokenizer.from_pretrained(model_id)\n",
    "if tokenizer.pad_token is None:\n",
    "    tokenizer.pad_token = tokenizer.eos_token\n",
    "tokenizer.padding_side = \"left\"\n",
    "\n",
    "model = AutoModelForCausalLM.from_pretrained(\n",
    "    model_id,\n",
    "    quantization_config=bnb_config,\n",
    "    device_map={\"\": 0},\n",
    ")\n",
    "\n",
    "# 4. QLoRA config\n",
    "peft_config = LoraConfig(\n",
    "    r=8,\n",
    "    lora_alpha=16,\n",
    "    lora_dropout=0.05,\n",
    "    bias=\"none\",\n",
    "    task_type=\"CAUSAL_LM\"\n",
    ")\n",
    "\n",
    "model = prepare_model_for_kbit_training(model)\n",
    "model = get_peft_model(model, peft_config)\n",
    "model.config.use_cache = False\n",
    "model.gradient_checkpointing_enable()"
   ]
  },
  {
   "cell_type": "code",
   "execution_count": 7,
   "metadata": {
    "execution": {
     "iopub.execute_input": "2025-03-29T17:46:30.727538Z",
     "iopub.status.busy": "2025-03-29T17:46:30.727320Z",
     "iopub.status.idle": "2025-03-29T17:46:36.276974Z",
     "shell.execute_reply": "2025-03-29T17:46:36.275683Z",
     "shell.execute_reply.started": "2025-03-29T17:46:30.727519Z"
    },
    "trusted": true
   },
   "outputs": [
    {
     "data": {
      "application/vnd.jupyter.widget-view+json": {
       "model_id": "ed3dba7add6b4c32bf0e9ca79466f397",
       "version_major": 2,
       "version_minor": 0
      },
      "text/plain": [
       "Generating train split: 0 examples [00:00, ? examples/s]"
      ]
     },
     "metadata": {},
     "output_type": "display_data"
    }
   ],
   "source": [
    "data_path = \"/kaggle/input/data-llama-finetune/bbc_data_llama_finetune.json\"\n",
    "\n",
    "full_dataset = load_dataset(\"json\", data_files=data_path, split=\"train\")\n",
    "dataset = full_dataset.train_test_split(test_size=0.1)"
   ]
  },
  {
   "cell_type": "markdown",
   "metadata": {},
   "source": []
  },
  {
   "cell_type": "markdown",
   "metadata": {},
   "source": []
  },
  {
   "cell_type": "markdown",
   "metadata": {},
   "source": []
  },
  {
   "cell_type": "code",
   "execution_count": 8,
   "metadata": {
    "execution": {
     "iopub.execute_input": "2025-03-29T17:46:36.281576Z",
     "iopub.status.busy": "2025-03-29T17:46:36.281118Z",
     "iopub.status.idle": "2025-03-29T17:46:44.369495Z",
     "shell.execute_reply": "2025-03-29T17:46:44.368522Z",
     "shell.execute_reply.started": "2025-03-29T17:46:36.281509Z"
    },
    "trusted": true
   },
   "outputs": [
    {
     "data": {
      "application/vnd.jupyter.widget-view+json": {
       "model_id": "0d823f6e1f70492c91d2994d38acc759",
       "version_major": 2,
       "version_minor": 0
      },
      "text/plain": [
       "Map:   0%|          | 0/1914 [00:00<?, ? examples/s]"
      ]
     },
     "metadata": {},
     "output_type": "display_data"
    },
    {
     "data": {
      "application/vnd.jupyter.widget-view+json": {
       "model_id": "07e8eeca1f4f4fa38e66dd3b95cae754",
       "version_major": 2,
       "version_minor": 0
      },
      "text/plain": [
       "Map:   0%|          | 0/213 [00:00<?, ? examples/s]"
      ]
     },
     "metadata": {},
     "output_type": "display_data"
    }
   ],
   "source": [
    "def tokenize(example, max_length=2048):\n",
    "    # Tạo chuỗi input theo định dạng:\n",
    "    # \"### Prompt:\\n<prompt>\\n\\n### Summary:\\n\" + summary\n",
    "    prompt = f\"### Prompt:\\n{example['prompt']}\\n\\n### Summary:\\n\"\n",
    "    summary = example[\"summary\"]\n",
    "    \n",
    "    # Mã hóa riêng prompt và summary (không thêm special tokens)\n",
    "    prompt_ids = tokenizer.encode(prompt, add_special_tokens=False)\n",
    "    summary_ids = tokenizer.encode(summary, add_special_tokens=False)\n",
    "    \n",
    "    # Kiểm tra tổng số token\n",
    "    total_length = len(prompt_ids) + len(summary_ids)\n",
    "    if total_length > max_length:\n",
    "        overflow = total_length - max_length\n",
    "        # Ưu tiên giữ lại phần summary; cắt bớt prompt\n",
    "        if overflow < len(prompt_ids):\n",
    "            prompt_ids = prompt_ids[:-overflow]\n",
    "        else:\n",
    "            prompt_ids = []  # Nếu quá tràn, bỏ hết prompt\n",
    "    \n",
    "    # Nối prompt và summary\n",
    "    input_ids = prompt_ids + summary_ids\n",
    "    attention_mask = [1] * len(input_ids)\n",
    "    \n",
    "    # Tạo labels: phần prompt được mask bằng -100, phần summary giữ nguyên token IDs\n",
    "    labels = [-100] * len(prompt_ids) + summary_ids\n",
    "    \n",
    "    # Padding tất cả các trường về độ dài max_length\n",
    "    padding_length = max_length - len(input_ids)\n",
    "    if padding_length > 0:\n",
    "        input_ids = input_ids + [tokenizer.pad_token_id] * padding_length\n",
    "        attention_mask = attention_mask + [0] * padding_length\n",
    "        labels = labels + [-100] * padding_length\n",
    "    else:\n",
    "        # Nếu quá dài, cắt bớt (nên không xảy ra nhờ truncation ở trên)\n",
    "        input_ids = input_ids[:max_length]\n",
    "        attention_mask = attention_mask[:max_length]\n",
    "        labels = labels[:max_length]\n",
    "    \n",
    "    return {\n",
    "        \"input_ids\": input_ids,\n",
    "        \"attention_mask\": attention_mask,\n",
    "        \"labels\": labels,\n",
    "    }\n",
    "tokenized_dataset = dataset.map(tokenize, batched=False, fn_kwargs={\"max_length\": 2048})\n",
    "tokenized_dataset.set_format(type=\"torch\", columns=[\"input_ids\", \"attention_mask\", \"labels\"])\n",
    "\n",
    "collator = default_data_collator\n",
    "\n",
    "train_loader = DataLoader(\n",
    "    tokenized_dataset[\"train\"],\n",
    "    batch_size=2,\n",
    "    shuffle=True,\n",
    "    collate_fn=collator\n",
    ")\n",
    "\n",
    "val_loader = DataLoader(\n",
    "    tokenized_dataset[\"test\"],\n",
    "    batch_size=2,\n",
    "    shuffle=False,\n",
    "    collate_fn=collator\n",
    ")\n"
   ]
  },
  {
   "cell_type": "code",
   "execution_count": 9,
   "metadata": {
    "execution": {
     "iopub.execute_input": "2025-03-29T17:46:44.371696Z",
     "iopub.status.busy": "2025-03-29T17:46:44.371435Z",
     "iopub.status.idle": "2025-03-29T17:46:44.387541Z",
     "shell.execute_reply": "2025-03-29T17:46:44.386759Z",
     "shell.execute_reply.started": "2025-03-29T17:46:44.371675Z"
    },
    "trusted": true
   },
   "outputs": [
    {
     "data": {
      "text/plain": [
       "PeftModelForCausalLM(\n",
       "  (base_model): LoraModel(\n",
       "    (model): LlamaForCausalLM(\n",
       "      (model): LlamaModel(\n",
       "        (embed_tokens): Embedding(128256, 2048)\n",
       "        (layers): ModuleList(\n",
       "          (0-15): 16 x LlamaDecoderLayer(\n",
       "            (self_attn): LlamaSdpaAttention(\n",
       "              (q_proj): lora.Linear4bit(\n",
       "                (base_layer): Linear4bit(in_features=2048, out_features=2048, bias=False)\n",
       "                (lora_dropout): ModuleDict(\n",
       "                  (default): Dropout(p=0.05, inplace=False)\n",
       "                )\n",
       "                (lora_A): ModuleDict(\n",
       "                  (default): Linear(in_features=2048, out_features=8, bias=False)\n",
       "                )\n",
       "                (lora_B): ModuleDict(\n",
       "                  (default): Linear(in_features=8, out_features=2048, bias=False)\n",
       "                )\n",
       "                (lora_embedding_A): ParameterDict()\n",
       "                (lora_embedding_B): ParameterDict()\n",
       "                (lora_magnitude_vector): ModuleDict()\n",
       "              )\n",
       "              (k_proj): Linear4bit(in_features=2048, out_features=512, bias=False)\n",
       "              (v_proj): lora.Linear4bit(\n",
       "                (base_layer): Linear4bit(in_features=2048, out_features=512, bias=False)\n",
       "                (lora_dropout): ModuleDict(\n",
       "                  (default): Dropout(p=0.05, inplace=False)\n",
       "                )\n",
       "                (lora_A): ModuleDict(\n",
       "                  (default): Linear(in_features=2048, out_features=8, bias=False)\n",
       "                )\n",
       "                (lora_B): ModuleDict(\n",
       "                  (default): Linear(in_features=8, out_features=512, bias=False)\n",
       "                )\n",
       "                (lora_embedding_A): ParameterDict()\n",
       "                (lora_embedding_B): ParameterDict()\n",
       "                (lora_magnitude_vector): ModuleDict()\n",
       "              )\n",
       "              (o_proj): Linear4bit(in_features=2048, out_features=2048, bias=False)\n",
       "              (rotary_emb): LlamaRotaryEmbedding()\n",
       "            )\n",
       "            (mlp): LlamaMLP(\n",
       "              (gate_proj): Linear4bit(in_features=2048, out_features=8192, bias=False)\n",
       "              (up_proj): Linear4bit(in_features=2048, out_features=8192, bias=False)\n",
       "              (down_proj): Linear4bit(in_features=8192, out_features=2048, bias=False)\n",
       "              (act_fn): SiLU()\n",
       "            )\n",
       "            (input_layernorm): LlamaRMSNorm((2048,), eps=1e-05)\n",
       "            (post_attention_layernorm): LlamaRMSNorm((2048,), eps=1e-05)\n",
       "          )\n",
       "        )\n",
       "        (norm): LlamaRMSNorm((2048,), eps=1e-05)\n",
       "        (rotary_emb): LlamaRotaryEmbedding()\n",
       "      )\n",
       "      (lm_head): Linear(in_features=2048, out_features=128256, bias=False)\n",
       "    )\n",
       "  )\n",
       ")"
      ]
     },
     "execution_count": 9,
     "metadata": {},
     "output_type": "execute_result"
    }
   ],
   "source": [
    "optimizer = torch.optim.AdamW(model.parameters(), lr=2e-5)\n",
    "device = torch.device(\"cuda\" if torch.cuda.is_available() else \"cpu\")\n",
    "model.to(device)"
   ]
  },
  {
   "cell_type": "code",
   "execution_count": 12,
   "metadata": {
    "execution": {
     "iopub.execute_input": "2025-03-29T17:49:47.590114Z",
     "iopub.status.busy": "2025-03-29T17:49:47.589782Z",
     "iopub.status.idle": "2025-03-30T02:47:04.811067Z",
     "shell.execute_reply": "2025-03-30T02:47:04.810190Z",
     "shell.execute_reply.started": "2025-03-29T17:49:47.590089Z"
    },
    "trusted": true
   },
   "outputs": [
    {
     "name": "stdout",
     "output_type": "stream",
     "text": [
      "Epoch 1/3\n"
     ]
    },
    {
     "name": "stderr",
     "output_type": "stream",
     "text": [
      "Loss: 0.1296: 100%|██████████| 957/957 [2:59:06<00:00, 11.23s/it]  \n"
     ]
    },
    {
     "name": "stdout",
     "output_type": "stream",
     "text": [
      "✅ Epoch 1 completed — Avg loss: 0.1815\n",
      "Epoch 2/3\n"
     ]
    },
    {
     "name": "stderr",
     "output_type": "stream",
     "text": [
      "Loss: 0.1150: 100%|██████████| 957/957 [2:59:09<00:00, 11.23s/it]  \n"
     ]
    },
    {
     "name": "stdout",
     "output_type": "stream",
     "text": [
      "✅ Epoch 2 completed — Avg loss: 0.1471\n",
      "Epoch 3/3\n"
     ]
    },
    {
     "name": "stderr",
     "output_type": "stream",
     "text": [
      "Loss: 0.0998: 100%|██████████| 957/957 [2:59:01<00:00, 11.22s/it]  "
     ]
    },
    {
     "name": "stdout",
     "output_type": "stream",
     "text": [
      "✅ Epoch 3 completed — Avg loss: 0.1399\n"
     ]
    },
    {
     "name": "stderr",
     "output_type": "stream",
     "text": [
      "\n"
     ]
    }
   ],
   "source": [
    "n_epochs = 3\n",
    "\n",
    "for epoch in range(n_epochs):\n",
    "    print(f\"Epoch {epoch+1}/{n_epochs}\")\n",
    "    model.train()\n",
    "    pbar = tqdm(train_loader)\n",
    "    total_loss = 0\n",
    "\n",
    "    for batch in pbar:\n",
    "        batch = {k: v.to(device) for k, v in batch.items()}\n",
    "        outputs = model(**batch)\n",
    "        loss = outputs.loss\n",
    "        loss.backward()\n",
    "        optimizer.step()\n",
    "        optimizer.zero_grad()\n",
    "\n",
    "        total_loss += loss.item()\n",
    "        pbar.set_description(f\"Loss: {loss.item():.4f}\")\n",
    "\n",
    "    avg_loss = total_loss / len(train_loader)\n",
    "    print(f\"✅ Epoch {epoch+1} completed — Avg loss: {avg_loss:.4f}\")"
   ]
  },
  {
   "cell_type": "code",
   "execution_count": 13,
   "metadata": {
    "execution": {
     "iopub.execute_input": "2025-03-30T02:47:04.812311Z",
     "iopub.status.busy": "2025-03-30T02:47:04.812027Z",
     "iopub.status.idle": "2025-03-30T02:47:05.266418Z",
     "shell.execute_reply": "2025-03-30T02:47:05.265538Z",
     "shell.execute_reply.started": "2025-03-30T02:47:04.812287Z"
    },
    "trusted": true
   },
   "outputs": [
    {
     "name": "stdout",
     "output_type": "stream",
     "text": [
      "✅ Finetuned model saved at: /kaggle/working/llama3-qlora-finetuned\n"
     ]
    }
   ],
   "source": [
    "output_dir = \"/kaggle/working/llama3-qlora-finetuned\"\n",
    "model.save_pretrained(output_dir)\n",
    "tokenizer.save_pretrained(output_dir)\n",
    "\n",
    "print(\"✅ Finetuned model saved at:\", output_dir)"
   ]
  },
  {
   "cell_type": "code",
   "execution_count": 22,
   "metadata": {
    "execution": {
     "iopub.execute_input": "2025-03-30T03:33:26.370264Z",
     "iopub.status.busy": "2025-03-30T03:33:26.369950Z",
     "iopub.status.idle": "2025-03-30T03:33:26.379595Z",
     "shell.execute_reply": "2025-03-30T03:33:26.378726Z",
     "shell.execute_reply.started": "2025-03-30T03:33:26.370232Z"
    },
    "trusted": true
   },
   "outputs": [],
   "source": [
    "def evaluate_after_training(model, val_loader, tokenizer, device, num_samples=3):\n",
    "    import evaluate\n",
    "    from torch.nn.utils.rnn import pad_sequence\n",
    "\n",
    "    model.eval()\n",
    "    predictions = []\n",
    "    references = []\n",
    "    samples_to_print = []\n",
    "\n",
    "    # Load ROUGE\n",
    "    rouge = evaluate.load(\"rouge\")\n",
    "\n",
    "    tokenizer.pad_token = tokenizer.eos_token\n",
    "    tokenizer.padding_side = \"left\"\n",
    "\n",
    "    def left_pad(inputs, pad_token_id):\n",
    "        \"\"\"Chuyển batch input thành left-padded\"\"\"\n",
    "        max_len = max(len(seq) for seq in inputs)\n",
    "        return torch.stack([\n",
    "            torch.cat([torch.full((max_len - len(seq),), pad_token_id, dtype=torch.long), seq])\n",
    "            for seq in inputs\n",
    "        ])\n",
    "\n",
    "    with torch.no_grad():\n",
    "        for batch in tqdm(val_loader, desc=\"Evaluating\"):\n",
    "            input_ids = batch[\"input_ids\"]\n",
    "            attention_mask = batch[\"attention_mask\"]\n",
    "            labels = batch[\"labels\"]\n",
    "\n",
    "            # Chuyển sang left padding thủ công\n",
    "            input_ids = left_pad([x[x != tokenizer.pad_token_id] for x in input_ids], tokenizer.pad_token_id).to(device)\n",
    "            attention_mask = (input_ids != tokenizer.pad_token_id).long()\n",
    "\n",
    "            # Generate\n",
    "            generated_ids = model.generate(\n",
    "                input_ids=input_ids,\n",
    "                attention_mask=attention_mask,\n",
    "                max_new_tokens=128,\n",
    "                num_beams=4,\n",
    "                do_sample=False,\n",
    "                pad_token_id=tokenizer.eos_token_id\n",
    "            )\n",
    "\n",
    "            # Decode\n",
    "            generated_texts = tokenizer.batch_decode(generated_ids, skip_special_tokens=True)\n",
    "\n",
    "            label_texts = []\n",
    "            for label in labels:\n",
    "                label_ids = [token_id for token_id in label.tolist() if token_id != -100]\n",
    "                label_texts.append(tokenizer.decode(label_ids, skip_special_tokens=True))\n",
    "\n",
    "            predictions.extend(generated_texts)\n",
    "            references.extend(label_texts)\n",
    "\n",
    "            if len(samples_to_print) < num_samples:\n",
    "                src_texts = tokenizer.batch_decode(input_ids, skip_special_tokens=True)\n",
    "                for src, ref, pred in zip(src_texts, label_texts, generated_texts):\n",
    "                    samples_to_print.append((src, ref, pred))\n",
    "                    if len(samples_to_print) >= num_samples:\n",
    "                        break\n",
    "\n",
    "    # Tính ROUGE\n",
    "    results = rouge.compute(predictions=predictions, references=references, use_stemmer=True)\n",
    "\n",
    "    print(\"\\n📊 ROUGE Scores:\")\n",
    "    for key in results:\n",
    "        print(f\"{key}: {results[key]:.4f}\")\n",
    "\n",
    "    print(\"\\n📝 Sample Results:\")\n",
    "    for i, (src, ref, pred) in enumerate(samples_to_print):\n",
    "        print(f\"\\n--- Sample {i+1} ---\")\n",
    "        print(f\"[Prompt]    {src}\")\n",
    "        print(f\"[Reference] {ref}\")\n",
    "        print(f\"[Generated] {pred}\")\n"
   ]
  },
  {
   "cell_type": "code",
   "execution_count": 23,
   "metadata": {
    "execution": {
     "iopub.execute_input": "2025-03-30T03:33:26.380760Z",
     "iopub.status.busy": "2025-03-30T03:33:26.380458Z",
     "iopub.status.idle": "2025-03-30T03:37:35.003000Z",
     "shell.execute_reply": "2025-03-30T03:37:35.002094Z",
     "shell.execute_reply.started": "2025-03-30T03:33:26.380725Z"
    },
    "trusted": true
   },
   "outputs": [
    {
     "name": "stderr",
     "output_type": "stream",
     "text": [
      "Evaluating: 100%|██████████| 9/9 [04:04<00:00, 27.12s/it]\n"
     ]
    },
    {
     "name": "stdout",
     "output_type": "stream",
     "text": [
      "\n",
      "📊 ROUGE Scores:\n",
      "rouge1: 0.2621\n",
      "rouge2: 0.2599\n",
      "rougeL: 0.2610\n",
      "rougeLsum: 0.2608\n",
      "\n",
      "📝 Sample Results:\n",
      "\n",
      "--- Sample 1 ---\n",
      "[Prompt]    ### Lệnh:\n",
      "Bạn là một trợ lý tóm tắt văn bản. Hãy cung cấp bản tóm tắt ngắn gọn và chính xác trong 150 chữ cho bài viết sau. Bài viết: ﻿Sắp kiểm toán nợ xấu tại nhiều ngân hàng lớn\n",
      "Phó Tổng Kiểm toán Lê Minh Khái cho biết, năm 2013, KTNN sẽ tập trung kiểm toán 3 ngân hàng Vietinbank, Vietcombank và Agribank với mục tiêu đi sâu vào nợ xấu. Cũng theo KTNN, các kiến nghị đối với vấn đề vượt trần huy động tại BIDV và MHB chưa có kết quả.\n",
      "Trao đổi với PV Dân trí tại phiên họp báo Công bố báo cáo kiểm toán năm 2012, Phó Tổng Kiểm toán Lê Minh Khái cho biết, trong năm nay, cơ quan này sẽ thực hiện kiểm toán đối với 3 ngân hàng quốc doanh lớn.\n",
      "Các đơn vị này bao gồm Ngân hàng TMCP Công thương Việt Nam (Vietinbank), Ngân hàng TMCP Ngoại Thương Việt Nam (Vietcombank) và Ngân hàng Nông nghiệp và Phát triển nông thôn (Agribank).\n",
      "Bên cạnh những đánh giá chung như hàng năm, mục tiêu của đợt kiểm toán lần này sẽ đi sâu vào kiểm toán nợ xấu, để đưa ra một con số nợ xấu đến thời điểm 31/12/2012. Kiểm toán Nhà nước hy vọng sẽ có được những số liệu đến 30/6 theo kết quả thẩm tra của các đoàn kiểm toán để có được con số phù hợp với tình hình thực tế. \n",
      "Ông Khái cho rằng, với số liệu công bố hiện nay, con số nợ xấu rất khác nhau và các suy diễn qua đó cũng khác nhau.\n",
      "Với những mẫu chọn cho đợt kiểm toán năm 2013 và những yêu cầu đặt ra, KTNN cố gắng cuối năm nay sau khi làm việc xong với 3 ngân hàng này sẽ có con số riêng đến thời điểm 30/6.\n",
      "Đại diện cơ quan kiểm toán nhà nước cũng đưa ra đánh giá, chức năng giám sát của thanh tra NHNN rất quan trọng trong việc hỗ trợ NHNN đưa ra các chỉ đạo điều hành đúng hướng.\n",
      "So với đối tượng kiểm toán của KTNN chỉ trong phạm vi các ngân hàng thuộc Nhà nước hoặc do Nhà nước là chủ sở hữu chi phối thì đối tượng kiểm toán, kiểm soát của thanh tra NHNN rộng hơn, bao gồm cả những NHTM tư nhân, những ngân hàng mà nhà nước không chiếm cổ phần chi phối, các chi nhánh ngân hàng nước ngoài.\n",
      "Tuy nhiên, Phó Tổng Kiểm toán Lê Minh Khái cũng cho biết, đối với một số kiến nghị xử lý của KTNN sau khi thanh tra giám sát tại một số ngân hàng thương mại trong niên độ kiểm toán 2011, phía cơ quan thanh tra của NHNN chưa có ý kiến. \n",
      "Theo đó, KTNN đã có kiến nghị xử lý việc vượt trần lãi suất huy động tại Ngân hàng TMCP Đầu tư và Phát triển Việt Nam (BIDV) và ngân hàng Phát triển nhà Đồng bằng sông Cửu Long (MHB) trong năm 2011.\n",
      "Cụ thể, huy động vượt trần lãi suất so với quy định của NHNN tại 10 chi nhánh của BIDV là 3,2 tỷ đồng và tại MHB là 59,7 tỷ đồng. Tóm tắt: \n",
      "\n",
      "### Tóm tắt:\n",
      "﻿Phó Tổng Kiểm toán Lê Minh Khái cho biết,  KTNN sẽ tập trung kiểm toán 3 ngân hàng Vietinbank, Vietcombank và Agribank với mục tiêu đi sâu vào nợ xấu.\n",
      "Kiểm toán Nhà nước hy vọng sẽ có được những số liệu đến 30/6 để có được con số phù hợp với tình hình thực tế. \n",
      "Chức năng giám sát của thanh tra NHNN rất quan trọng trong việc hỗ trợ NHNN đưa ra các chỉ đạo điều hành đúng hướng.\n",
      "[Reference] ﻿Phó Tổng Kiểm toán Lê Minh Khái cho biết,  KTNN sẽ tập trung kiểm toán 3 ngân hàng Vietinbank, Vietcombank và Agribank với mục tiêu đi sâu vào nợ xấu.\n",
      "Kiểm toán Nhà nước hy vọng sẽ có được những số liệu đến 30/6 để có được con số phù hợp với tình hình thực tế. \n",
      "Chức năng giám sát của thanh tra NHNN rất quan trọng trong việc hỗ trợ NHNN đưa ra các chỉ đạo điều hành đúng hướng.\n",
      "[Generated] ### Lệnh:\n",
      "Bạn là một trợ lý tóm tắt văn bản. Hãy cung cấp bản tóm tắt ngắn gọn và chính xác trong 150 chữ cho bài viết sau. Bài viết: ﻿Sắp kiểm toán nợ xấu tại nhiều ngân hàng lớn\n",
      "Phó Tổng Kiểm toán Lê Minh Khái cho biết, năm 2013, KTNN sẽ tập trung kiểm toán 3 ngân hàng Vietinbank, Vietcombank và Agribank với mục tiêu đi sâu vào nợ xấu. Cũng theo KTNN, các kiến nghị đối với vấn đề vượt trần huy động tại BIDV và MHB chưa có kết quả.\n",
      "Trao đổi với PV Dân trí tại phiên họp báo Công bố báo cáo kiểm toán năm 2012, Phó Tổng Kiểm toán Lê Minh Khái cho biết, trong năm nay, cơ quan này sẽ thực hiện kiểm toán đối với 3 ngân hàng quốc doanh lớn.\n",
      "Các đơn vị này bao gồm Ngân hàng TMCP Công thương Việt Nam (Vietinbank), Ngân hàng TMCP Ngoại Thương Việt Nam (Vietcombank) và Ngân hàng Nông nghiệp và Phát triển nông thôn (Agribank).\n",
      "Bên cạnh những đánh giá chung như hàng năm, mục tiêu của đợt kiểm toán lần này sẽ đi sâu vào kiểm toán nợ xấu, để đưa ra một con số nợ xấu đến thời điểm 31/12/2012. Kiểm toán Nhà nước hy vọng sẽ có được những số liệu đến 30/6 theo kết quả thẩm tra của các đoàn kiểm toán để có được con số phù hợp với tình hình thực tế. \n",
      "Ông Khái cho rằng, với số liệu công bố hiện nay, con số nợ xấu rất khác nhau và các suy diễn qua đó cũng khác nhau.\n",
      "Với những mẫu chọn cho đợt kiểm toán năm 2013 và những yêu cầu đặt ra, KTNN cố gắng cuối năm nay sau khi làm việc xong với 3 ngân hàng này sẽ có con số riêng đến thời điểm 30/6.\n",
      "Đại diện cơ quan kiểm toán nhà nước cũng đưa ra đánh giá, chức năng giám sát của thanh tra NHNN rất quan trọng trong việc hỗ trợ NHNN đưa ra các chỉ đạo điều hành đúng hướng.\n",
      "So với đối tượng kiểm toán của KTNN chỉ trong phạm vi các ngân hàng thuộc Nhà nước hoặc do Nhà nước là chủ sở hữu chi phối thì đối tượng kiểm toán, kiểm soát của thanh tra NHNN rộng hơn, bao gồm cả những NHTM tư nhân, những ngân hàng mà nhà nước không chiếm cổ phần chi phối, các chi nhánh ngân hàng nước ngoài.\n",
      "Tuy nhiên, Phó Tổng Kiểm toán Lê Minh Khái cũng cho biết, đối với một số kiến nghị xử lý của KTNN sau khi thanh tra giám sát tại một số ngân hàng thương mại trong niên độ kiểm toán 2011, phía cơ quan thanh tra của NHNN chưa có ý kiến. \n",
      "Theo đó, KTNN đã có kiến nghị xử lý việc vượt trần lãi suất huy động tại Ngân hàng TMCP Đầu tư và Phát triển Việt Nam (BIDV) và ngân hàng Phát triển nhà Đồng bằng sông Cửu Long (MHB) trong năm 2011.\n",
      "Cụ thể, huy động vượt trần lãi suất so với quy định của NHNN tại 10 chi nhánh của BIDV là 3,2 tỷ đồng và tại MHB là 59,7 tỷ đồng. Tóm tắt: \n",
      "\n",
      "### Tóm tắt:\n",
      "﻿Phó Tổng Kiểm toán Lê Minh Khái cho biết,  KTNN sẽ tập trung kiểm toán 3 ngân hàng Vietinbank, Vietcombank và Agribank với mục tiêu đi sâu vào nợ xấu.\n",
      "Kiểm toán Nhà nước hy vọng sẽ có được những số liệu đến 30/6 để có được con số phù hợp với tình hình thực tế. \n",
      "Chức năng giám sát của thanh tra NHNN rất quan trọng trong việc hỗ trợ NHNN đưa ra các chỉ đạo điều hành đúng hướng. \n",
      "Đại diện cơ quan kiểm toán nhà nước cũng đưa ra đánh giá, chức năng giám sát của thanh tra NHNN rất quan trọng trong việc hỗ trợ NHNN đưa ra các chỉ đạo điều hành đúng hướng.\n",
      "So với đối tượng kiểm toán của KTNN chỉ trong phạm vi các ngân hàng thuộc Nhà nước hoặc do Nhà nước là chủ sở hữu chi phối thì đối tượng kiểm toán, kiểm soát của thanh tra NHNN rộng hơn, bao gồm cả những NHTM tư nhân, những ngân hàng mà nhà nước không chiếm cổ phần chi phối, các chi nhánh ngân hàng nước ngoài.\n",
      "\n",
      "--- Sample 2 ---\n",
      "[Prompt]    ### Lệnh:\n",
      "Bạn là một trợ lý tóm tắt văn bản. Hãy cung cấp bản tóm tắt ngắn gọn và chính xác trong 150 chữ cho bài viết sau. Bài viết: ﻿Ra mắt tác phẩm chuyên đề về Hoàng Sa và Trường Sa \n",
      "Thực hiện việc đẩy mạnh công tác tuyên truyền, giáo dục về biển, đảo trong các tầng lớp nhân dân nói chung và trong giáo viên, học sinh, sinh viên nói riêng, NXB Giáo dục Việt Nam vừa tiếp tục cho ra mắt một tác phẩm chuyên đề về Hoàng Sa và Trường Sa.\n",
      " Tác phẩm chuyên đề này có tên: \"Những bằng chứng về chủ quyền của Việt Nam đối với hai quần đảo Hoàng Sa, Trường Sa\" thuộc Tủ sách Biển - Đảo Việt Nam. \n",
      "Đây là một công trình nghiên cứu khoa học trong suốt 40 năm của tác giả Hãn Nguyên Nguyễn Nhã – một nhà nghiên cứu chuyên sâu về đề tài Hoàng Sa – Trường Sa. Công trình tâm huyết này dựa trên nguồn tư liệu phong phú, đa dạng được thu thập ở cả trong và ngoài nước; trong đó có tư liệu từ các văn bản mang tính lịch sử, tính pháp lí cao như châu bản triều Nguyễn, văn bản thực thi chủ quyền của chính quyền Tây Sơn, thư tịch và bản đồ cổ của nhà nước phong kiến Việt Nam, tư liệu và bản đồ cổ của phương Tây, và của chính người Trung Quốc liên quan đến việc khẳng định chủ quyền của Việt Nam tại hai quần đảo Hoàng Sa và Trường Sa.\n",
      "Nghiên cứu một cách hệ thống các nguồn tài liệu trên, nhất là các tư liệu trước năm 1909 (năm bắt đầu nảy sinh vấn đề tranh chấp chủ quyền Hoàng Sa), tác giả đã giúp bạn đọc nắm được quá trình phát hiện, chiếm hữu thật sự, thực thi chủ quyền ngay từ thế kỷ XVII của Nhà nước phong kiến Việt Nam qua sự quản lí, điều hành, hàng năm tổ chức các đội thuyền Hoàng Sa và Bắc Hải khảo sát đo đạc thủy trình, vẽ bản đồ, khai thác tài nguyên, xây dựng chùa miếu, dựng bia, trồng cây, kiến tạo cơ sở hạ tầng,… xem đó là biểu tượng chủ quyền của Việt Nam ở hai quần đảo Hoàng Sa và Trường Sa.\n",
      "Phương pháp nghiên cứu của tác giả tuân thủ nghiêm ngặt nguyên tắc khách quan, tôn trọng sự thật lịch sử, nâng niu trân trọng những sử liệu vô giá mà không một quốc gia nào có được. Những sử liệu này thể hiện ý chí, khí phách của nhiều thế hệ Việt Nam – những chủ nhân đầu tiên đã phát hiện, sở hữu thật sự hiệu quả quần đảo Hoàng Sa và quần đảo Trường Sa. Những sử liệu này hùng hồn chứng minh: Nhà nước Việt Nam qua các thời kì nối tiếp nhau liên tục khẳng định chủ quyền, thực thi quản lí hành chính đối với quần đảo Hoàng Sa và quần đảo Trường Sa theo nguyên tắc công khai trong hàng mấy trăm năm, mà từ năm 1909 trở về trước không có một quốc gia nào đặt ra vấn đề tranh chấp chủ quyền.\n",
      "Đọc những bằng chứng về chủ quyền của Việt Nam đối với hai quần đảo Hoàng Sa,Trường Sa, bạn đọc có thể hiểu rõ: chủ quyền của Việt Nam tại quần đảo Hoàng Sa và quần đảo Trường Sa đã được xác lập từ lâu, đó là sự thật lịch sử và điều này hoàn toàn phù hợp với luật pháp quốc tế.\n",
      "Ngoài ra, tác phẩm còn có 4 phụ lục giới thiệu niên biểu, một số văn bản; bản đồ - hình ảnh về Hoàng Sa, Trường Sa và Luật Biển được Quốc hội nước Cộng hòa Xã hội Chủ nghĩa Việt Nam thông qua vào tháng 6/2012.\n",
      "Đọc tác phẩm này bạn đọc trong nước và ngoài nước, nhất là các thầy giáo, cô giáo và học sinh, sinh viên sẽ hiểu thấu đáo hơn về chủ quyền của Việt Nam tại hai quần đảo Hoàng Sa và quần đảo Trường Sa. Việc làm này cũng có ý nghĩa thiết thực đối với việc giảng dạy, tuyên truyền sâu rộng về chủ quyền biển đảo Việt Nam, góp phần tích cực vào cuộc đấu tranh vì sự toàn vẹn chủ quyền lãnh thổ và biên giới quốc gia.\n",
      "Đánh giá về cuốn sách, Giáo sư Phan Huy Lê – Chủ tịch Hội Khoa học Lịch sử Việt Nam cho rằng: \"Đây là công trình nghiên cứu khoa học nghiêm túc, dựa trên những tư liệu phong phú, chứng cứ và lập luận rất khách quan. Tôi tin rằng cuốn sách sẽ đáp ứng được yêu cầu nghiên cứu, tìm hiểu của nhân dân, nhất là thế hệ trẻ. Tôi cũng hi vọng từ cuốn sách này, nội dung về chủ quyền của Việt Nam đối với quần đảo Hoàng Sa và quần đảo Trường Sa sẽ được đưa vào trong sách giáo khoa lịch sửcác trường phổ thông\".\n",
      "Những bằng chứng về chủ quyền của Việt Nam đối với hai quần đảo Hoàng Sa, Trường Sa là tập đầu tiên trong năm 2013 của Tủ sách Biển – Đảo Việt Nam do NXB Giáo dục Việt Nam tổ chức. Các tập còn lại là Hoàng Sa – Trường Sa trong vòng tay tổ quốc (hai tập) và cuốn sách ảnh Hoàng Sa – Trường Sa tuyến đầu Tổ quốc sẽ xuất bản trong thời gian tới.\n",
      "Được biết, sau khi nhận được chỉ đạo của Ban Tuyên giáo Trung ương, trong năm 2012, NXB Giáo dục Việt Nam đã xuất bản 2 tác phẩm: Việt Nam và Biển Đông; Biển, đảo với cuộc sống của chúng ta. Tóm tắt: \n",
      "\n",
      "### Tóm tắt:\n",
      "﻿ Tác phẩm chuyên đề \"Những bằng chứng về chủ quyền của Việtt Nam đối với hai quần đảo Hoàng Sa, Trường Sa\" là một công trình nghiên cứu khoa học trong suốt 40 nam của tác giả Hãn Nguyên Nguyên Nhã dựa trên nguồn tư liệu phong phú, da dạng được thu thập cả trong và ngoài nước khẳng định chủ quyền của Việt Nam tại hai quần đảo Hoàng Sa và Trường Sa. Phương pháp nghiên cứu của tác giả tuân thủ nghiêm ngặt nguyên tắc khách quan, tôn trọng sự thật lịch sử, nâng niu trân trọng những sử liệu vô giá mà không một quốc gia nào có được. Những bằng chứng về chủ quyền của Việt Nam đối với hai quần đảo Hoàng Sa, Trường Sa là tập đầu tiên trong năm 2013 của Tủ sách Biển – Đảo Việt Nam do NXB Giáo dục Việt Nam tổ chức. Các tập còn lại sẽ xuất bản trong thời gian tới.\n",
      "[Reference] ﻿ Tác phẩm chuyên đề \"Những bằng chứng về chủ quyền của Việtt Nam đối với hai quần đảo Hoàng Sa, Trường Sa\" là một công trình nghiên cứu khoa học trong suốt 40 nam của tác giả Hãn Nguyên Nguyên Nhã dựa trên nguồn tư liệu phong phú, da dạng được thu thập cả trong và ngoài nước khẳng định chủ quyền của Việt Nam tại hai quần đảo Hoàng Sa và Trường Sa. Phương pháp nghiên cứu của tác giả tuân thủ nghiêm ngặt nguyên tắc khách quan, tôn trọng sự thật lịch sử, nâng niu trân trọng những sử liệu vô giá mà không một quốc gia nào có được. Những bằng chứng về chủ quyền của Việt Nam đối với hai quần đảo Hoàng Sa, Trường Sa là tập đầu tiên trong năm 2013 của Tủ sách Biển – Đảo Việt Nam do NXB Giáo dục Việt Nam tổ chức. Các tập còn lại sẽ xuất bản trong thời gian tới.\n",
      "[Generated] ### Lệnh:\n",
      "Bạn là một trợ lý tóm tắt văn bản. Hãy cung cấp bản tóm tắt ngắn gọn và chính xác trong 150 chữ cho bài viết sau. Bài viết: ﻿Ra mắt tác phẩm chuyên đề về Hoàng Sa và Trường Sa \n",
      "Thực hiện việc đẩy mạnh công tác tuyên truyền, giáo dục về biển, đảo trong các tầng lớp nhân dân nói chung và trong giáo viên, học sinh, sinh viên nói riêng, NXB Giáo dục Việt Nam vừa tiếp tục cho ra mắt một tác phẩm chuyên đề về Hoàng Sa và Trường Sa.\n",
      " Tác phẩm chuyên đề này có tên: \"Những bằng chứng về chủ quyền của Việt Nam đối với hai quần đảo Hoàng Sa, Trường Sa\" thuộc Tủ sách Biển - Đảo Việt Nam. \n",
      "Đây là một công trình nghiên cứu khoa học trong suốt 40 năm của tác giả Hãn Nguyên Nguyễn Nhã – một nhà nghiên cứu chuyên sâu về đề tài Hoàng Sa – Trường Sa. Công trình tâm huyết này dựa trên nguồn tư liệu phong phú, đa dạng được thu thập ở cả trong và ngoài nước; trong đó có tư liệu từ các văn bản mang tính lịch sử, tính pháp lí cao như châu bản triều Nguyễn, văn bản thực thi chủ quyền của chính quyền Tây Sơn, thư tịch và bản đồ cổ của nhà nước phong kiến Việt Nam, tư liệu và bản đồ cổ của phương Tây, và của chính người Trung Quốc liên quan đến việc khẳng định chủ quyền của Việt Nam tại hai quần đảo Hoàng Sa và Trường Sa.\n",
      "Nghiên cứu một cách hệ thống các nguồn tài liệu trên, nhất là các tư liệu trước năm 1909 (năm bắt đầu nảy sinh vấn đề tranh chấp chủ quyền Hoàng Sa), tác giả đã giúp bạn đọc nắm được quá trình phát hiện, chiếm hữu thật sự, thực thi chủ quyền ngay từ thế kỷ XVII của Nhà nước phong kiến Việt Nam qua sự quản lí, điều hành, hàng năm tổ chức các đội thuyền Hoàng Sa và Bắc Hải khảo sát đo đạc thủy trình, vẽ bản đồ, khai thác tài nguyên, xây dựng chùa miếu, dựng bia, trồng cây, kiến tạo cơ sở hạ tầng,… xem đó là biểu tượng chủ quyền của Việt Nam ở hai quần đảo Hoàng Sa và Trường Sa.\n",
      "Phương pháp nghiên cứu của tác giả tuân thủ nghiêm ngặt nguyên tắc khách quan, tôn trọng sự thật lịch sử, nâng niu trân trọng những sử liệu vô giá mà không một quốc gia nào có được. Những sử liệu này thể hiện ý chí, khí phách của nhiều thế hệ Việt Nam – những chủ nhân đầu tiên đã phát hiện, sở hữu thật sự hiệu quả quần đảo Hoàng Sa và quần đảo Trường Sa. Những sử liệu này hùng hồn chứng minh: Nhà nước Việt Nam qua các thời kì nối tiếp nhau liên tục khẳng định chủ quyền, thực thi quản lí hành chính đối với quần đảo Hoàng Sa và quần đảo Trường Sa theo nguyên tắc công khai trong hàng mấy trăm năm, mà từ năm 1909 trở về trước không có một quốc gia nào đặt ra vấn đề tranh chấp chủ quyền.\n",
      "Đọc những bằng chứng về chủ quyền của Việt Nam đối với hai quần đảo Hoàng Sa,Trường Sa, bạn đọc có thể hiểu rõ: chủ quyền của Việt Nam tại quần đảo Hoàng Sa và quần đảo Trường Sa đã được xác lập từ lâu, đó là sự thật lịch sử và điều này hoàn toàn phù hợp với luật pháp quốc tế.\n",
      "Ngoài ra, tác phẩm còn có 4 phụ lục giới thiệu niên biểu, một số văn bản; bản đồ - hình ảnh về Hoàng Sa, Trường Sa và Luật Biển được Quốc hội nước Cộng hòa Xã hội Chủ nghĩa Việt Nam thông qua vào tháng 6/2012.\n",
      "Đọc tác phẩm này bạn đọc trong nước và ngoài nước, nhất là các thầy giáo, cô giáo và học sinh, sinh viên sẽ hiểu thấu đáo hơn về chủ quyền của Việt Nam tại hai quần đảo Hoàng Sa và quần đảo Trường Sa. Việc làm này cũng có ý nghĩa thiết thực đối với việc giảng dạy, tuyên truyền sâu rộng về chủ quyền biển đảo Việt Nam, góp phần tích cực vào cuộc đấu tranh vì sự toàn vẹn chủ quyền lãnh thổ và biên giới quốc gia.\n",
      "Đánh giá về cuốn sách, Giáo sư Phan Huy Lê – Chủ tịch Hội Khoa học Lịch sử Việt Nam cho rằng: \"Đây là công trình nghiên cứu khoa học nghiêm túc, dựa trên những tư liệu phong phú, chứng cứ và lập luận rất khách quan. Tôi tin rằng cuốn sách sẽ đáp ứng được yêu cầu nghiên cứu, tìm hiểu của nhân dân, nhất là thế hệ trẻ. Tôi cũng hi vọng từ cuốn sách này, nội dung về chủ quyền của Việt Nam đối với quần đảo Hoàng Sa và quần đảo Trường Sa sẽ được đưa vào trong sách giáo khoa lịch sửcác trường phổ thông\".\n",
      "Những bằng chứng về chủ quyền của Việt Nam đối với hai quần đảo Hoàng Sa, Trường Sa là tập đầu tiên trong năm 2013 của Tủ sách Biển – Đảo Việt Nam do NXB Giáo dục Việt Nam tổ chức. Các tập còn lại là Hoàng Sa – Trường Sa trong vòng tay tổ quốc (hai tập) và cuốn sách ảnh Hoàng Sa – Trường Sa tuyến đầu Tổ quốc sẽ xuất bản trong thời gian tới.\n",
      "Được biết, sau khi nhận được chỉ đạo của Ban Tuyên giáo Trung ương, trong năm 2012, NXB Giáo dục Việt Nam đã xuất bản 2 tác phẩm: Việt Nam và Biển Đông; Biển, đảo với cuộc sống của chúng ta. Tóm tắt: \n",
      "\n",
      "### Tóm tắt:\n",
      "﻿ Tác phẩm chuyên đề \"Những bằng chứng về chủ quyền của Việtt Nam đối với hai quần đảo Hoàng Sa, Trường Sa\" là một công trình nghiên cứu khoa học trong suốt 40 nam của tác giả Hãn Nguyên Nguyên Nhã dựa trên nguồn tư liệu phong phú, da dạng được thu thập cả trong và ngoài nước khẳng định chủ quyền của Việt Nam tại hai quần đảo Hoàng Sa và Trường Sa. Phương pháp nghiên cứu của tác giả tuân thủ nghiêm ngặt nguyên tắc khách quan, tôn trọng sự thật lịch sử, nâng niu trân trọng những sử liệu vô giá mà không một quốc gia nào có được. Những bằng chứng về chủ quyền của Việt Nam đối với hai quần đảo Hoàng Sa, Trường Sa là tập đầu tiên trong năm 2013 của Tủ sách Biển – Đảo Việt Nam do NXB Giáo dục Việt Nam tổ chức. Các tập còn lại sẽ xuất bản trong thời gian tới. Được biết, sau khi nhận được chỉ đạo của Ban Tuyên giáo Trung ương, trong năm 2012, NXB Giáo dục Việt Nam đã xuất bản 2 tác phẩm: Việt Nam và Biển Đông; Biển, đảo với cuộc sống của chúng ta.\n",
      "\n",
      "--- Sample 3 ---\n",
      "[Prompt]    ### Lệnh:\n",
      "Bạn là một trợ lý tóm tắt văn bản. Hãy cung cấp bản tóm tắt ngắn gọn và chính xác trong 150 chữ cho bài viết sau. Bài viết: ﻿Hòn Vọng Thê lẻ loi giữa tứ giác Long Xuyên\n",
      "Núi Ba Thê có tên chữ là Hoa Thê Sơn,  dân gian thường gọi là Vọng Thê.  Nơi đây đẹp như chốn bồng lai tiên cảnh, địa danh này gắn với nhiều sự tích và huyền thoại của một nền văn minh, một thời kỳ phồn thịnh, rực rỡ trong quá khứ. \n",
      "Tương truyền, xưa có một người đàn ông lên núi tu hành, xa lánh thế gian, bụi đời song lòng vẫn còn chưa rũ sạch bụi trần, nên chiều chiều ngóng vọng về phương xa, nhớ nhà, nhớ vợ, sau đó chết đi.  Người ta cho rặng vị sư kia đã hóa đá, thành  \"Hòn Vọng Thê\" trên một ngọn núi nằm lẻ loi giữa tứ giác Long Xuyên. \n",
      "Qua thị trấn Núi Sập (nay có tên mới là thị trấn Óc Eo) là đến chợ Ba Thê.  Nơi đây từng là một thương cảng phồn thịnh thời trung cổ, bị vùi lấp dưới lớp đất phù sa hơn 3 m.  Người ta đã phát hiện di chỉ này vào năm 1942 và khám phá ra thành cổ Óc Eo vào năm 1944, lúc đào kinh xáng Ba Thê.  Nhiều cổ vật thu được như khuôn chế tác vật dụng và nữ trang bằng gốm, đá, vàng, đồng đã thu được từ địa điểm này.  Các tượng đá mang dấu ấn văn hóa phật giáo và Hindu giáo rất đa dạng như: tượng Phật, linh vật, Yoni và Linga có niên đại cách đây trên dưới 1. 500 năm.  Đặc biệt là nhóm tượng Ganesa với mình người, đầu voi trông rất ấn tượng.  Bảo tàng tỉnh An Giang hiện có trưng bày nhiều hiện vật và phiên bản của nhiều cổ vật, tượng, xương thú hóa thạch... Trên đỉnh Vọng Thê có ngôi chùa cổ tên Sơn Tiên Tự, dựng vào năm 1933.  Trước sân chùa có tượng phật quan thế âm bồ tát cao chừng 8 m, đứng trên tòa sen, khoác áo choàng đỏ, uy nghi, tự tại, sừng sững trên đỉnh như nhìn bao quát khắp thế gian.  Ở trên đỉnh núi, mây bay là đà, mang hơi sương mát lạnh, cỏ cây xanh tốt ngút ngàn. Có nhiều tiếng chim hót líu lo, ríu rít khắp nơi. Thỉnh thoảng tiếng chuông chùa ngân vọng thênh thang, bàng bạc khắp núi rừng làm bâng khuâng, xao xuyến lòng người. \n",
      "Đứng trên chóp đỉnh núi phóng tầm mắt nhìn bao quát cả khu vực: núi Ba Thê thật khoáng đạt.  Quanh núi là những cánh đồng trải rộng, xa xa về hướng tây là vùng biển Rạch Giá, chênh chếch hướng tây nam là dãy Thất Sơn hùng vĩ án ngữ chân trời.  Mây bay là đà mang hơi sương mát lạnh, cỏ cây xanh tốt ngút ngàn, chim lích rích trong rừng lá ken dày.  Thỉnh thoảng một tiếng chuông từ Sơn Tiên tự lại ngân vọng khắp núi rừng làm bâng khuâng hồn người. Sơn Tiên tự là một ngôi chùa cổ trên đỉnh Ba Thê được dựng vào năm 1933.  Nơi đây có một hòn đá hoa cương cao chừng ba mét, to cỡ gốc cổ thụ bốn người ôm không xuể, nằm bên hông chánh điện.  Trên mặt viên đá khổng lồ ấy có dấu bàn chân người, to hơn bình thường một chút nhưng rất rõ.  Người ta vẫn gọi đó là \"bàn chân Tiên\" bởi theo truyền thuyết, lúc mới tạo sơn, đá núi còn mềm như đất sét, có một vị tiên đã ấn bàn chân mình lên đá để làm dấu. \n",
      "Ở phía Bắc của đỉnh Ba Thê còn có một tảng đá có dáng hình như một cây đao vĩ đại, được coi là \"bửu bối\" của trời đất để trừng trị bọn gian ác.  Truyền miệng dân gian kể rằng, từ rất xa xưa, trong một đêm mưa gió, lưỡi tầm sét đã đánh vào tảng đá lớn trên đỉnh núi này. Tảng đá bị chẻ nhỏ, hiện lên một cây đại đao.  Người ta đã dựng cây đại đao \"trời cho\" bằng đá này vươn cao trên đỉnh núi, chĩa thẳng lên mây trắng trời cao, dựng miếu thờ và tượng Phật, cầu cho hùng khí hưng phát, non sông, đất nước bền vững. \n",
      "Dưới triền núi cách chùa Sơn Tiên chừng mười mét có một công trình rất lạ mắt là nhà trưng bày những cổ vật, hiện vật có liên quan đến lịch sử cũng như văn hóa của Ba Thê - Óc Eo.  Công trình này có phong cách kiến trúc mang dấu ấn của Ấn Độ giáo thể hiện rất rõ qua mái vòm tròn đứng, cửa hình chữ nhật cao, nhiều tầng, đầu vuốt chữ U ngược.  Các mặt vách chung quanh công trình đều có tượng thần Ganesa mình người, đầu voi, ngồi với tư thế nghiêm trang, nửa như trầm mặc thiền định, nửa như răn đe canh giữ. Tóm tắt: \n",
      "\n",
      "### Tóm tắt:\n",
      "﻿Núi Ba Thê có tên chữ là Hoa Thê Sơn,  dân gian thường gọi là Vọng Thê. Xưa có một người đàn ông lên núi tu hành,nên chiều chiều ngóng vọng về phương xa sau đó chết đi. Người ta cho rặng vị sư kia đã hóa đá, thành  \"Hòn Vọng Thê\" trên một ngọn núi nằm lẻ loi giữa tứ giác Long Xuyên. Trên đỉnh Vọng Thê có ngôi chùa cổ tên Sơn Tiên Tự, dựng vào năm 1933. Quanh núi là những cánh đồng trải rộng, xa xa về hướng tây là vùng biển Rạch Giá, chênh chếch hướng tây nam là dãy Thất Sơn hùng vĩ án ngữ chân trời. Dưới triền núi có một công trình rất lạ mắt là nhà trưng bày những cổ vật, hiện vật liên quan đến lịch sử cũng như văn hóa của Ba Thê - Óc Eo.\n",
      "[Reference] ﻿Núi Ba Thê có tên chữ là Hoa Thê Sơn,  dân gian thường gọi là Vọng Thê. Xưa có một người đàn ông lên núi tu hành,nên chiều chiều ngóng vọng về phương xa sau đó chết đi. Người ta cho rặng vị sư kia đã hóa đá, thành  \"Hòn Vọng Thê\" trên một ngọn núi nằm lẻ loi giữa tứ giác Long Xuyên. Trên đỉnh Vọng Thê có ngôi chùa cổ tên Sơn Tiên Tự, dựng vào năm 1933. Quanh núi là những cánh đồng trải rộng, xa xa về hướng tây là vùng biển Rạch Giá, chênh chếch hướng tây nam là dãy Thất Sơn hùng vĩ án ngữ chân trời. Dưới triền núi có một công trình rất lạ mắt là nhà trưng bày những cổ vật, hiện vật liên quan đến lịch sử cũng như văn hóa của Ba Thê - Óc Eo.\n",
      "[Generated] ### Lệnh:\n",
      "Bạn là một trợ lý tóm tắt văn bản. Hãy cung cấp bản tóm tắt ngắn gọn và chính xác trong 150 chữ cho bài viết sau. Bài viết: ﻿Hòn Vọng Thê lẻ loi giữa tứ giác Long Xuyên\n",
      "Núi Ba Thê có tên chữ là Hoa Thê Sơn,  dân gian thường gọi là Vọng Thê.  Nơi đây đẹp như chốn bồng lai tiên cảnh, địa danh này gắn với nhiều sự tích và huyền thoại của một nền văn minh, một thời kỳ phồn thịnh, rực rỡ trong quá khứ. \n",
      "Tương truyền, xưa có một người đàn ông lên núi tu hành, xa lánh thế gian, bụi đời song lòng vẫn còn chưa rũ sạch bụi trần, nên chiều chiều ngóng vọng về phương xa, nhớ nhà, nhớ vợ, sau đó chết đi.  Người ta cho rặng vị sư kia đã hóa đá, thành  \"Hòn Vọng Thê\" trên một ngọn núi nằm lẻ loi giữa tứ giác Long Xuyên. \n",
      "Qua thị trấn Núi Sập (nay có tên mới là thị trấn Óc Eo) là đến chợ Ba Thê.  Nơi đây từng là một thương cảng phồn thịnh thời trung cổ, bị vùi lấp dưới lớp đất phù sa hơn 3 m.  Người ta đã phát hiện di chỉ này vào năm 1942 và khám phá ra thành cổ Óc Eo vào năm 1944, lúc đào kinh xáng Ba Thê.  Nhiều cổ vật thu được như khuôn chế tác vật dụng và nữ trang bằng gốm, đá, vàng, đồng đã thu được từ địa điểm này.  Các tượng đá mang dấu ấn văn hóa phật giáo và Hindu giáo rất đa dạng như: tượng Phật, linh vật, Yoni và Linga có niên đại cách đây trên dưới 1. 500 năm.  Đặc biệt là nhóm tượng Ganesa với mình người, đầu voi trông rất ấn tượng.  Bảo tàng tỉnh An Giang hiện có trưng bày nhiều hiện vật và phiên bản của nhiều cổ vật, tượng, xương thú hóa thạch... Trên đỉnh Vọng Thê có ngôi chùa cổ tên Sơn Tiên Tự, dựng vào năm 1933.  Trước sân chùa có tượng phật quan thế âm bồ tát cao chừng 8 m, đứng trên tòa sen, khoác áo choàng đỏ, uy nghi, tự tại, sừng sững trên đỉnh như nhìn bao quát khắp thế gian.  Ở trên đỉnh núi, mây bay là đà, mang hơi sương mát lạnh, cỏ cây xanh tốt ngút ngàn. Có nhiều tiếng chim hót líu lo, ríu rít khắp nơi. Thỉnh thoảng tiếng chuông chùa ngân vọng thênh thang, bàng bạc khắp núi rừng làm bâng khuâng, xao xuyến lòng người. \n",
      "Đứng trên chóp đỉnh núi phóng tầm mắt nhìn bao quát cả khu vực: núi Ba Thê thật khoáng đạt.  Quanh núi là những cánh đồng trải rộng, xa xa về hướng tây là vùng biển Rạch Giá, chênh chếch hướng tây nam là dãy Thất Sơn hùng vĩ án ngữ chân trời.  Mây bay là đà mang hơi sương mát lạnh, cỏ cây xanh tốt ngút ngàn, chim lích rích trong rừng lá ken dày.  Thỉnh thoảng một tiếng chuông từ Sơn Tiên tự lại ngân vọng khắp núi rừng làm bâng khuâng hồn người. Sơn Tiên tự là một ngôi chùa cổ trên đỉnh Ba Thê được dựng vào năm 1933.  Nơi đây có một hòn đá hoa cương cao chừng ba mét, to cỡ gốc cổ thụ bốn người ôm không xuể, nằm bên hông chánh điện.  Trên mặt viên đá khổng lồ ấy có dấu bàn chân người, to hơn bình thường một chút nhưng rất rõ.  Người ta vẫn gọi đó là \"bàn chân Tiên\" bởi theo truyền thuyết, lúc mới tạo sơn, đá núi còn mềm như đất sét, có một vị tiên đã ấn bàn chân mình lên đá để làm dấu. \n",
      "Ở phía Bắc của đỉnh Ba Thê còn có một tảng đá có dáng hình như một cây đao vĩ đại, được coi là \"bửu bối\" của trời đất để trừng trị bọn gian ác.  Truyền miệng dân gian kể rằng, từ rất xa xưa, trong một đêm mưa gió, lưỡi tầm sét đã đánh vào tảng đá lớn trên đỉnh núi này. Tảng đá bị chẻ nhỏ, hiện lên một cây đại đao.  Người ta đã dựng cây đại đao \"trời cho\" bằng đá này vươn cao trên đỉnh núi, chĩa thẳng lên mây trắng trời cao, dựng miếu thờ và tượng Phật, cầu cho hùng khí hưng phát, non sông, đất nước bền vững. \n",
      "Dưới triền núi cách chùa Sơn Tiên chừng mười mét có một công trình rất lạ mắt là nhà trưng bày những cổ vật, hiện vật có liên quan đến lịch sử cũng như văn hóa của Ba Thê - Óc Eo.  Công trình này có phong cách kiến trúc mang dấu ấn của Ấn Độ giáo thể hiện rất rõ qua mái vòm tròn đứng, cửa hình chữ nhật cao, nhiều tầng, đầu vuốt chữ U ngược.  Các mặt vách chung quanh công trình đều có tượng thần Ganesa mình người, đầu voi, ngồi với tư thế nghiêm trang, nửa như trầm mặc thiền định, nửa như răn đe canh giữ. Tóm tắt: \n",
      "\n",
      "### Tóm tắt:\n",
      "﻿Núi Ba Thê có tên chữ là Hoa Thê Sơn,  dân gian thường gọi là Vọng Thê. Xưa có một người đàn ông lên núi tu hành,nên chiều chiều ngóng vọng về phương xa sau đó chết đi. Người ta cho rặng vị sư kia đã hóa đá, thành  \"Hòn Vọng Thê\" trên một ngọn núi nằm lẻ loi giữa tứ giác Long Xuyên. Trên đỉnh Vọng Thê có ngôi chùa cổ tên Sơn Tiên Tự, dựng vào năm 1933. Quanh núi là những cánh đồng trải rộng, xa xa về hướng tây là vùng biển Rạch Giá, chênh chếch hướng tây nam là dãy Thất Sơn hùng vĩ án ngữ chân trời. Dưới triền núi có một công trình rất lạ mắt là nhà trưng bày những cổ vật, hiện vật liên quan đến lịch sử cũng như văn hóa của Ba Thê - Óc Eo. Tóm tắt: Núi Ba Thê có tên chữ là Hoa Thê Sơn,  dân gian thường gọi là Vọng Thê. Xưa có một người đàn ông lên núi tu hành,nên chiều chiều ngóng vọng về phương xa sau đó chết đi. Người ta cho rặng vị sư kia đã hóa đá, thành  \"Hòn Vọng Thê\" trên một ngọn núi nằm lẻ loi giữa tứ giác Long Xuyên. Trên đỉnh Vọng Thê có ngôi chùa cổ tên Sơn Tiên Tự, dựng vào năm 1933. Quanh núi là những cánh đồng\n"
     ]
    }
   ],
   "source": [
    "evaluate_after_training(model, val_loader, tokenizer, device)"
   ]
  },
  {
   "cell_type": "code",
   "execution_count": null,
   "metadata": {
    "execution": {
     "iopub.status.busy": "2025-03-29T17:46:44.414481Z",
     "iopub.status.idle": "2025-03-29T17:46:44.414922Z",
     "shell.execute_reply": "2025-03-29T17:46:44.414737Z"
    },
    "trusted": true
   },
   "outputs": [],
   "source": [
    "#model_id = \"/kaggle/input/llama_finetune_v1.3/transformers/default/1/data_llama_finetune_v1.3\""
   ]
  },
  {
   "cell_type": "code",
   "execution_count": null,
   "metadata": {
    "execution": {
     "iopub.status.busy": "2025-03-29T17:49:41.783390Z",
     "iopub.status.idle": "2025-03-29T17:49:41.783795Z",
     "shell.execute_reply": "2025-03-29T17:49:41.783627Z"
    },
    "trusted": true
   },
   "outputs": [],
   "source": [
    "bnb_config = BitsAndBytesConfig(\n",
    "    load_in_4bit=True,\n",
    "    bnb_4bit_use_double_quant=True,\n",
    "    bnb_4bit_quant_type=\"nf4\",\n",
    "    bnb_4bit_compute_dtype=torch.float16,\n",
    ")\n",
    "\n",
    "tokenizer = AutoTokenizer.from_pretrained(model_id)\n",
    "if tokenizer.pad_token is None:\n",
    "    tokenizer.pad_token = tokenizer.eos_token\n",
    "tokenizer.padding_side = \"left\"\n",
    "\n",
    "model = AutoModelForCausalLM.from_pretrained(\n",
    "    model_id,\n",
    "    quantization_config=bnb_config,\n",
    "    device_map={\"\": 0},\n",
    ")\n",
    "\n",
    "# 4. QLoRA config\n",
    "peft_config = LoraConfig(\n",
    "    r=8,\n",
    "    lora_alpha=16,\n",
    "    lora_dropout=0.05,\n",
    "    bias=\"none\",\n",
    "    task_type=\"CAUSAL_LM\"\n",
    ")\n",
    "\n",
    "model = prepare_model_for_kbit_training(model)\n",
    "model = get_peft_model(model, peft_config)\n",
    "model.gradient_checkpointing_enable()"
   ]
  },
  {
   "cell_type": "code",
   "execution_count": 15,
   "metadata": {
    "execution": {
     "iopub.execute_input": "2025-03-30T02:47:05.280092Z",
     "iopub.status.busy": "2025-03-30T02:47:05.279777Z",
     "iopub.status.idle": "2025-03-30T02:47:05.558123Z",
     "shell.execute_reply": "2025-03-30T02:47:05.557138Z",
     "shell.execute_reply.started": "2025-03-30T02:47:05.280070Z"
    },
    "trusted": true
   },
   "outputs": [
    {
     "data": {
      "application/vnd.jupyter.widget-view+json": {
       "model_id": "33d59a9ff0c14ca192f48e49f069f7d6",
       "version_major": 2,
       "version_minor": 0
      },
      "text/plain": [
       "Generating train split: 0 examples [00:00, ? examples/s]"
      ]
     },
     "metadata": {},
     "output_type": "display_data"
    }
   ],
   "source": [
    "data_path = \"/kaggle/input/data-llama-finetune/vi_data_llama_finetune.json\"\n",
    "\n",
    "full_dataset = load_dataset(\"json\", data_files=data_path, split=\"train\")\n",
    "dataset = full_dataset.train_test_split(test_size=0.1)"
   ]
  },
  {
   "cell_type": "code",
   "execution_count": 16,
   "metadata": {
    "execution": {
     "iopub.execute_input": "2025-03-30T02:47:05.559463Z",
     "iopub.status.busy": "2025-03-30T02:47:05.559168Z",
     "iopub.status.idle": "2025-03-30T02:47:06.560668Z",
     "shell.execute_reply": "2025-03-30T02:47:06.559751Z",
     "shell.execute_reply.started": "2025-03-30T02:47:05.559433Z"
    },
    "trusted": true
   },
   "outputs": [
    {
     "data": {
      "application/vnd.jupyter.widget-view+json": {
       "model_id": "63f0df7cee7f4be88daf765ecb29f0e4",
       "version_major": 2,
       "version_minor": 0
      },
      "text/plain": [
       "Map:   0%|          | 0/144 [00:00<?, ? examples/s]"
      ]
     },
     "metadata": {},
     "output_type": "display_data"
    },
    {
     "data": {
      "application/vnd.jupyter.widget-view+json": {
       "model_id": "d5f8410674814bf28a043a33a29c3e04",
       "version_major": 2,
       "version_minor": 0
      },
      "text/plain": [
       "Map:   0%|          | 0/17 [00:00<?, ? examples/s]"
      ]
     },
     "metadata": {},
     "output_type": "display_data"
    }
   ],
   "source": [
    "def tokenize(example, max_length=2048):\n",
    "    # Tạo chuỗi input theo định dạng:\n",
    "    # \"### Prompt:\\n<prompt>\\n\\n### Summary:\\n\" + summary\n",
    "    prompt = f\"### Lệnh:\\n{example['prompt']}\\n\\n### Tóm tắt:\\n\"\n",
    "    summary = example[\"summary\"]\n",
    "    \n",
    "    # Mã hóa riêng prompt và summary (không thêm special tokens)\n",
    "    prompt_ids = tokenizer.encode(prompt, add_special_tokens=False)\n",
    "    summary_ids = tokenizer.encode(summary, add_special_tokens=False)\n",
    "    \n",
    "    # Kiểm tra tổng số token\n",
    "    total_length = len(prompt_ids) + len(summary_ids)\n",
    "    if total_length > max_length:\n",
    "        overflow = total_length - max_length\n",
    "        # Ưu tiên giữ lại phần summary; cắt bớt prompt\n",
    "        if overflow < len(prompt_ids):\n",
    "            prompt_ids = prompt_ids[:-overflow]\n",
    "        else:\n",
    "            prompt_ids = []  # Nếu quá tràn, bỏ hết prompt\n",
    "    \n",
    "    # Nối prompt và summary\n",
    "    input_ids = prompt_ids + summary_ids\n",
    "    attention_mask = [1] * len(input_ids)\n",
    "    \n",
    "    # Tạo labels: phần prompt được mask bằng -100, phần summary giữ nguyên token IDs\n",
    "    labels = [-100] * len(prompt_ids) + summary_ids\n",
    "    \n",
    "    # Padding tất cả các trường về độ dài max_length\n",
    "    padding_length = max_length - len(input_ids)\n",
    "    if padding_length > 0:\n",
    "        input_ids = input_ids + [tokenizer.pad_token_id] * padding_length\n",
    "        attention_mask = attention_mask + [0] * padding_length\n",
    "        labels = labels + [-100] * padding_length\n",
    "    else:\n",
    "        # Nếu quá dài, cắt bớt (nên không xảy ra nhờ truncation ở trên)\n",
    "        input_ids = input_ids[:max_length]\n",
    "        attention_mask = attention_mask[:max_length]\n",
    "        labels = labels[:max_length]\n",
    "    \n",
    "    return {\n",
    "        \"input_ids\": input_ids,\n",
    "        \"attention_mask\": attention_mask,\n",
    "        \"labels\": labels,\n",
    "    }\n",
    "tokenized_dataset = dataset.map(tokenize, batched=False, fn_kwargs={\"max_length\": 2048})\n",
    "tokenized_dataset.set_format(type=\"torch\", columns=[\"input_ids\", \"attention_mask\", \"labels\"])\n",
    "\n",
    "collator = default_data_collator\n",
    "\n",
    "train_loader = DataLoader(\n",
    "    tokenized_dataset[\"train\"],\n",
    "    batch_size=2,\n",
    "    shuffle=True,\n",
    "    collate_fn=collator\n",
    ")\n",
    "\n",
    "val_loader = DataLoader(\n",
    "    tokenized_dataset[\"test\"],\n",
    "    batch_size=2,\n",
    "    shuffle=False,\n",
    "    collate_fn=collator\n",
    ")\n"
   ]
  },
  {
   "cell_type": "code",
   "execution_count": 17,
   "metadata": {
    "execution": {
     "iopub.execute_input": "2025-03-30T02:47:06.561929Z",
     "iopub.status.busy": "2025-03-30T02:47:06.561629Z",
     "iopub.status.idle": "2025-03-30T02:47:06.578415Z",
     "shell.execute_reply": "2025-03-30T02:47:06.577522Z",
     "shell.execute_reply.started": "2025-03-30T02:47:06.561892Z"
    },
    "trusted": true
   },
   "outputs": [
    {
     "data": {
      "text/plain": [
       "PeftModelForCausalLM(\n",
       "  (base_model): LoraModel(\n",
       "    (model): LlamaForCausalLM(\n",
       "      (model): LlamaModel(\n",
       "        (embed_tokens): Embedding(128256, 2048)\n",
       "        (layers): ModuleList(\n",
       "          (0-15): 16 x LlamaDecoderLayer(\n",
       "            (self_attn): LlamaSdpaAttention(\n",
       "              (q_proj): lora.Linear4bit(\n",
       "                (base_layer): Linear4bit(in_features=2048, out_features=2048, bias=False)\n",
       "                (lora_dropout): ModuleDict(\n",
       "                  (default): Dropout(p=0.05, inplace=False)\n",
       "                )\n",
       "                (lora_A): ModuleDict(\n",
       "                  (default): Linear(in_features=2048, out_features=8, bias=False)\n",
       "                )\n",
       "                (lora_B): ModuleDict(\n",
       "                  (default): Linear(in_features=8, out_features=2048, bias=False)\n",
       "                )\n",
       "                (lora_embedding_A): ParameterDict()\n",
       "                (lora_embedding_B): ParameterDict()\n",
       "                (lora_magnitude_vector): ModuleDict()\n",
       "              )\n",
       "              (k_proj): Linear4bit(in_features=2048, out_features=512, bias=False)\n",
       "              (v_proj): lora.Linear4bit(\n",
       "                (base_layer): Linear4bit(in_features=2048, out_features=512, bias=False)\n",
       "                (lora_dropout): ModuleDict(\n",
       "                  (default): Dropout(p=0.05, inplace=False)\n",
       "                )\n",
       "                (lora_A): ModuleDict(\n",
       "                  (default): Linear(in_features=2048, out_features=8, bias=False)\n",
       "                )\n",
       "                (lora_B): ModuleDict(\n",
       "                  (default): Linear(in_features=8, out_features=512, bias=False)\n",
       "                )\n",
       "                (lora_embedding_A): ParameterDict()\n",
       "                (lora_embedding_B): ParameterDict()\n",
       "                (lora_magnitude_vector): ModuleDict()\n",
       "              )\n",
       "              (o_proj): Linear4bit(in_features=2048, out_features=2048, bias=False)\n",
       "              (rotary_emb): LlamaRotaryEmbedding()\n",
       "            )\n",
       "            (mlp): LlamaMLP(\n",
       "              (gate_proj): Linear4bit(in_features=2048, out_features=8192, bias=False)\n",
       "              (up_proj): Linear4bit(in_features=2048, out_features=8192, bias=False)\n",
       "              (down_proj): Linear4bit(in_features=8192, out_features=2048, bias=False)\n",
       "              (act_fn): SiLU()\n",
       "            )\n",
       "            (input_layernorm): LlamaRMSNorm((2048,), eps=1e-05)\n",
       "            (post_attention_layernorm): LlamaRMSNorm((2048,), eps=1e-05)\n",
       "          )\n",
       "        )\n",
       "        (norm): LlamaRMSNorm((2048,), eps=1e-05)\n",
       "        (rotary_emb): LlamaRotaryEmbedding()\n",
       "      )\n",
       "      (lm_head): Linear(in_features=2048, out_features=128256, bias=False)\n",
       "    )\n",
       "  )\n",
       ")"
      ]
     },
     "execution_count": 17,
     "metadata": {},
     "output_type": "execute_result"
    }
   ],
   "source": [
    "optimizer = torch.optim.AdamW(model.parameters(), lr=1e-5)\n",
    "device = torch.device(\"cuda\" if torch.cuda.is_available() else \"cpu\")\n",
    "model.to(device)"
   ]
  },
  {
   "cell_type": "code",
   "execution_count": 18,
   "metadata": {
    "execution": {
     "iopub.execute_input": "2025-03-30T02:47:06.579625Z",
     "iopub.status.busy": "2025-03-30T02:47:06.579358Z",
     "iopub.status.idle": "2025-03-30T03:28:04.948294Z",
     "shell.execute_reply": "2025-03-30T03:28:04.947497Z",
     "shell.execute_reply.started": "2025-03-30T02:47:06.579591Z"
    },
    "trusted": true
   },
   "outputs": [
    {
     "name": "stdout",
     "output_type": "stream",
     "text": [
      "Epoch 1/3\n"
     ]
    },
    {
     "name": "stderr",
     "output_type": "stream",
     "text": [
      "Loss: 0.1810: 100%|██████████| 72/72 [13:38<00:00, 11.37s/it]\n"
     ]
    },
    {
     "name": "stdout",
     "output_type": "stream",
     "text": [
      "✅ Epoch 1 completed — Avg loss: 0.5657\n",
      "Epoch 2/3\n"
     ]
    },
    {
     "name": "stderr",
     "output_type": "stream",
     "text": [
      "Loss: 0.4362: 100%|██████████| 72/72 [13:39<00:00, 11.38s/it]\n"
     ]
    },
    {
     "name": "stdout",
     "output_type": "stream",
     "text": [
      "✅ Epoch 2 completed — Avg loss: 0.4980\n",
      "Epoch 3/3\n"
     ]
    },
    {
     "name": "stderr",
     "output_type": "stream",
     "text": [
      "Loss: 0.1235: 100%|██████████| 72/72 [13:40<00:00, 11.39s/it]"
     ]
    },
    {
     "name": "stdout",
     "output_type": "stream",
     "text": [
      "✅ Epoch 3 completed — Avg loss: 0.4614\n"
     ]
    },
    {
     "name": "stderr",
     "output_type": "stream",
     "text": [
      "\n"
     ]
    }
   ],
   "source": [
    "n_epochs = 3\n",
    "\n",
    "for epoch in range(n_epochs):\n",
    "    print(f\"Epoch {epoch+1}/{n_epochs}\")\n",
    "    model.train()\n",
    "    pbar = tqdm(train_loader)\n",
    "    total_loss = 0\n",
    "\n",
    "    for batch in pbar:\n",
    "        batch = {k: v.to(device) for k, v in batch.items()}\n",
    "        outputs = model(**batch)\n",
    "        loss = outputs.loss\n",
    "        loss.backward()\n",
    "        optimizer.step()\n",
    "        optimizer.zero_grad()\n",
    "\n",
    "        total_loss += loss.item()\n",
    "        pbar.set_description(f\"Loss: {loss.item():.4f}\")\n",
    "\n",
    "    avg_loss = total_loss / len(train_loader)\n",
    "    print(f\"✅ Epoch {epoch+1} completed — Avg loss: {avg_loss:.4f}\")"
   ]
  },
  {
   "cell_type": "code",
   "execution_count": 19,
   "metadata": {
    "execution": {
     "iopub.execute_input": "2025-03-30T03:28:04.950353Z",
     "iopub.status.busy": "2025-03-30T03:28:04.950131Z",
     "iopub.status.idle": "2025-03-30T03:28:05.348929Z",
     "shell.execute_reply": "2025-03-30T03:28:05.348085Z",
     "shell.execute_reply.started": "2025-03-30T03:28:04.950334Z"
    },
    "trusted": true
   },
   "outputs": [
    {
     "name": "stdout",
     "output_type": "stream",
     "text": [
      "✅ Finetuned model saved at: /kaggle/working/llama3-qlora-finetuned-all\n"
     ]
    }
   ],
   "source": [
    "output_dir = \"/kaggle/working/llama3-qlora-finetuned-all\"\n",
    "model.save_pretrained(output_dir)\n",
    "tokenizer.save_pretrained(output_dir)\n",
    "\n",
    "print(\"✅ Finetuned model saved at:\", output_dir)"
   ]
  },
  {
   "cell_type": "code",
   "execution_count": 20,
   "metadata": {
    "execution": {
     "iopub.execute_input": "2025-03-30T03:28:05.350212Z",
     "iopub.status.busy": "2025-03-30T03:28:05.349965Z",
     "iopub.status.idle": "2025-03-30T03:28:05.358193Z",
     "shell.execute_reply": "2025-03-30T03:28:05.357355Z",
     "shell.execute_reply.started": "2025-03-30T03:28:05.350175Z"
    },
    "trusted": true
   },
   "outputs": [],
   "source": [
    "def evaluate_after_training(model, val_loader, tokenizer, device, num_samples=3):\n",
    "    model.eval()\n",
    "    predictions = []\n",
    "    references = []\n",
    "    samples_to_print = []\n",
    "\n",
    "    rouge = evaluate.load(\"rouge\")\n",
    "\n",
    "    # Đảm bảo tokenizer padding về left (bắt buộc với mô hình decoder-only như LLaMA)\n",
    "    tokenizer.padding_side = \"left\"\n",
    "    tokenizer.pad_token = tokenizer.eos_token\n",
    "\n",
    "    with torch.no_grad():\n",
    "        for batch in tqdm(val_loader, desc=\"Evaluating\"):\n",
    "            input_ids = batch[\"input_ids\"].to(device)\n",
    "            attention_mask = batch[\"attention_mask\"].to(device)  # ✅ Thêm attention_mask\n",
    "            labels = batch[\"labels\"]\n",
    "\n",
    "            # Sinh văn bản với attention_mask\n",
    "            generated_ids = model.generate(\n",
    "                input_ids=input_ids,\n",
    "                attention_mask=attention_mask,  # ✅ Thêm attention_mask để tránh lỗi\n",
    "                max_new_tokens=128,\n",
    "                num_beams=4,\n",
    "                do_sample=False,\n",
    "                pad_token_id=tokenizer.pad_token_id,  # ✅ Xác định pad_token_id để tránh cảnh báo\n",
    "            )\n",
    "\n",
    "            # Giải mã\n",
    "            generated_texts = tokenizer.batch_decode(generated_ids, skip_special_tokens=True)\n",
    "            label_texts = []\n",
    "            for label in labels:\n",
    "                label_ids = [token_id for token_id in label.tolist() if token_id != -100]\n",
    "                label_texts.append(tokenizer.decode(label_ids, skip_special_tokens=True))\n",
    "\n",
    "            predictions.extend(generated_texts)\n",
    "            references.extend(label_texts)\n",
    "\n",
    "            # In ra ví dụ\n",
    "            if len(samples_to_print) < num_samples:\n",
    "                for src, ref, pred in zip(tokenizer.batch_decode(input_ids, skip_special_tokens=True), label_texts, generated_texts):\n",
    "                    samples_to_print.append((src, ref, pred))\n",
    "                    if len(samples_to_print) >= num_samples:\n",
    "                        break\n",
    "\n",
    "    # Tính ROUGE\n",
    "    results = rouge.compute(predictions=predictions, references=references, use_stemmer=True)\n",
    "\n",
    "    print(\"\\n📊 ROUGE Scores:\")\n",
    "    for key in results:\n",
    "        print(f\"{key}: {results[key]:.4f}\")\n",
    "\n",
    "    print(\"\\n📝 Sample Results:\")\n",
    "    for i, (src, ref, pred) in enumerate(samples_to_print):\n",
    "        print(f\"\\n--- Sample {i+1} ---\")\n",
    "        print(f\"[Prompt]    {src}\")\n",
    "        print(f\"[Reference] {ref}\")\n",
    "        print(f\"[Generated] {pred}\")"
   ]
  },
  {
   "cell_type": "code",
   "execution_count": 21,
   "metadata": {
    "execution": {
     "iopub.execute_input": "2025-03-30T03:28:05.359284Z",
     "iopub.status.busy": "2025-03-30T03:28:05.359099Z",
     "iopub.status.idle": "2025-03-30T03:33:26.368881Z",
     "shell.execute_reply": "2025-03-30T03:33:26.367982Z",
     "shell.execute_reply.started": "2025-03-30T03:28:05.359268Z"
    },
    "trusted": true
   },
   "outputs": [
    {
     "data": {
      "application/vnd.jupyter.widget-view+json": {
       "model_id": "05f871c514dc47fc9aec7e5f1e0ffe75",
       "version_major": 2,
       "version_minor": 0
      },
      "text/plain": [
       "Downloading builder script:   0%|          | 0.00/6.27k [00:00<?, ?B/s]"
      ]
     },
     "metadata": {},
     "output_type": "display_data"
    },
    {
     "name": "stderr",
     "output_type": "stream",
     "text": [
      "Evaluating:   0%|          | 0/9 [00:00<?, ?it/s]/usr/local/lib/python3.10/dist-packages/transformers/generation/configuration_utils.py:628: UserWarning: `do_sample` is set to `False`. However, `temperature` is set to `0.6` -- this flag is only used in sample-based generation modes. You should set `do_sample=True` or unset `temperature`.\n",
      "  warnings.warn(\n",
      "/usr/local/lib/python3.10/dist-packages/transformers/generation/configuration_utils.py:633: UserWarning: `do_sample` is set to `False`. However, `top_p` is set to `0.9` -- this flag is only used in sample-based generation modes. You should set `do_sample=True` or unset `top_p`.\n",
      "  warnings.warn(\n",
      "A decoder-only architecture is being used, but right-padding was detected! For correct generation results, please set `padding_side='left'` when initializing the tokenizer.\n",
      "Evaluating:  11%|█         | 1/9 [00:37<04:56, 37.03s/it]A decoder-only architecture is being used, but right-padding was detected! For correct generation results, please set `padding_side='left'` when initializing the tokenizer.\n",
      "Evaluating:  22%|██▏       | 2/9 [01:13<04:16, 36.60s/it]A decoder-only architecture is being used, but right-padding was detected! For correct generation results, please set `padding_side='left'` when initializing the tokenizer.\n",
      "Evaluating:  33%|███▎      | 3/9 [01:49<03:39, 36.55s/it]A decoder-only architecture is being used, but right-padding was detected! For correct generation results, please set `padding_side='left'` when initializing the tokenizer.\n",
      "Evaluating:  44%|████▍     | 4/9 [02:26<03:02, 36.50s/it]A decoder-only architecture is being used, but right-padding was detected! For correct generation results, please set `padding_side='left'` when initializing the tokenizer.\n",
      "Evaluating:  56%|█████▌    | 5/9 [03:02<02:25, 36.42s/it]A decoder-only architecture is being used, but right-padding was detected! For correct generation results, please set `padding_side='left'` when initializing the tokenizer.\n",
      "Evaluating:  67%|██████▋   | 6/9 [03:38<01:48, 36.32s/it]A decoder-only architecture is being used, but right-padding was detected! For correct generation results, please set `padding_side='left'` when initializing the tokenizer.\n",
      "Evaluating:  78%|███████▊  | 7/9 [04:15<01:12, 36.39s/it]A decoder-only architecture is being used, but right-padding was detected! For correct generation results, please set `padding_side='left'` when initializing the tokenizer.\n",
      "Evaluating: 100%|██████████| 9/9 [05:14<00:00, 34.97s/it]\n"
     ]
    },
    {
     "name": "stdout",
     "output_type": "stream",
     "text": [
      "\n",
      "📊 ROUGE Scores:\n",
      "rouge1: 0.2630\n",
      "rouge2: 0.2607\n",
      "rougeL: 0.2608\n",
      "rougeLsum: 0.2617\n",
      "\n",
      "📝 Sample Results:\n",
      "\n",
      "--- Sample 1 ---\n",
      "[Prompt]    ### Lệnh:\n",
      "Bạn là một trợ lý tóm tắt văn bản. Hãy cung cấp bản tóm tắt ngắn gọn và chính xác trong 150 chữ cho bài viết sau. Bài viết: ﻿Sắp kiểm toán nợ xấu tại nhiều ngân hàng lớn\n",
      "Phó Tổng Kiểm toán Lê Minh Khái cho biết, năm 2013, KTNN sẽ tập trung kiểm toán 3 ngân hàng Vietinbank, Vietcombank và Agribank với mục tiêu đi sâu vào nợ xấu. Cũng theo KTNN, các kiến nghị đối với vấn đề vượt trần huy động tại BIDV và MHB chưa có kết quả.\n",
      "Trao đổi với PV Dân trí tại phiên họp báo Công bố báo cáo kiểm toán năm 2012, Phó Tổng Kiểm toán Lê Minh Khái cho biết, trong năm nay, cơ quan này sẽ thực hiện kiểm toán đối với 3 ngân hàng quốc doanh lớn.\n",
      "Các đơn vị này bao gồm Ngân hàng TMCP Công thương Việt Nam (Vietinbank), Ngân hàng TMCP Ngoại Thương Việt Nam (Vietcombank) và Ngân hàng Nông nghiệp và Phát triển nông thôn (Agribank).\n",
      "Bên cạnh những đánh giá chung như hàng năm, mục tiêu của đợt kiểm toán lần này sẽ đi sâu vào kiểm toán nợ xấu, để đưa ra một con số nợ xấu đến thời điểm 31/12/2012. Kiểm toán Nhà nước hy vọng sẽ có được những số liệu đến 30/6 theo kết quả thẩm tra của các đoàn kiểm toán để có được con số phù hợp với tình hình thực tế. \n",
      "Ông Khái cho rằng, với số liệu công bố hiện nay, con số nợ xấu rất khác nhau và các suy diễn qua đó cũng khác nhau.\n",
      "Với những mẫu chọn cho đợt kiểm toán năm 2013 và những yêu cầu đặt ra, KTNN cố gắng cuối năm nay sau khi làm việc xong với 3 ngân hàng này sẽ có con số riêng đến thời điểm 30/6.\n",
      "Đại diện cơ quan kiểm toán nhà nước cũng đưa ra đánh giá, chức năng giám sát của thanh tra NHNN rất quan trọng trong việc hỗ trợ NHNN đưa ra các chỉ đạo điều hành đúng hướng.\n",
      "So với đối tượng kiểm toán của KTNN chỉ trong phạm vi các ngân hàng thuộc Nhà nước hoặc do Nhà nước là chủ sở hữu chi phối thì đối tượng kiểm toán, kiểm soát của thanh tra NHNN rộng hơn, bao gồm cả những NHTM tư nhân, những ngân hàng mà nhà nước không chiếm cổ phần chi phối, các chi nhánh ngân hàng nước ngoài.\n",
      "Tuy nhiên, Phó Tổng Kiểm toán Lê Minh Khái cũng cho biết, đối với một số kiến nghị xử lý của KTNN sau khi thanh tra giám sát tại một số ngân hàng thương mại trong niên độ kiểm toán 2011, phía cơ quan thanh tra của NHNN chưa có ý kiến. \n",
      "Theo đó, KTNN đã có kiến nghị xử lý việc vượt trần lãi suất huy động tại Ngân hàng TMCP Đầu tư và Phát triển Việt Nam (BIDV) và ngân hàng Phát triển nhà Đồng bằng sông Cửu Long (MHB) trong năm 2011.\n",
      "Cụ thể, huy động vượt trần lãi suất so với quy định của NHNN tại 10 chi nhánh của BIDV là 3,2 tỷ đồng và tại MHB là 59,7 tỷ đồng. Tóm tắt: \n",
      "\n",
      "### Tóm tắt:\n",
      "﻿Phó Tổng Kiểm toán Lê Minh Khái cho biết,  KTNN sẽ tập trung kiểm toán 3 ngân hàng Vietinbank, Vietcombank và Agribank với mục tiêu đi sâu vào nợ xấu.\n",
      "Kiểm toán Nhà nước hy vọng sẽ có được những số liệu đến 30/6 để có được con số phù hợp với tình hình thực tế. \n",
      "Chức năng giám sát của thanh tra NHNN rất quan trọng trong việc hỗ trợ NHNN đưa ra các chỉ đạo điều hành đúng hướng.\n",
      "[Reference] ﻿Phó Tổng Kiểm toán Lê Minh Khái cho biết,  KTNN sẽ tập trung kiểm toán 3 ngân hàng Vietinbank, Vietcombank và Agribank với mục tiêu đi sâu vào nợ xấu.\n",
      "Kiểm toán Nhà nước hy vọng sẽ có được những số liệu đến 30/6 để có được con số phù hợp với tình hình thực tế. \n",
      "Chức năng giám sát của thanh tra NHNN rất quan trọng trong việc hỗ trợ NHNN đưa ra các chỉ đạo điều hành đúng hướng.\n",
      "[Generated] ### Lệnh:\n",
      "Bạn là một trợ lý tóm tắt văn bản. Hãy cung cấp bản tóm tắt ngắn gọn và chính xác trong 150 chữ cho bài viết sau. Bài viết: ﻿Sắp kiểm toán nợ xấu tại nhiều ngân hàng lớn\n",
      "Phó Tổng Kiểm toán Lê Minh Khái cho biết, năm 2013, KTNN sẽ tập trung kiểm toán 3 ngân hàng Vietinbank, Vietcombank và Agribank với mục tiêu đi sâu vào nợ xấu. Cũng theo KTNN, các kiến nghị đối với vấn đề vượt trần huy động tại BIDV và MHB chưa có kết quả.\n",
      "Trao đổi với PV Dân trí tại phiên họp báo Công bố báo cáo kiểm toán năm 2012, Phó Tổng Kiểm toán Lê Minh Khái cho biết, trong năm nay, cơ quan này sẽ thực hiện kiểm toán đối với 3 ngân hàng quốc doanh lớn.\n",
      "Các đơn vị này bao gồm Ngân hàng TMCP Công thương Việt Nam (Vietinbank), Ngân hàng TMCP Ngoại Thương Việt Nam (Vietcombank) và Ngân hàng Nông nghiệp và Phát triển nông thôn (Agribank).\n",
      "Bên cạnh những đánh giá chung như hàng năm, mục tiêu của đợt kiểm toán lần này sẽ đi sâu vào kiểm toán nợ xấu, để đưa ra một con số nợ xấu đến thời điểm 31/12/2012. Kiểm toán Nhà nước hy vọng sẽ có được những số liệu đến 30/6 theo kết quả thẩm tra của các đoàn kiểm toán để có được con số phù hợp với tình hình thực tế. \n",
      "Ông Khái cho rằng, với số liệu công bố hiện nay, con số nợ xấu rất khác nhau và các suy diễn qua đó cũng khác nhau.\n",
      "Với những mẫu chọn cho đợt kiểm toán năm 2013 và những yêu cầu đặt ra, KTNN cố gắng cuối năm nay sau khi làm việc xong với 3 ngân hàng này sẽ có con số riêng đến thời điểm 30/6.\n",
      "Đại diện cơ quan kiểm toán nhà nước cũng đưa ra đánh giá, chức năng giám sát của thanh tra NHNN rất quan trọng trong việc hỗ trợ NHNN đưa ra các chỉ đạo điều hành đúng hướng.\n",
      "So với đối tượng kiểm toán của KTNN chỉ trong phạm vi các ngân hàng thuộc Nhà nước hoặc do Nhà nước là chủ sở hữu chi phối thì đối tượng kiểm toán, kiểm soát của thanh tra NHNN rộng hơn, bao gồm cả những NHTM tư nhân, những ngân hàng mà nhà nước không chiếm cổ phần chi phối, các chi nhánh ngân hàng nước ngoài.\n",
      "Tuy nhiên, Phó Tổng Kiểm toán Lê Minh Khái cũng cho biết, đối với một số kiến nghị xử lý của KTNN sau khi thanh tra giám sát tại một số ngân hàng thương mại trong niên độ kiểm toán 2011, phía cơ quan thanh tra của NHNN chưa có ý kiến. \n",
      "Theo đó, KTNN đã có kiến nghị xử lý việc vượt trần lãi suất huy động tại Ngân hàng TMCP Đầu tư và Phát triển Việt Nam (BIDV) và ngân hàng Phát triển nhà Đồng bằng sông Cửu Long (MHB) trong năm 2011.\n",
      "Cụ thể, huy động vượt trần lãi suất so với quy định của NHNN tại 10 chi nhánh của BIDV là 3,2 tỷ đồng và tại MHB là 59,7 tỷ đồng. Tóm tắt: \n",
      "\n",
      "### Tóm tắt:\n",
      "﻿Phó Tổng Kiểm toán Lê Minh Khái cho biết,  KTNN sẽ tập trung kiểm toán 3 ngân hàng Vietinbank, Vietcombank và Agribank với mục tiêu đi sâu vào nợ xấu.\n",
      "Kiểm toán Nhà nước hy vọng sẽ có được những số liệu đến 30/6 để có được con số phù hợp với tình hình thực tế. \n",
      "Chức năng giám sát của thanh tra NHNN rất quan trọng trong việc hỗ trợ NHNN đưa ra các chỉ đạo điều hành đúng hướng.Question:\n",
      "So với đối tượng kiểm toán của KTNN chỉ trong phạm vi các ngân hàng thuộc Nhà nước hoặc do Nhà nước là chủ sở hữu chi phối thì đối tượng kiểm toán, kiểm soát của thanh tra NHNN rộng hơn, bao gồm cả những NHTM tư nhân, những ngân hàng mà nhà nước không chiếm cổ phần chi phối, các chi nhánh ngân hàng nước ngoài.Tuy nhiên, Phó Tổng Kiểm toán Lê Minh Khái cũng cho biết, đối với một số kiến nghị xử lý của KTNN sau khi thanh tra giám sát tại một số ngân hàng thương mại trong niên độ kiểm toán 2011, phía\n",
      "\n",
      "--- Sample 2 ---\n",
      "[Prompt]    ### Lệnh:\n",
      "Bạn là một trợ lý tóm tắt văn bản. Hãy cung cấp bản tóm tắt ngắn gọn và chính xác trong 150 chữ cho bài viết sau. Bài viết: ﻿Ra mắt tác phẩm chuyên đề về Hoàng Sa và Trường Sa \n",
      "Thực hiện việc đẩy mạnh công tác tuyên truyền, giáo dục về biển, đảo trong các tầng lớp nhân dân nói chung và trong giáo viên, học sinh, sinh viên nói riêng, NXB Giáo dục Việt Nam vừa tiếp tục cho ra mắt một tác phẩm chuyên đề về Hoàng Sa và Trường Sa.\n",
      " Tác phẩm chuyên đề này có tên: \"Những bằng chứng về chủ quyền của Việt Nam đối với hai quần đảo Hoàng Sa, Trường Sa\" thuộc Tủ sách Biển - Đảo Việt Nam. \n",
      "Đây là một công trình nghiên cứu khoa học trong suốt 40 năm của tác giả Hãn Nguyên Nguyễn Nhã – một nhà nghiên cứu chuyên sâu về đề tài Hoàng Sa – Trường Sa. Công trình tâm huyết này dựa trên nguồn tư liệu phong phú, đa dạng được thu thập ở cả trong và ngoài nước; trong đó có tư liệu từ các văn bản mang tính lịch sử, tính pháp lí cao như châu bản triều Nguyễn, văn bản thực thi chủ quyền của chính quyền Tây Sơn, thư tịch và bản đồ cổ của nhà nước phong kiến Việt Nam, tư liệu và bản đồ cổ của phương Tây, và của chính người Trung Quốc liên quan đến việc khẳng định chủ quyền của Việt Nam tại hai quần đảo Hoàng Sa và Trường Sa.\n",
      "Nghiên cứu một cách hệ thống các nguồn tài liệu trên, nhất là các tư liệu trước năm 1909 (năm bắt đầu nảy sinh vấn đề tranh chấp chủ quyền Hoàng Sa), tác giả đã giúp bạn đọc nắm được quá trình phát hiện, chiếm hữu thật sự, thực thi chủ quyền ngay từ thế kỷ XVII của Nhà nước phong kiến Việt Nam qua sự quản lí, điều hành, hàng năm tổ chức các đội thuyền Hoàng Sa và Bắc Hải khảo sát đo đạc thủy trình, vẽ bản đồ, khai thác tài nguyên, xây dựng chùa miếu, dựng bia, trồng cây, kiến tạo cơ sở hạ tầng,… xem đó là biểu tượng chủ quyền của Việt Nam ở hai quần đảo Hoàng Sa và Trường Sa.\n",
      "Phương pháp nghiên cứu của tác giả tuân thủ nghiêm ngặt nguyên tắc khách quan, tôn trọng sự thật lịch sử, nâng niu trân trọng những sử liệu vô giá mà không một quốc gia nào có được. Những sử liệu này thể hiện ý chí, khí phách của nhiều thế hệ Việt Nam – những chủ nhân đầu tiên đã phát hiện, sở hữu thật sự hiệu quả quần đảo Hoàng Sa và quần đảo Trường Sa. Những sử liệu này hùng hồn chứng minh: Nhà nước Việt Nam qua các thời kì nối tiếp nhau liên tục khẳng định chủ quyền, thực thi quản lí hành chính đối với quần đảo Hoàng Sa và quần đảo Trường Sa theo nguyên tắc công khai trong hàng mấy trăm năm, mà từ năm 1909 trở về trước không có một quốc gia nào đặt ra vấn đề tranh chấp chủ quyền.\n",
      "Đọc những bằng chứng về chủ quyền của Việt Nam đối với hai quần đảo Hoàng Sa,Trường Sa, bạn đọc có thể hiểu rõ: chủ quyền của Việt Nam tại quần đảo Hoàng Sa và quần đảo Trường Sa đã được xác lập từ lâu, đó là sự thật lịch sử và điều này hoàn toàn phù hợp với luật pháp quốc tế.\n",
      "Ngoài ra, tác phẩm còn có 4 phụ lục giới thiệu niên biểu, một số văn bản; bản đồ - hình ảnh về Hoàng Sa, Trường Sa và Luật Biển được Quốc hội nước Cộng hòa Xã hội Chủ nghĩa Việt Nam thông qua vào tháng 6/2012.\n",
      "Đọc tác phẩm này bạn đọc trong nước và ngoài nước, nhất là các thầy giáo, cô giáo và học sinh, sinh viên sẽ hiểu thấu đáo hơn về chủ quyền của Việt Nam tại hai quần đảo Hoàng Sa và quần đảo Trường Sa. Việc làm này cũng có ý nghĩa thiết thực đối với việc giảng dạy, tuyên truyền sâu rộng về chủ quyền biển đảo Việt Nam, góp phần tích cực vào cuộc đấu tranh vì sự toàn vẹn chủ quyền lãnh thổ và biên giới quốc gia.\n",
      "Đánh giá về cuốn sách, Giáo sư Phan Huy Lê – Chủ tịch Hội Khoa học Lịch sử Việt Nam cho rằng: \"Đây là công trình nghiên cứu khoa học nghiêm túc, dựa trên những tư liệu phong phú, chứng cứ và lập luận rất khách quan. Tôi tin rằng cuốn sách sẽ đáp ứng được yêu cầu nghiên cứu, tìm hiểu của nhân dân, nhất là thế hệ trẻ. Tôi cũng hi vọng từ cuốn sách này, nội dung về chủ quyền của Việt Nam đối với quần đảo Hoàng Sa và quần đảo Trường Sa sẽ được đưa vào trong sách giáo khoa lịch sửcác trường phổ thông\".\n",
      "Những bằng chứng về chủ quyền của Việt Nam đối với hai quần đảo Hoàng Sa, Trường Sa là tập đầu tiên trong năm 2013 của Tủ sách Biển – Đảo Việt Nam do NXB Giáo dục Việt Nam tổ chức. Các tập còn lại là Hoàng Sa – Trường Sa trong vòng tay tổ quốc (hai tập) và cuốn sách ảnh Hoàng Sa – Trường Sa tuyến đầu Tổ quốc sẽ xuất bản trong thời gian tới.\n",
      "Được biết, sau khi nhận được chỉ đạo của Ban Tuyên giáo Trung ương, trong năm 2012, NXB Giáo dục Việt Nam đã xuất bản 2 tác phẩm: Việt Nam và Biển Đông; Biển, đảo với cuộc sống của chúng ta. Tóm tắt: \n",
      "\n",
      "### Tóm tắt:\n",
      "﻿ Tác phẩm chuyên đề \"Những bằng chứng về chủ quyền của Việtt Nam đối với hai quần đảo Hoàng Sa, Trường Sa\" là một công trình nghiên cứu khoa học trong suốt 40 nam của tác giả Hãn Nguyên Nguyên Nhã dựa trên nguồn tư liệu phong phú, da dạng được thu thập cả trong và ngoài nước khẳng định chủ quyền của Việt Nam tại hai quần đảo Hoàng Sa và Trường Sa. Phương pháp nghiên cứu của tác giả tuân thủ nghiêm ngặt nguyên tắc khách quan, tôn trọng sự thật lịch sử, nâng niu trân trọng những sử liệu vô giá mà không một quốc gia nào có được. Những bằng chứng về chủ quyền của Việt Nam đối với hai quần đảo Hoàng Sa, Trường Sa là tập đầu tiên trong năm 2013 của Tủ sách Biển – Đảo Việt Nam do NXB Giáo dục Việt Nam tổ chức. Các tập còn lại sẽ xuất bản trong thời gian tới.\n",
      "[Reference] ﻿ Tác phẩm chuyên đề \"Những bằng chứng về chủ quyền của Việtt Nam đối với hai quần đảo Hoàng Sa, Trường Sa\" là một công trình nghiên cứu khoa học trong suốt 40 nam của tác giả Hãn Nguyên Nguyên Nhã dựa trên nguồn tư liệu phong phú, da dạng được thu thập cả trong và ngoài nước khẳng định chủ quyền của Việt Nam tại hai quần đảo Hoàng Sa và Trường Sa. Phương pháp nghiên cứu của tác giả tuân thủ nghiêm ngặt nguyên tắc khách quan, tôn trọng sự thật lịch sử, nâng niu trân trọng những sử liệu vô giá mà không một quốc gia nào có được. Những bằng chứng về chủ quyền của Việt Nam đối với hai quần đảo Hoàng Sa, Trường Sa là tập đầu tiên trong năm 2013 của Tủ sách Biển – Đảo Việt Nam do NXB Giáo dục Việt Nam tổ chức. Các tập còn lại sẽ xuất bản trong thời gian tới.\n",
      "[Generated] ### Lệnh:\n",
      "Bạn là một trợ lý tóm tắt văn bản. Hãy cung cấp bản tóm tắt ngắn gọn và chính xác trong 150 chữ cho bài viết sau. Bài viết: ﻿Ra mắt tác phẩm chuyên đề về Hoàng Sa và Trường Sa \n",
      "Thực hiện việc đẩy mạnh công tác tuyên truyền, giáo dục về biển, đảo trong các tầng lớp nhân dân nói chung và trong giáo viên, học sinh, sinh viên nói riêng, NXB Giáo dục Việt Nam vừa tiếp tục cho ra mắt một tác phẩm chuyên đề về Hoàng Sa và Trường Sa.\n",
      " Tác phẩm chuyên đề này có tên: \"Những bằng chứng về chủ quyền của Việt Nam đối với hai quần đảo Hoàng Sa, Trường Sa\" thuộc Tủ sách Biển - Đảo Việt Nam. \n",
      "Đây là một công trình nghiên cứu khoa học trong suốt 40 năm của tác giả Hãn Nguyên Nguyễn Nhã – một nhà nghiên cứu chuyên sâu về đề tài Hoàng Sa – Trường Sa. Công trình tâm huyết này dựa trên nguồn tư liệu phong phú, đa dạng được thu thập ở cả trong và ngoài nước; trong đó có tư liệu từ các văn bản mang tính lịch sử, tính pháp lí cao như châu bản triều Nguyễn, văn bản thực thi chủ quyền của chính quyền Tây Sơn, thư tịch và bản đồ cổ của nhà nước phong kiến Việt Nam, tư liệu và bản đồ cổ của phương Tây, và của chính người Trung Quốc liên quan đến việc khẳng định chủ quyền của Việt Nam tại hai quần đảo Hoàng Sa và Trường Sa.\n",
      "Nghiên cứu một cách hệ thống các nguồn tài liệu trên, nhất là các tư liệu trước năm 1909 (năm bắt đầu nảy sinh vấn đề tranh chấp chủ quyền Hoàng Sa), tác giả đã giúp bạn đọc nắm được quá trình phát hiện, chiếm hữu thật sự, thực thi chủ quyền ngay từ thế kỷ XVII của Nhà nước phong kiến Việt Nam qua sự quản lí, điều hành, hàng năm tổ chức các đội thuyền Hoàng Sa và Bắc Hải khảo sát đo đạc thủy trình, vẽ bản đồ, khai thác tài nguyên, xây dựng chùa miếu, dựng bia, trồng cây, kiến tạo cơ sở hạ tầng,… xem đó là biểu tượng chủ quyền của Việt Nam ở hai quần đảo Hoàng Sa và Trường Sa.\n",
      "Phương pháp nghiên cứu của tác giả tuân thủ nghiêm ngặt nguyên tắc khách quan, tôn trọng sự thật lịch sử, nâng niu trân trọng những sử liệu vô giá mà không một quốc gia nào có được. Những sử liệu này thể hiện ý chí, khí phách của nhiều thế hệ Việt Nam – những chủ nhân đầu tiên đã phát hiện, sở hữu thật sự hiệu quả quần đảo Hoàng Sa và quần đảo Trường Sa. Những sử liệu này hùng hồn chứng minh: Nhà nước Việt Nam qua các thời kì nối tiếp nhau liên tục khẳng định chủ quyền, thực thi quản lí hành chính đối với quần đảo Hoàng Sa và quần đảo Trường Sa theo nguyên tắc công khai trong hàng mấy trăm năm, mà từ năm 1909 trở về trước không có một quốc gia nào đặt ra vấn đề tranh chấp chủ quyền.\n",
      "Đọc những bằng chứng về chủ quyền của Việt Nam đối với hai quần đảo Hoàng Sa,Trường Sa, bạn đọc có thể hiểu rõ: chủ quyền của Việt Nam tại quần đảo Hoàng Sa và quần đảo Trường Sa đã được xác lập từ lâu, đó là sự thật lịch sử và điều này hoàn toàn phù hợp với luật pháp quốc tế.\n",
      "Ngoài ra, tác phẩm còn có 4 phụ lục giới thiệu niên biểu, một số văn bản; bản đồ - hình ảnh về Hoàng Sa, Trường Sa và Luật Biển được Quốc hội nước Cộng hòa Xã hội Chủ nghĩa Việt Nam thông qua vào tháng 6/2012.\n",
      "Đọc tác phẩm này bạn đọc trong nước và ngoài nước, nhất là các thầy giáo, cô giáo và học sinh, sinh viên sẽ hiểu thấu đáo hơn về chủ quyền của Việt Nam tại hai quần đảo Hoàng Sa và quần đảo Trường Sa. Việc làm này cũng có ý nghĩa thiết thực đối với việc giảng dạy, tuyên truyền sâu rộng về chủ quyền biển đảo Việt Nam, góp phần tích cực vào cuộc đấu tranh vì sự toàn vẹn chủ quyền lãnh thổ và biên giới quốc gia.\n",
      "Đánh giá về cuốn sách, Giáo sư Phan Huy Lê – Chủ tịch Hội Khoa học Lịch sử Việt Nam cho rằng: \"Đây là công trình nghiên cứu khoa học nghiêm túc, dựa trên những tư liệu phong phú, chứng cứ và lập luận rất khách quan. Tôi tin rằng cuốn sách sẽ đáp ứng được yêu cầu nghiên cứu, tìm hiểu của nhân dân, nhất là thế hệ trẻ. Tôi cũng hi vọng từ cuốn sách này, nội dung về chủ quyền của Việt Nam đối với quần đảo Hoàng Sa và quần đảo Trường Sa sẽ được đưa vào trong sách giáo khoa lịch sửcác trường phổ thông\".\n",
      "Những bằng chứng về chủ quyền của Việt Nam đối với hai quần đảo Hoàng Sa, Trường Sa là tập đầu tiên trong năm 2013 của Tủ sách Biển – Đảo Việt Nam do NXB Giáo dục Việt Nam tổ chức. Các tập còn lại là Hoàng Sa – Trường Sa trong vòng tay tổ quốc (hai tập) và cuốn sách ảnh Hoàng Sa – Trường Sa tuyến đầu Tổ quốc sẽ xuất bản trong thời gian tới.\n",
      "Được biết, sau khi nhận được chỉ đạo của Ban Tuyên giáo Trung ương, trong năm 2012, NXB Giáo dục Việt Nam đã xuất bản 2 tác phẩm: Việt Nam và Biển Đông; Biển, đảo với cuộc sống của chúng ta. Tóm tắt: \n",
      "\n",
      "### Tóm tắt:\n",
      "﻿ Tác phẩm chuyên đề \"Những bằng chứng về chủ quyền của Việtt Nam đối với hai quần đảo Hoàng Sa, Trường Sa\" là một công trình nghiên cứu khoa học trong suốt 40 nam của tác giả Hãn Nguyên Nguyên Nhã dựa trên nguồn tư liệu phong phú, da dạng được thu thập cả trong và ngoài nước khẳng định chủ quyền của Việt Nam tại hai quần đảo Hoàng Sa và Trường Sa. Phương pháp nghiên cứu của tác giả tuân thủ nghiêm ngặt nguyên tắc khách quan, tôn trọng sự thật lịch sử, nâng niu trân trọng những sử liệu vô giá mà không một quốc gia nào có được. Những bằng chứng về chủ quyền của Việt Nam đối với hai quần đảo Hoàng Sa, Trường Sa là tập đầu tiên trong năm 2013 của Tủ sách Biển – Đảo Việt Nam do NXB Giáo dục Việt Nam tổ chức. Các tập còn lại sẽ xuất bản trong thời gian tới.Question: What is the title of the book?Answer: \"Những bằng chứng về chủ quyền của Việt Nam đối với hai quần đảo Hoàng Sa, Trường Sa\"Question: What is the title of the book?Answer: \"Những bằng chứng về chủ quyền của Việt Nam đối với hai quần đảo Hoàng Sa, Trường Sa\"Question: What is the title of the book?Answer: \"Những bằng chứng về chủ quyền của Việt Nam đối với hai quần đảo Hoàng Sa, Trường Sa\"Question: What is the title of the book?Answer: \"Những bằng chứng về chủ quyền của Việt Nam đối với hai quần đảo Hoàng\n",
      "\n",
      "--- Sample 3 ---\n",
      "[Prompt]    ### Lệnh:\n",
      "Bạn là một trợ lý tóm tắt văn bản. Hãy cung cấp bản tóm tắt ngắn gọn và chính xác trong 150 chữ cho bài viết sau. Bài viết: ﻿Hòn Vọng Thê lẻ loi giữa tứ giác Long Xuyên\n",
      "Núi Ba Thê có tên chữ là Hoa Thê Sơn,  dân gian thường gọi là Vọng Thê.  Nơi đây đẹp như chốn bồng lai tiên cảnh, địa danh này gắn với nhiều sự tích và huyền thoại của một nền văn minh, một thời kỳ phồn thịnh, rực rỡ trong quá khứ. \n",
      "Tương truyền, xưa có một người đàn ông lên núi tu hành, xa lánh thế gian, bụi đời song lòng vẫn còn chưa rũ sạch bụi trần, nên chiều chiều ngóng vọng về phương xa, nhớ nhà, nhớ vợ, sau đó chết đi.  Người ta cho rặng vị sư kia đã hóa đá, thành  \"Hòn Vọng Thê\" trên một ngọn núi nằm lẻ loi giữa tứ giác Long Xuyên. \n",
      "Qua thị trấn Núi Sập (nay có tên mới là thị trấn Óc Eo) là đến chợ Ba Thê.  Nơi đây từng là một thương cảng phồn thịnh thời trung cổ, bị vùi lấp dưới lớp đất phù sa hơn 3 m.  Người ta đã phát hiện di chỉ này vào năm 1942 và khám phá ra thành cổ Óc Eo vào năm 1944, lúc đào kinh xáng Ba Thê.  Nhiều cổ vật thu được như khuôn chế tác vật dụng và nữ trang bằng gốm, đá, vàng, đồng đã thu được từ địa điểm này.  Các tượng đá mang dấu ấn văn hóa phật giáo và Hindu giáo rất đa dạng như: tượng Phật, linh vật, Yoni và Linga có niên đại cách đây trên dưới 1. 500 năm.  Đặc biệt là nhóm tượng Ganesa với mình người, đầu voi trông rất ấn tượng.  Bảo tàng tỉnh An Giang hiện có trưng bày nhiều hiện vật và phiên bản của nhiều cổ vật, tượng, xương thú hóa thạch... Trên đỉnh Vọng Thê có ngôi chùa cổ tên Sơn Tiên Tự, dựng vào năm 1933.  Trước sân chùa có tượng phật quan thế âm bồ tát cao chừng 8 m, đứng trên tòa sen, khoác áo choàng đỏ, uy nghi, tự tại, sừng sững trên đỉnh như nhìn bao quát khắp thế gian.  Ở trên đỉnh núi, mây bay là đà, mang hơi sương mát lạnh, cỏ cây xanh tốt ngút ngàn. Có nhiều tiếng chim hót líu lo, ríu rít khắp nơi. Thỉnh thoảng tiếng chuông chùa ngân vọng thênh thang, bàng bạc khắp núi rừng làm bâng khuâng, xao xuyến lòng người. \n",
      "Đứng trên chóp đỉnh núi phóng tầm mắt nhìn bao quát cả khu vực: núi Ba Thê thật khoáng đạt.  Quanh núi là những cánh đồng trải rộng, xa xa về hướng tây là vùng biển Rạch Giá, chênh chếch hướng tây nam là dãy Thất Sơn hùng vĩ án ngữ chân trời.  Mây bay là đà mang hơi sương mát lạnh, cỏ cây xanh tốt ngút ngàn, chim lích rích trong rừng lá ken dày.  Thỉnh thoảng một tiếng chuông từ Sơn Tiên tự lại ngân vọng khắp núi rừng làm bâng khuâng hồn người. Sơn Tiên tự là một ngôi chùa cổ trên đỉnh Ba Thê được dựng vào năm 1933.  Nơi đây có một hòn đá hoa cương cao chừng ba mét, to cỡ gốc cổ thụ bốn người ôm không xuể, nằm bên hông chánh điện.  Trên mặt viên đá khổng lồ ấy có dấu bàn chân người, to hơn bình thường một chút nhưng rất rõ.  Người ta vẫn gọi đó là \"bàn chân Tiên\" bởi theo truyền thuyết, lúc mới tạo sơn, đá núi còn mềm như đất sét, có một vị tiên đã ấn bàn chân mình lên đá để làm dấu. \n",
      "Ở phía Bắc của đỉnh Ba Thê còn có một tảng đá có dáng hình như một cây đao vĩ đại, được coi là \"bửu bối\" của trời đất để trừng trị bọn gian ác.  Truyền miệng dân gian kể rằng, từ rất xa xưa, trong một đêm mưa gió, lưỡi tầm sét đã đánh vào tảng đá lớn trên đỉnh núi này. Tảng đá bị chẻ nhỏ, hiện lên một cây đại đao.  Người ta đã dựng cây đại đao \"trời cho\" bằng đá này vươn cao trên đỉnh núi, chĩa thẳng lên mây trắng trời cao, dựng miếu thờ và tượng Phật, cầu cho hùng khí hưng phát, non sông, đất nước bền vững. \n",
      "Dưới triền núi cách chùa Sơn Tiên chừng mười mét có một công trình rất lạ mắt là nhà trưng bày những cổ vật, hiện vật có liên quan đến lịch sử cũng như văn hóa của Ba Thê - Óc Eo.  Công trình này có phong cách kiến trúc mang dấu ấn của Ấn Độ giáo thể hiện rất rõ qua mái vòm tròn đứng, cửa hình chữ nhật cao, nhiều tầng, đầu vuốt chữ U ngược.  Các mặt vách chung quanh công trình đều có tượng thần Ganesa mình người, đầu voi, ngồi với tư thế nghiêm trang, nửa như trầm mặc thiền định, nửa như răn đe canh giữ. Tóm tắt: \n",
      "\n",
      "### Tóm tắt:\n",
      "﻿Núi Ba Thê có tên chữ là Hoa Thê Sơn,  dân gian thường gọi là Vọng Thê. Xưa có một người đàn ông lên núi tu hành,nên chiều chiều ngóng vọng về phương xa sau đó chết đi. Người ta cho rặng vị sư kia đã hóa đá, thành  \"Hòn Vọng Thê\" trên một ngọn núi nằm lẻ loi giữa tứ giác Long Xuyên. Trên đỉnh Vọng Thê có ngôi chùa cổ tên Sơn Tiên Tự, dựng vào năm 1933. Quanh núi là những cánh đồng trải rộng, xa xa về hướng tây là vùng biển Rạch Giá, chênh chếch hướng tây nam là dãy Thất Sơn hùng vĩ án ngữ chân trời. Dưới triền núi có một công trình rất lạ mắt là nhà trưng bày những cổ vật, hiện vật liên quan đến lịch sử cũng như văn hóa của Ba Thê - Óc Eo.\n",
      "[Reference] ﻿Núi Ba Thê có tên chữ là Hoa Thê Sơn,  dân gian thường gọi là Vọng Thê. Xưa có một người đàn ông lên núi tu hành,nên chiều chiều ngóng vọng về phương xa sau đó chết đi. Người ta cho rặng vị sư kia đã hóa đá, thành  \"Hòn Vọng Thê\" trên một ngọn núi nằm lẻ loi giữa tứ giác Long Xuyên. Trên đỉnh Vọng Thê có ngôi chùa cổ tên Sơn Tiên Tự, dựng vào năm 1933. Quanh núi là những cánh đồng trải rộng, xa xa về hướng tây là vùng biển Rạch Giá, chênh chếch hướng tây nam là dãy Thất Sơn hùng vĩ án ngữ chân trời. Dưới triền núi có một công trình rất lạ mắt là nhà trưng bày những cổ vật, hiện vật liên quan đến lịch sử cũng như văn hóa của Ba Thê - Óc Eo.\n",
      "[Generated] ### Lệnh:\n",
      "Bạn là một trợ lý tóm tắt văn bản. Hãy cung cấp bản tóm tắt ngắn gọn và chính xác trong 150 chữ cho bài viết sau. Bài viết: ﻿Hòn Vọng Thê lẻ loi giữa tứ giác Long Xuyên\n",
      "Núi Ba Thê có tên chữ là Hoa Thê Sơn,  dân gian thường gọi là Vọng Thê.  Nơi đây đẹp như chốn bồng lai tiên cảnh, địa danh này gắn với nhiều sự tích và huyền thoại của một nền văn minh, một thời kỳ phồn thịnh, rực rỡ trong quá khứ. \n",
      "Tương truyền, xưa có một người đàn ông lên núi tu hành, xa lánh thế gian, bụi đời song lòng vẫn còn chưa rũ sạch bụi trần, nên chiều chiều ngóng vọng về phương xa, nhớ nhà, nhớ vợ, sau đó chết đi.  Người ta cho rặng vị sư kia đã hóa đá, thành  \"Hòn Vọng Thê\" trên một ngọn núi nằm lẻ loi giữa tứ giác Long Xuyên. \n",
      "Qua thị trấn Núi Sập (nay có tên mới là thị trấn Óc Eo) là đến chợ Ba Thê.  Nơi đây từng là một thương cảng phồn thịnh thời trung cổ, bị vùi lấp dưới lớp đất phù sa hơn 3 m.  Người ta đã phát hiện di chỉ này vào năm 1942 và khám phá ra thành cổ Óc Eo vào năm 1944, lúc đào kinh xáng Ba Thê.  Nhiều cổ vật thu được như khuôn chế tác vật dụng và nữ trang bằng gốm, đá, vàng, đồng đã thu được từ địa điểm này.  Các tượng đá mang dấu ấn văn hóa phật giáo và Hindu giáo rất đa dạng như: tượng Phật, linh vật, Yoni và Linga có niên đại cách đây trên dưới 1. 500 năm.  Đặc biệt là nhóm tượng Ganesa với mình người, đầu voi trông rất ấn tượng.  Bảo tàng tỉnh An Giang hiện có trưng bày nhiều hiện vật và phiên bản của nhiều cổ vật, tượng, xương thú hóa thạch... Trên đỉnh Vọng Thê có ngôi chùa cổ tên Sơn Tiên Tự, dựng vào năm 1933.  Trước sân chùa có tượng phật quan thế âm bồ tát cao chừng 8 m, đứng trên tòa sen, khoác áo choàng đỏ, uy nghi, tự tại, sừng sững trên đỉnh như nhìn bao quát khắp thế gian.  Ở trên đỉnh núi, mây bay là đà, mang hơi sương mát lạnh, cỏ cây xanh tốt ngút ngàn. Có nhiều tiếng chim hót líu lo, ríu rít khắp nơi. Thỉnh thoảng tiếng chuông chùa ngân vọng thênh thang, bàng bạc khắp núi rừng làm bâng khuâng, xao xuyến lòng người. \n",
      "Đứng trên chóp đỉnh núi phóng tầm mắt nhìn bao quát cả khu vực: núi Ba Thê thật khoáng đạt.  Quanh núi là những cánh đồng trải rộng, xa xa về hướng tây là vùng biển Rạch Giá, chênh chếch hướng tây nam là dãy Thất Sơn hùng vĩ án ngữ chân trời.  Mây bay là đà mang hơi sương mát lạnh, cỏ cây xanh tốt ngút ngàn, chim lích rích trong rừng lá ken dày.  Thỉnh thoảng một tiếng chuông từ Sơn Tiên tự lại ngân vọng khắp núi rừng làm bâng khuâng hồn người. Sơn Tiên tự là một ngôi chùa cổ trên đỉnh Ba Thê được dựng vào năm 1933.  Nơi đây có một hòn đá hoa cương cao chừng ba mét, to cỡ gốc cổ thụ bốn người ôm không xuể, nằm bên hông chánh điện.  Trên mặt viên đá khổng lồ ấy có dấu bàn chân người, to hơn bình thường một chút nhưng rất rõ.  Người ta vẫn gọi đó là \"bàn chân Tiên\" bởi theo truyền thuyết, lúc mới tạo sơn, đá núi còn mềm như đất sét, có một vị tiên đã ấn bàn chân mình lên đá để làm dấu. \n",
      "Ở phía Bắc của đỉnh Ba Thê còn có một tảng đá có dáng hình như một cây đao vĩ đại, được coi là \"bửu bối\" của trời đất để trừng trị bọn gian ác.  Truyền miệng dân gian kể rằng, từ rất xa xưa, trong một đêm mưa gió, lưỡi tầm sét đã đánh vào tảng đá lớn trên đỉnh núi này. Tảng đá bị chẻ nhỏ, hiện lên một cây đại đao.  Người ta đã dựng cây đại đao \"trời cho\" bằng đá này vươn cao trên đỉnh núi, chĩa thẳng lên mây trắng trời cao, dựng miếu thờ và tượng Phật, cầu cho hùng khí hưng phát, non sông, đất nước bền vững. \n",
      "Dưới triền núi cách chùa Sơn Tiên chừng mười mét có một công trình rất lạ mắt là nhà trưng bày những cổ vật, hiện vật có liên quan đến lịch sử cũng như văn hóa của Ba Thê - Óc Eo.  Công trình này có phong cách kiến trúc mang dấu ấn của Ấn Độ giáo thể hiện rất rõ qua mái vòm tròn đứng, cửa hình chữ nhật cao, nhiều tầng, đầu vuốt chữ U ngược.  Các mặt vách chung quanh công trình đều có tượng thần Ganesa mình người, đầu voi, ngồi với tư thế nghiêm trang, nửa như trầm mặc thiền định, nửa như răn đe canh giữ. Tóm tắt: \n",
      "\n",
      "### Tóm tắt:\n",
      "﻿Núi Ba Thê có tên chữ là Hoa Thê Sơn,  dân gian thường gọi là Vọng Thê. Xưa có một người đàn ông lên núi tu hành,nên chiều chiều ngóng vọng về phương xa sau đó chết đi. Người ta cho rặng vị sư kia đã hóa đá, thành  \"Hòn Vọng Thê\" trên một ngọn núi nằm lẻ loi giữa tứ giác Long Xuyên. Trên đỉnh Vọng Thê có ngôi chùa cổ tên Sơn Tiên Tự, dựng vào năm 1933. Quanh núi là những cánh đồng trải rộng, xa xa về hướng tây là vùng biển Rạch Giá, chênh chếch hướng tây nam là dãy Thất Sơn hùng vĩ án ngữ chân trời. Dưới triền núi có một công trình rất lạ mắt là nhà trưng bày những cổ vật, hiện vật liên quan đến lịch sử cũng như văn hóa của Ba Thê - Óc Eo.Question: Núi Ba Thê có tên chữ là Hoa Thê Sơn,  dân gian thường gọi là Vọng Thê. Xưa có một người đàn ông lên núi tu hành,nên chiều chiều ngóng vọng về phương xa sau đó chết đi. Người ta cho rặng vị sư kia đã hóa đá, thành  \"Hòn Vọng Thê\" trên một ngọn núi nằm lẻ loi giữa tứ giác Long Xuyên. Trên đỉnh Vọng Thê có ngôi chùa cổ tên Sơn Tiên Tự, dựng vào năm 1933. Quanh núi là những cánh đồng trải\n"
     ]
    }
   ],
   "source": [
    "evaluate_after_training(model, val_loader, tokenizer, device)"
   ]
  }
 ],
 "metadata": {
  "kaggle": {
   "accelerator": "nvidiaTeslaT4",
   "dataSources": [
    {
     "datasetId": 6959873,
     "sourceId": 11188231,
     "sourceType": "datasetVersion"
    },
    {
     "isSourceIdPinned": true,
     "modelId": 282707,
     "modelInstanceId": 261561,
     "sourceId": 306800,
     "sourceType": "modelInstanceVersion"
    }
   ],
   "dockerImageVersionId": 30919,
   "isGpuEnabled": true,
   "isInternetEnabled": true,
   "language": "python",
   "sourceType": "notebook"
  },
  "kernelspec": {
   "display_name": "Python 3",
   "language": "python",
   "name": "python3"
  },
  "language_info": {
   "codemirror_mode": {
    "name": "ipython",
    "version": 3
   },
   "file_extension": ".py",
   "mimetype": "text/x-python",
   "name": "python",
   "nbconvert_exporter": "python",
   "pygments_lexer": "ipython3",
   "version": "3.10.12"
  }
 },
 "nbformat": 4,
 "nbformat_minor": 4
}
