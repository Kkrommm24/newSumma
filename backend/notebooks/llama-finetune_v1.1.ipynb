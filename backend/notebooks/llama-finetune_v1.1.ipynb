{
 "cells": [
  {
   "cell_type": "code",
   "execution_count": 1,
   "metadata": {
    "_cell_guid": "b1076dfc-b9ad-4769-8c92-a6c4dae69d19",
    "_uuid": "8f2839f25d086af736a60e9eeb907d3b93b6e0e5",
    "execution": {
     "iopub.execute_input": "2025-03-25T02:10:25.783461Z",
     "iopub.status.busy": "2025-03-25T02:10:25.783260Z",
     "iopub.status.idle": "2025-03-25T02:10:33.736812Z",
     "shell.execute_reply": "2025-03-25T02:10:33.735930Z",
     "shell.execute_reply.started": "2025-03-25T02:10:25.783442Z"
    },
    "trusted": true
   },
   "outputs": [
    {
     "name": "stdout",
     "output_type": "stream",
     "text": [
      "\u001b[2K   \u001b[90m━━━━━━━━━━━━━━━━━━━━━━━━━━━━━━━━━━━━━━━━\u001b[0m \u001b[32m76.1/76.1 MB\u001b[0m \u001b[31m22.9 MB/s\u001b[0m eta \u001b[36m0:00:00\u001b[0m:00:01\u001b[0m00:01\u001b[0m\n",
      "\u001b[2K   \u001b[90m━━━━━━━━━━━━━━━━━━━━━━━━━━━━━━━━━━━━━━━━\u001b[0m \u001b[32m84.0/84.0 kB\u001b[0m \u001b[31m4.2 MB/s\u001b[0m eta \u001b[36m0:00:00\u001b[0m\n",
      "\u001b[?25h"
     ]
    }
   ],
   "source": [
    "!pip install accelerate peft datasets bitsandbytes evaluate -q"
   ]
  },
  {
   "cell_type": "code",
   "execution_count": 2,
   "metadata": {
    "execution": {
     "iopub.execute_input": "2025-03-25T02:10:33.737868Z",
     "iopub.status.busy": "2025-03-25T02:10:33.737639Z",
     "iopub.status.idle": "2025-03-25T02:10:39.187484Z",
     "shell.execute_reply": "2025-03-25T02:10:39.186395Z",
     "shell.execute_reply.started": "2025-03-25T02:10:33.737848Z"
    },
    "trusted": true
   },
   "outputs": [
    {
     "name": "stdout",
     "output_type": "stream",
     "text": [
      "Collecting rouge_score\n",
      "  Downloading rouge_score-0.1.2.tar.gz (17 kB)\n",
      "  Preparing metadata (setup.py) ... \u001b[?25l\u001b[?25hdone\n",
      "Requirement already satisfied: absl-py in /usr/local/lib/python3.10/dist-packages (from rouge_score) (1.4.0)\n",
      "Requirement already satisfied: nltk in /usr/local/lib/python3.10/dist-packages (from rouge_score) (3.2.4)\n",
      "Requirement already satisfied: numpy in /usr/local/lib/python3.10/dist-packages (from rouge_score) (1.26.4)\n",
      "Requirement already satisfied: six>=1.14.0 in /usr/local/lib/python3.10/dist-packages (from rouge_score) (1.17.0)\n",
      "Requirement already satisfied: mkl_fft in /usr/local/lib/python3.10/dist-packages (from numpy->rouge_score) (1.3.8)\n",
      "Requirement already satisfied: mkl_random in /usr/local/lib/python3.10/dist-packages (from numpy->rouge_score) (1.2.4)\n",
      "Requirement already satisfied: mkl_umath in /usr/local/lib/python3.10/dist-packages (from numpy->rouge_score) (0.1.1)\n",
      "Requirement already satisfied: mkl in /usr/local/lib/python3.10/dist-packages (from numpy->rouge_score) (2025.0.1)\n",
      "Requirement already satisfied: tbb4py in /usr/local/lib/python3.10/dist-packages (from numpy->rouge_score) (2022.0.0)\n",
      "Requirement already satisfied: mkl-service in /usr/local/lib/python3.10/dist-packages (from numpy->rouge_score) (2.4.1)\n",
      "Requirement already satisfied: intel-openmp>=2024 in /usr/local/lib/python3.10/dist-packages (from mkl->numpy->rouge_score) (2024.2.0)\n",
      "Requirement already satisfied: tbb==2022.* in /usr/local/lib/python3.10/dist-packages (from mkl->numpy->rouge_score) (2022.0.0)\n",
      "Requirement already satisfied: tcmlib==1.* in /usr/local/lib/python3.10/dist-packages (from tbb==2022.*->mkl->numpy->rouge_score) (1.2.0)\n",
      "Requirement already satisfied: intel-cmplr-lib-rt in /usr/local/lib/python3.10/dist-packages (from mkl_umath->numpy->rouge_score) (2024.2.0)\n",
      "Requirement already satisfied: intel-cmplr-lib-ur==2024.2.0 in /usr/local/lib/python3.10/dist-packages (from intel-openmp>=2024->mkl->numpy->rouge_score) (2024.2.0)\n",
      "Building wheels for collected packages: rouge_score\n",
      "  Building wheel for rouge_score (setup.py) ... \u001b[?25l\u001b[?25hdone\n",
      "  Created wheel for rouge_score: filename=rouge_score-0.1.2-py3-none-any.whl size=24935 sha256=b44f75b663fb9ebf0e65e584ac55191497922d9b834594ed30e9399703136486\n",
      "  Stored in directory: /root/.cache/pip/wheels/5f/dd/89/461065a73be61a532ff8599a28e9beef17985c9e9c31e541b4\n",
      "Successfully built rouge_score\n",
      "Installing collected packages: rouge_score\n",
      "Successfully installed rouge_score-0.1.2\n"
     ]
    }
   ],
   "source": [
    "!pip install rouge_score"
   ]
  },
  {
   "cell_type": "code",
   "execution_count": 3,
   "metadata": {
    "execution": {
     "iopub.execute_input": "2025-03-25T02:10:39.188919Z",
     "iopub.status.busy": "2025-03-25T02:10:39.188514Z",
     "iopub.status.idle": "2025-03-25T02:11:03.391476Z",
     "shell.execute_reply": "2025-03-25T02:11:03.390572Z",
     "shell.execute_reply.started": "2025-03-25T02:10:39.188827Z"
    },
    "trusted": true
   },
   "outputs": [],
   "source": [
    "import evaluate\n",
    "import torch\n",
    "from torch.utils.data import DataLoader\n",
    "from transformers import (\n",
    "    AutoModelForCausalLM,\n",
    "    AutoTokenizer,\n",
    "    BitsAndBytesConfig,\n",
    "    default_data_collator,\n",
    ")\n",
    "from datasets import load_dataset\n",
    "from peft import LoraConfig, get_peft_model, prepare_model_for_kbit_training\n",
    "from tqdm import tqdm\n",
    "import os"
   ]
  },
  {
   "cell_type": "code",
   "execution_count": 4,
   "metadata": {
    "execution": {
     "iopub.execute_input": "2025-03-25T02:11:03.392991Z",
     "iopub.status.busy": "2025-03-25T02:11:03.392471Z",
     "iopub.status.idle": "2025-03-25T02:11:03.538835Z",
     "shell.execute_reply": "2025-03-25T02:11:03.537893Z",
     "shell.execute_reply.started": "2025-03-25T02:11:03.392967Z"
    },
    "trusted": true
   },
   "outputs": [],
   "source": [
    "from huggingface_hub import login\n",
    "\n",
    "hf_token = os.getenv(\"HF_TOKEN\")\n",
    "\n",
    "login(token=hf_token)"
   ]
  },
  {
   "cell_type": "code",
   "execution_count": 5,
   "metadata": {
    "execution": {
     "iopub.execute_input": "2025-03-25T02:11:03.539872Z",
     "iopub.status.busy": "2025-03-25T02:11:03.539666Z",
     "iopub.status.idle": "2025-03-25T02:11:19.857240Z",
     "shell.execute_reply": "2025-03-25T02:11:19.856583Z",
     "shell.execute_reply.started": "2025-03-25T02:11:03.539853Z"
    },
    "trusted": true
   },
   "outputs": [
    {
     "data": {
      "application/vnd.jupyter.widget-view+json": {
       "model_id": "37908b368e274554915128bb1e936b25",
       "version_major": 2,
       "version_minor": 0
      },
      "text/plain": [
       "tokenizer_config.json:   0%|          | 0.00/50.5k [00:00<?, ?B/s]"
      ]
     },
     "metadata": {},
     "output_type": "display_data"
    },
    {
     "data": {
      "application/vnd.jupyter.widget-view+json": {
       "model_id": "8b34f4ff1da2466ebfc3fef79d0ba28a",
       "version_major": 2,
       "version_minor": 0
      },
      "text/plain": [
       "tokenizer.json:   0%|          | 0.00/9.09M [00:00<?, ?B/s]"
      ]
     },
     "metadata": {},
     "output_type": "display_data"
    },
    {
     "data": {
      "application/vnd.jupyter.widget-view+json": {
       "model_id": "270409ddc08249f38de2b9ccb6d5654a",
       "version_major": 2,
       "version_minor": 0
      },
      "text/plain": [
       "special_tokens_map.json:   0%|          | 0.00/301 [00:00<?, ?B/s]"
      ]
     },
     "metadata": {},
     "output_type": "display_data"
    },
    {
     "data": {
      "application/vnd.jupyter.widget-view+json": {
       "model_id": "f6a5b4538f98482f8cc4d7093cadf2f2",
       "version_major": 2,
       "version_minor": 0
      },
      "text/plain": [
       "config.json:   0%|          | 0.00/843 [00:00<?, ?B/s]"
      ]
     },
     "metadata": {},
     "output_type": "display_data"
    },
    {
     "data": {
      "application/vnd.jupyter.widget-view+json": {
       "model_id": "79dae23b201c412b9319f0c1540c4956",
       "version_major": 2,
       "version_minor": 0
      },
      "text/plain": [
       "model.safetensors:   0%|          | 0.00/2.47G [00:00<?, ?B/s]"
      ]
     },
     "metadata": {},
     "output_type": "display_data"
    },
    {
     "data": {
      "application/vnd.jupyter.widget-view+json": {
       "model_id": "1ec4d46c2f714ebe8b75e8f44b5fd327",
       "version_major": 2,
       "version_minor": 0
      },
      "text/plain": [
       "generation_config.json:   0%|          | 0.00/185 [00:00<?, ?B/s]"
      ]
     },
     "metadata": {},
     "output_type": "display_data"
    }
   ],
   "source": [
    "model_id = \"meta-llama/Llama-3.2-1B\"\n",
    "bnb_config = BitsAndBytesConfig(\n",
    "    load_in_4bit=True,\n",
    "    bnb_4bit_use_double_quant=True,\n",
    "    bnb_4bit_quant_type=\"nf4\",\n",
    "    bnb_4bit_compute_dtype=torch.float16,\n",
    ")\n",
    "\n",
    "tokenizer = AutoTokenizer.from_pretrained(model_id)\n",
    "if tokenizer.pad_token is None:\n",
    "    tokenizer.pad_token = tokenizer.eos_token or tokenizer.bos_token or tokenizer.unk_token\n",
    "\n",
    "model = AutoModelForCausalLM.from_pretrained(\n",
    "    model_id,\n",
    "    quantization_config=bnb_config,\n",
    "    device_map={\"\": 0},\n",
    ")\n",
    "\n",
    "# 4. QLoRA config\n",
    "peft_config = LoraConfig(\n",
    "    r=8,\n",
    "    lora_alpha=16,\n",
    "    lora_dropout=0.05,\n",
    "    bias=\"none\",\n",
    "    task_type=\"CAUSAL_LM\"\n",
    ")\n",
    "\n",
    "model = prepare_model_for_kbit_training(model)\n",
    "model = get_peft_model(model, peft_config)"
   ]
  },
  {
   "cell_type": "code",
   "execution_count": 7,
   "metadata": {
    "execution": {
     "iopub.execute_input": "2025-03-25T02:12:17.479794Z",
     "iopub.status.busy": "2025-03-25T02:12:17.479467Z",
     "iopub.status.idle": "2025-03-25T02:12:17.972363Z",
     "shell.execute_reply": "2025-03-25T02:12:17.971488Z",
     "shell.execute_reply.started": "2025-03-25T02:12:17.479771Z"
    },
    "trusted": true
   },
   "outputs": [
    {
     "data": {
      "application/vnd.jupyter.widget-view+json": {
       "model_id": "a086be18d9864b5d94cf40ab2b080047",
       "version_major": 2,
       "version_minor": 0
      },
      "text/plain": [
       "Generating train split: 0 examples [00:00, ? examples/s]"
      ]
     },
     "metadata": {},
     "output_type": "display_data"
    }
   ],
   "source": [
    "data_path = \"/kaggle/input/data-llama-finetune/bbc_data_llama_finetune.json\"\n",
    "\n",
    "full_dataset = load_dataset(\"json\", data_files=data_path, split=\"train\")\n",
    "dataset = full_dataset.train_test_split(test_size=0.1)"
   ]
  },
  {
   "cell_type": "code",
   "execution_count": 8,
   "metadata": {
    "execution": {
     "iopub.execute_input": "2025-03-25T02:12:19.742486Z",
     "iopub.status.busy": "2025-03-25T02:12:19.742173Z",
     "iopub.status.idle": "2025-03-25T02:12:25.782990Z",
     "shell.execute_reply": "2025-03-25T02:12:25.782035Z",
     "shell.execute_reply.started": "2025-03-25T02:12:19.742463Z"
    },
    "trusted": true
   },
   "outputs": [
    {
     "data": {
      "application/vnd.jupyter.widget-view+json": {
       "model_id": "7bcb089559994bf58258c75e1a14237c",
       "version_major": 2,
       "version_minor": 0
      },
      "text/plain": [
       "Map:   0%|          | 0/1914 [00:00<?, ? examples/s]"
      ]
     },
     "metadata": {},
     "output_type": "display_data"
    },
    {
     "data": {
      "application/vnd.jupyter.widget-view+json": {
       "model_id": "5762df9f885146f891bcf8c288f975bf",
       "version_major": 2,
       "version_minor": 0
      },
      "text/plain": [
       "Map:   0%|          | 0/213 [00:00<?, ? examples/s]"
      ]
     },
     "metadata": {},
     "output_type": "display_data"
    }
   ],
   "source": [
    "def tokenize(example, max_length=1024):\n",
    "    # Tạo chuỗi input theo định dạng:\n",
    "    # \"### Prompt:\\n<prompt>\\n\\n### Summary:\\n\" + summary\n",
    "    prompt = f\"### Prompt:\\n{example['prompt']}\\n\\n### Summary:\\n\"\n",
    "    summary = example[\"summary\"]\n",
    "    \n",
    "    # Mã hóa riêng prompt và summary (không thêm special tokens)\n",
    "    prompt_ids = tokenizer.encode(prompt, add_special_tokens=False)\n",
    "    summary_ids = tokenizer.encode(summary, add_special_tokens=False)\n",
    "    \n",
    "    # Kiểm tra tổng số token\n",
    "    total_length = len(prompt_ids) + len(summary_ids)\n",
    "    if total_length > max_length:\n",
    "        overflow = total_length - max_length\n",
    "        # Ưu tiên giữ lại phần summary; cắt bớt prompt\n",
    "        if overflow < len(prompt_ids):\n",
    "            prompt_ids = prompt_ids[:-overflow]\n",
    "        else:\n",
    "            prompt_ids = []  # Nếu quá tràn, bỏ hết prompt\n",
    "    \n",
    "    # Nối prompt và summary\n",
    "    input_ids = prompt_ids + summary_ids\n",
    "    attention_mask = [1] * len(input_ids)\n",
    "    \n",
    "    # Tạo labels: phần prompt được mask bằng -100, phần summary giữ nguyên token IDs\n",
    "    labels = [-100] * len(prompt_ids) + summary_ids\n",
    "    \n",
    "    # Padding tất cả các trường về độ dài max_length\n",
    "    padding_length = max_length - len(input_ids)\n",
    "    if padding_length > 0:\n",
    "        input_ids = input_ids + [tokenizer.pad_token_id] * padding_length\n",
    "        attention_mask = attention_mask + [0] * padding_length\n",
    "        labels = labels + [-100] * padding_length\n",
    "    else:\n",
    "        # Nếu quá dài, cắt bớt (nên không xảy ra nhờ truncation ở trên)\n",
    "        input_ids = input_ids[:max_length]\n",
    "        attention_mask = attention_mask[:max_length]\n",
    "        labels = labels[:max_length]\n",
    "    \n",
    "    return {\n",
    "        \"input_ids\": input_ids,\n",
    "        \"attention_mask\": attention_mask,\n",
    "        \"labels\": labels,\n",
    "    }\n",
    "tokenized_dataset = dataset.map(tokenize, batched=False, fn_kwargs={\"max_length\": 1024})\n",
    "tokenized_dataset.set_format(type=\"torch\", columns=[\"input_ids\", \"attention_mask\", \"labels\"])\n",
    "\n",
    "collator = default_data_collator\n",
    "\n",
    "train_loader = DataLoader(\n",
    "    tokenized_dataset[\"train\"],\n",
    "    batch_size=4,\n",
    "    shuffle=True,\n",
    "    collate_fn=collator\n",
    ")\n",
    "\n",
    "val_loader = DataLoader(\n",
    "    tokenized_dataset[\"test\"],\n",
    "    batch_size=4,\n",
    "    shuffle=False,\n",
    "    collate_fn=collator\n",
    ")\n"
   ]
  },
  {
   "cell_type": "code",
   "execution_count": 9,
   "metadata": {
    "execution": {
     "iopub.execute_input": "2025-03-25T02:12:35.734023Z",
     "iopub.status.busy": "2025-03-25T02:12:35.733625Z",
     "iopub.status.idle": "2025-03-25T02:12:35.752306Z",
     "shell.execute_reply": "2025-03-25T02:12:35.751314Z",
     "shell.execute_reply.started": "2025-03-25T02:12:35.733992Z"
    },
    "trusted": true
   },
   "outputs": [
    {
     "data": {
      "text/plain": [
       "PeftModelForCausalLM(\n",
       "  (base_model): LoraModel(\n",
       "    (model): LlamaForCausalLM(\n",
       "      (model): LlamaModel(\n",
       "        (embed_tokens): Embedding(128256, 2048)\n",
       "        (layers): ModuleList(\n",
       "          (0-15): 16 x LlamaDecoderLayer(\n",
       "            (self_attn): LlamaSdpaAttention(\n",
       "              (q_proj): lora.Linear4bit(\n",
       "                (base_layer): Linear4bit(in_features=2048, out_features=2048, bias=False)\n",
       "                (lora_dropout): ModuleDict(\n",
       "                  (default): Dropout(p=0.05, inplace=False)\n",
       "                )\n",
       "                (lora_A): ModuleDict(\n",
       "                  (default): Linear(in_features=2048, out_features=8, bias=False)\n",
       "                )\n",
       "                (lora_B): ModuleDict(\n",
       "                  (default): Linear(in_features=8, out_features=2048, bias=False)\n",
       "                )\n",
       "                (lora_embedding_A): ParameterDict()\n",
       "                (lora_embedding_B): ParameterDict()\n",
       "                (lora_magnitude_vector): ModuleDict()\n",
       "              )\n",
       "              (k_proj): Linear4bit(in_features=2048, out_features=512, bias=False)\n",
       "              (v_proj): lora.Linear4bit(\n",
       "                (base_layer): Linear4bit(in_features=2048, out_features=512, bias=False)\n",
       "                (lora_dropout): ModuleDict(\n",
       "                  (default): Dropout(p=0.05, inplace=False)\n",
       "                )\n",
       "                (lora_A): ModuleDict(\n",
       "                  (default): Linear(in_features=2048, out_features=8, bias=False)\n",
       "                )\n",
       "                (lora_B): ModuleDict(\n",
       "                  (default): Linear(in_features=8, out_features=512, bias=False)\n",
       "                )\n",
       "                (lora_embedding_A): ParameterDict()\n",
       "                (lora_embedding_B): ParameterDict()\n",
       "                (lora_magnitude_vector): ModuleDict()\n",
       "              )\n",
       "              (o_proj): Linear4bit(in_features=2048, out_features=2048, bias=False)\n",
       "              (rotary_emb): LlamaRotaryEmbedding()\n",
       "            )\n",
       "            (mlp): LlamaMLP(\n",
       "              (gate_proj): Linear4bit(in_features=2048, out_features=8192, bias=False)\n",
       "              (up_proj): Linear4bit(in_features=2048, out_features=8192, bias=False)\n",
       "              (down_proj): Linear4bit(in_features=8192, out_features=2048, bias=False)\n",
       "              (act_fn): SiLU()\n",
       "            )\n",
       "            (input_layernorm): LlamaRMSNorm((2048,), eps=1e-05)\n",
       "            (post_attention_layernorm): LlamaRMSNorm((2048,), eps=1e-05)\n",
       "          )\n",
       "        )\n",
       "        (norm): LlamaRMSNorm((2048,), eps=1e-05)\n",
       "        (rotary_emb): LlamaRotaryEmbedding()\n",
       "      )\n",
       "      (lm_head): Linear(in_features=2048, out_features=128256, bias=False)\n",
       "    )\n",
       "  )\n",
       ")"
      ]
     },
     "execution_count": 9,
     "metadata": {},
     "output_type": "execute_result"
    }
   ],
   "source": [
    "optimizer = torch.optim.AdamW(model.parameters(), lr=2e-5)\n",
    "device = torch.device(\"cuda\" if torch.cuda.is_available() else \"cpu\")\n",
    "model.to(device)"
   ]
  },
  {
   "cell_type": "code",
   "execution_count": 10,
   "metadata": {
    "execution": {
     "iopub.execute_input": "2025-03-25T02:12:38.372824Z",
     "iopub.status.busy": "2025-03-25T02:12:38.372486Z",
     "iopub.status.idle": "2025-03-25T05:59:21.517935Z",
     "shell.execute_reply": "2025-03-25T05:59:21.517143Z",
     "shell.execute_reply.started": "2025-03-25T02:12:38.372799Z"
    },
    "trusted": true
   },
   "outputs": [
    {
     "name": "stdout",
     "output_type": "stream",
     "text": [
      "Epoch 1/3\n"
     ]
    },
    {
     "name": "stderr",
     "output_type": "stream",
     "text": [
      "  0%|          | 0/479 [00:00<?, ?it/s]`use_cache=True` is incompatible with gradient checkpointing. Setting `use_cache=False`.\n",
      "/usr/local/lib/python3.10/dist-packages/torch/_dynamo/eval_frame.py:632: UserWarning: torch.utils.checkpoint: the use_reentrant parameter should be passed explicitly. In version 2.5 we will raise an exception if use_reentrant is not passed. use_reentrant=False is recommended, but if you need to preserve the current default behavior, you can pass use_reentrant=True. Refer to docs for more details on the differences between the two variants.\n",
      "  return fn(*args, **kwargs)\n",
      "Loss: 0.1117: 100%|██████████| 479/479 [1:15:30<00:00,  9.46s/it]\n"
     ]
    },
    {
     "name": "stdout",
     "output_type": "stream",
     "text": [
      "✅ Epoch 1 completed — Avg loss: 0.3874\n",
      "Epoch 2/3\n"
     ]
    },
    {
     "name": "stderr",
     "output_type": "stream",
     "text": [
      "Loss: 0.6455: 100%|██████████| 479/479 [1:15:40<00:00,  9.48s/it]\n"
     ]
    },
    {
     "name": "stdout",
     "output_type": "stream",
     "text": [
      "✅ Epoch 2 completed — Avg loss: 0.3336\n",
      "Epoch 3/3\n"
     ]
    },
    {
     "name": "stderr",
     "output_type": "stream",
     "text": [
      "Loss: 0.5744: 100%|██████████| 479/479 [1:15:32<00:00,  9.46s/it]"
     ]
    },
    {
     "name": "stdout",
     "output_type": "stream",
     "text": [
      "✅ Epoch 3 completed — Avg loss: 0.3229\n"
     ]
    },
    {
     "name": "stderr",
     "output_type": "stream",
     "text": [
      "\n"
     ]
    }
   ],
   "source": [
    "n_epochs = 3\n",
    "\n",
    "for epoch in range(n_epochs):\n",
    "    print(f\"Epoch {epoch+1}/{n_epochs}\")\n",
    "    model.train()\n",
    "    pbar = tqdm(train_loader)\n",
    "    total_loss = 0\n",
    "\n",
    "    for batch in pbar:\n",
    "        batch = {k: v.to(device) for k, v in batch.items()}\n",
    "        outputs = model(**batch)\n",
    "        loss = outputs.loss\n",
    "        loss.backward()\n",
    "        optimizer.step()\n",
    "        optimizer.zero_grad()\n",
    "\n",
    "        total_loss += loss.item()\n",
    "        pbar.set_description(f\"Loss: {loss.item():.4f}\")\n",
    "\n",
    "    avg_loss = total_loss / len(train_loader)\n",
    "    print(f\"✅ Epoch {epoch+1} completed — Avg loss: {avg_loss:.4f}\")"
   ]
  },
  {
   "cell_type": "code",
   "execution_count": 11,
   "metadata": {
    "execution": {
     "iopub.execute_input": "2025-03-25T06:17:45.913939Z",
     "iopub.status.busy": "2025-03-25T06:17:45.913605Z",
     "iopub.status.idle": "2025-03-25T06:17:46.415225Z",
     "shell.execute_reply": "2025-03-25T06:17:46.414471Z",
     "shell.execute_reply.started": "2025-03-25T06:17:45.913913Z"
    },
    "trusted": true
   },
   "outputs": [
    {
     "name": "stdout",
     "output_type": "stream",
     "text": [
      "✅ Finetuned model saved at: /kaggle/working/llama3-qlora-finetuned\n"
     ]
    }
   ],
   "source": [
    "output_dir = \"/kaggle/working/llama3-qlora-finetuned\"\n",
    "model.save_pretrained(output_dir)\n",
    "tokenizer.save_pretrained(output_dir)\n",
    "\n",
    "print(\"✅ Finetuned model saved at:\", output_dir)"
   ]
  },
  {
   "cell_type": "code",
   "execution_count": 12,
   "metadata": {
    "execution": {
     "iopub.execute_input": "2025-03-25T06:17:48.975310Z",
     "iopub.status.busy": "2025-03-25T06:17:48.974907Z",
     "iopub.status.idle": "2025-03-25T06:17:48.989617Z",
     "shell.execute_reply": "2025-03-25T06:17:48.988750Z",
     "shell.execute_reply.started": "2025-03-25T06:17:48.975272Z"
    },
    "trusted": true
   },
   "outputs": [],
   "source": [
    "def evaluate_after_training(model, val_loader, tokenizer, device, num_samples=5):\n",
    "    import evaluate\n",
    "    from torch.nn.utils.rnn import pad_sequence\n",
    "\n",
    "    model.eval()\n",
    "    predictions = []\n",
    "    references = []\n",
    "    samples_to_print = []\n",
    "\n",
    "    # Load ROUGE\n",
    "    rouge = evaluate.load(\"rouge\")\n",
    "\n",
    "    tokenizer.pad_token = tokenizer.eos_token\n",
    "    tokenizer.padding_side = \"left\"\n",
    "\n",
    "    def left_pad(inputs, pad_token_id):\n",
    "        \"\"\"Chuyển batch input thành left-padded\"\"\"\n",
    "        max_len = max(len(seq) for seq in inputs)\n",
    "        return torch.stack([\n",
    "            torch.cat([torch.full((max_len - len(seq),), pad_token_id, dtype=torch.long), seq])\n",
    "            for seq in inputs\n",
    "        ])\n",
    "\n",
    "    with torch.no_grad():\n",
    "        for batch in tqdm(val_loader, desc=\"Evaluating\"):\n",
    "            input_ids = batch[\"input_ids\"]\n",
    "            attention_mask = batch[\"attention_mask\"]\n",
    "            labels = batch[\"labels\"]\n",
    "\n",
    "            # Chuyển sang left padding thủ công\n",
    "            input_ids = left_pad([x[x != tokenizer.pad_token_id] for x in input_ids], tokenizer.pad_token_id).to(device)\n",
    "            attention_mask = (input_ids != tokenizer.pad_token_id).long()\n",
    "\n",
    "            # Generate\n",
    "            generated_ids = model.generate(\n",
    "                input_ids=input_ids,\n",
    "                attention_mask=attention_mask,\n",
    "                max_new_tokens=128,\n",
    "                num_beams=4,\n",
    "                do_sample=False,\n",
    "                pad_token_id=tokenizer.eos_token_id\n",
    "            )\n",
    "\n",
    "            # Decode\n",
    "            generated_texts = tokenizer.batch_decode(generated_ids, skip_special_tokens=True)\n",
    "\n",
    "            label_texts = []\n",
    "            for label in labels:\n",
    "                label_ids = [token_id for token_id in label.tolist() if token_id != -100]\n",
    "                label_texts.append(tokenizer.decode(label_ids, skip_special_tokens=True))\n",
    "\n",
    "            predictions.extend(generated_texts)\n",
    "            references.extend(label_texts)\n",
    "\n",
    "            if len(samples_to_print) < num_samples:\n",
    "                src_texts = tokenizer.batch_decode(input_ids, skip_special_tokens=True)\n",
    "                for src, ref, pred in zip(src_texts, label_texts, generated_texts):\n",
    "                    samples_to_print.append((src, ref, pred))\n",
    "                    if len(samples_to_print) >= num_samples:\n",
    "                        break\n",
    "\n",
    "    # Tính ROUGE\n",
    "    results = rouge.compute(predictions=predictions, references=references, use_stemmer=True)\n",
    "\n",
    "    print(\"\\n📊 ROUGE Scores:\")\n",
    "    for key in results:\n",
    "        print(f\"{key}: {results[key]:.4f}\")\n",
    "\n",
    "    print(\"\\n📝 Sample Results:\")\n",
    "    for i, (src, ref, pred) in enumerate(samples_to_print):\n",
    "        print(f\"\\n--- Sample {i+1} ---\")\n",
    "        print(f\"[Prompt]    {src}\")\n",
    "        print(f\"[Reference] {ref}\")\n",
    "        print(f\"[Generated] {pred}\")\n"
   ]
  },
  {
   "cell_type": "code",
   "execution_count": 13,
   "metadata": {
    "execution": {
     "iopub.execute_input": "2025-03-25T06:17:58.126195Z",
     "iopub.status.busy": "2025-03-25T06:17:58.125880Z",
     "iopub.status.idle": "2025-03-25T06:46:46.971858Z",
     "shell.execute_reply": "2025-03-25T06:46:46.970856Z",
     "shell.execute_reply.started": "2025-03-25T06:17:58.126168Z"
    },
    "trusted": true
   },
   "outputs": [
    {
     "data": {
      "application/vnd.jupyter.widget-view+json": {
       "model_id": "8049e6ddbc1648669000bda4cdc31214",
       "version_major": 2,
       "version_minor": 0
      },
      "text/plain": [
       "Downloading builder script:   0%|          | 0.00/6.27k [00:00<?, ?B/s]"
      ]
     },
     "metadata": {},
     "output_type": "display_data"
    },
    {
     "name": "stderr",
     "output_type": "stream",
     "text": [
      "Evaluating:   0%|          | 0/54 [00:00<?, ?it/s]/usr/local/lib/python3.10/dist-packages/transformers/generation/configuration_utils.py:628: UserWarning: `do_sample` is set to `False`. However, `temperature` is set to `0.6` -- this flag is only used in sample-based generation modes. You should set `do_sample=True` or unset `temperature`.\n",
      "  warnings.warn(\n",
      "/usr/local/lib/python3.10/dist-packages/transformers/generation/configuration_utils.py:633: UserWarning: `do_sample` is set to `False`. However, `top_p` is set to `0.9` -- this flag is only used in sample-based generation modes. You should set `do_sample=True` or unset `top_p`.\n",
      "  warnings.warn(\n",
      "Evaluating: 100%|██████████| 54/54 [28:22<00:00, 31.53s/it]\n"
     ]
    },
    {
     "name": "stdout",
     "output_type": "stream",
     "text": [
      "\n",
      "📊 ROUGE Scores:\n",
      "rouge1: 0.4274\n",
      "rouge2: 0.4257\n",
      "rougeL: 0.4274\n",
      "rougeLsum: 0.4271\n",
      "\n",
      "📝 Sample Results:\n",
      "\n",
      "--- Sample 1 ---\n",
      "[Prompt]    ### Prompt:\n",
      "system\n",
      "You are a helpful summarization assistant. Provide a concise and accurate summary of the article.\n",
      "user\n",
      "Summarize the following article:\n",
      "Norway upholds 'Napster' ruling\n",
      "\n",
      "A Norwegian student who ran a website which linked to downloadable MP3 files has been ordered to pay compensation by the country's Supreme Court.\n",
      "\n",
      "Frank Allan Bruvik was ordered to pay 100,000 kroner (£8,000) to the music industry in Norway. He was a student when he set up his napster.no site, which allowed users to submit and receive links to MP3 files. Bruvik had earlier been cleared on appeal after a lower court had found for the music industry. Music industry bosses in Norway said the ruling would help build confidence in the internet as a distribution medium.\n",
      "\n",
      "Frank Allan Bruvik set up the napster.no website as part of a school project in 2001 while studying computer engineering in the Norwegian town of Lillehammer. The website was not associated with the napster.com site in the USA, which had been operating since 1999 and was already facing legal action.\n",
      "\n",
      "Bruvik's site was online between August and November 2001, and while it did not host any music, at its peak it was providing links to more than 170 free files on other servers. As well as providing links, the site allowed those visiting it to submit links that could later be accessed by other visitors. A legal complaint for copyright violation was filed by groups including Norway's performing rights society, Tono, and the Norwegian branches of Sony Music and Universal Music, who saw it as an important test of principle.\n",
      "\n",
      "A Norwegian court ruled in 2003 that Bruvik would have to pay 100,000 kroner to the music industry, but the country's Court of Appeal cleared him, saying that the copyright violation occurred when others posted the music. However, the Supreme Court stated that the music was clearly published in violation of copyright law It added that the case was decided based on the responsibility for abetting an illegal act, and that Bruvik's actions were premeditated. Norway's music industry said it was satisfied with the ruling, because showed that music piracy would not be accepted.\n",
      "\n",
      "Meanwhile, in the USA a further 717 lawsuits against people alleged to have traded copyrighted songs were filed this week by the Recording Industry Association of America. The suits, brought on behalf of the major record companies, cite the individuals for illegally distributing music via unauthorized peer-to-peer services such as KaZaa and eDonkey. As with preceding cases, the fresh action was made against so-called \"John Doe\" defendants, who are identified only by the codes given to their computers' internet connections.\n",
      "assistant\n",
      "\n",
      "\n",
      "### Summary:\n",
      "Frank Allan Bruvik was ordered to pay 100,000 kroner (£8,000) to the music industry in Norway.Norway's music industry said it was satisfied with the ruling, because showed that music piracy would not be accepted.A Norwegian court ruled in 2003 that Bruvik would have to pay 100,000 kroner to the music industry, but the country's Court of Appeal cleared him, saying that the copyright violation occurred when others posted the music.Bruvik's site was online between August and November 2001, and while it did not host any music, at its peak it was providing links to more than 170 free files on other servers.However, the Supreme Court stated that the music was clearly published in violation of copyright law It added that the case was decided based on the responsibility for abetting an illegal act, and that Bruvik's actions were premeditated.A legal complaint for copyright violation was filed by groups including Norway's performing rights society, Tono, and the Norwegian branches of Sony Music and Universal Music, who saw it as an important test of principle.Bruvik had earlier been cleared on appeal after a lower court had found for the music industry.\n",
      "[Reference] Frank Allan Bruvik was ordered to pay 100,000 kroner (£8,000) to the music industry in Norway.Norway's music industry said it was satisfied with the ruling, because showed that music piracy would not be accepted.A Norwegian court ruled in 2003 that Bruvik would have to pay 100,000 kroner to the music industry, but the country's Court of Appeal cleared him, saying that the copyright violation occurred when others posted the music.Bruvik's site was online between August and November 2001, and while it did not host any music, at its peak it was providing links to more than 170 free files on other servers.However, the Supreme Court stated that the music was clearly published in violation of copyright law It added that the case was decided based on the responsibility for abetting an illegal act, and that Bruvik's actions were premeditated.A legal complaint for copyright violation was filed by groups including Norway's performing rights society, Tono, and the Norwegian branches of Sony Music and Universal Music, who saw it as an important test of principle.Bruvik had earlier been cleared on appeal after a lower court had found for the music industry.\n",
      "[Generated] ### Prompt:\n",
      "system\n",
      "You are a helpful summarization assistant. Provide a concise and accurate summary of the article.\n",
      "user\n",
      "Summarize the following article:\n",
      "Norway upholds 'Napster' ruling\n",
      "\n",
      "A Norwegian student who ran a website which linked to downloadable MP3 files has been ordered to pay compensation by the country's Supreme Court.\n",
      "\n",
      "Frank Allan Bruvik was ordered to pay 100,000 kroner (£8,000) to the music industry in Norway. He was a student when he set up his napster.no site, which allowed users to submit and receive links to MP3 files. Bruvik had earlier been cleared on appeal after a lower court had found for the music industry. Music industry bosses in Norway said the ruling would help build confidence in the internet as a distribution medium.\n",
      "\n",
      "Frank Allan Bruvik set up the napster.no website as part of a school project in 2001 while studying computer engineering in the Norwegian town of Lillehammer. The website was not associated with the napster.com site in the USA, which had been operating since 1999 and was already facing legal action.\n",
      "\n",
      "Bruvik's site was online between August and November 2001, and while it did not host any music, at its peak it was providing links to more than 170 free files on other servers. As well as providing links, the site allowed those visiting it to submit links that could later be accessed by other visitors. A legal complaint for copyright violation was filed by groups including Norway's performing rights society, Tono, and the Norwegian branches of Sony Music and Universal Music, who saw it as an important test of principle.\n",
      "\n",
      "A Norwegian court ruled in 2003 that Bruvik would have to pay 100,000 kroner to the music industry, but the country's Court of Appeal cleared him, saying that the copyright violation occurred when others posted the music. However, the Supreme Court stated that the music was clearly published in violation of copyright law It added that the case was decided based on the responsibility for abetting an illegal act, and that Bruvik's actions were premeditated. Norway's music industry said it was satisfied with the ruling, because showed that music piracy would not be accepted.\n",
      "\n",
      "Meanwhile, in the USA a further 717 lawsuits against people alleged to have traded copyrighted songs were filed this week by the Recording Industry Association of America. The suits, brought on behalf of the major record companies, cite the individuals for illegally distributing music via unauthorized peer-to-peer services such as KaZaa and eDonkey. As with preceding cases, the fresh action was made against so-called \"John Doe\" defendants, who are identified only by the codes given to their computers' internet connections.\n",
      "assistant\n",
      "\n",
      "\n",
      "### Summary:\n",
      "Frank Allan Bruvik was ordered to pay 100,000 kroner (£8,000) to the music industry in Norway.Norway's music industry said it was satisfied with the ruling, because showed that music piracy would not be accepted.A Norwegian court ruled in 2003 that Bruvik would have to pay 100,000 kroner to the music industry, but the country's Court of Appeal cleared him, saying that the copyright violation occurred when others posted the music.Bruvik's site was online between August and November 2001, and while it did not host any music, at its peak it was providing links to more than 170 free files on other servers.However, the Supreme Court stated that the music was clearly published in violation of copyright law It added that the case was decided based on the responsibility for abetting an illegal act, and that Bruvik's actions were premeditated.A legal complaint for copyright violation was filed by groups including Norway's performing rights society, Tono, and the Norwegian branches of Sony Music and Universal Music, who saw it as an important test of principle.Bruvik had earlier been cleared on appeal after a lower court had found for the music industry.  Music industry bosses in Norway said the ruling would help build confidence in the internet as a distribution medium.  As with preceding cases, the fresh action was made against so-called \"John Doe\" defendants, who are identified only by the codes given to their computers' internet connections.\n",
      "\n",
      "--- Sample 2 ---\n",
      "[Prompt]    ### Prompt:\n",
      "system\n",
      "You are a helpful summarization assistant. Provide a concise and accurate summary of the article.\n",
      "user\n",
      "Summarize the following article:\n",
      "Films on war triumph at Sundance\n",
      "\n",
      "A study of the United States at war in the past 50 years has picked up one of the main awards at the 2005 Sundance Film Festival in Utah, in the US.\n",
      "\n",
      "Why We Fight scooped the grand jury prize for documentaries at the world's leading independent film festival. British director Sean McAllister's The Liberace of Baghdad - about a pianist in war-torn Iraq - won a special prize in the world documentary category. Both Why We Fight and The Liberace of Baghdad were made for the BBC. Why We Fight is due to be screened on BBC Four in March.\n",
      "\n",
      "The Sundance festival was founded by actor Robert Redford in 1981. This year's festival - which ended on Sunday after a 11-day run - has been dominated by the themes of war and politics. In the new world cinema drama category, the Angolan film The Hero triumphed to win the grand jury prize. The film - an Angolan/French/Portuguese production - tells the story of a veteran of the country's civil war who returns home to face a new battle of survival. Twelve films competing in the new world cinema documentary category focused on countries and people under siege.\n",
      "\n",
      "Finnish film The Three Rooms of Melancholia looks at the war in Chechnya and Shake Hands With The Devil: The Journey of Romeo Dallaire tells the story of a UN mission to Rwanda during the 1994 genocide. But it was Dutch documentary Shape of the Moon - a study of an extended family in Indonesia - which took the top prize. Meanwhile, French-Israeli production Wall, which looks at Israel's controversial security wall separating it from the Palestinian territories, picked up a world cinema special jury prize for documentaries. In the main drama category, Forty Shades of Blue was named winner of the grand jury prize. The film tells the tale of a forbidden tug-of-love between a father, his Russian immigrant girlfriend and his son.\n",
      "\n",
      "During its 24-year history, the Sundance Film Festival has showcased successes such as Reservoir Dogs, The Blair Witch Project and The Full Monty. Last year's festival provided a platform for hits such as Open Water, Napoleon Dynamite, Garden State and Super-Size Me. The festival is held in the mountain resort of Park City, east of Salt Lake City, which sees its population rise from 7,500 to 45,000 during the festival.\n",
      "assistant\n",
      "\n",
      "\n",
      "### Summary:\n",
      "Why We Fight scooped the grand jury prize for documentaries at the world's leading independent film festival.In the new world cinema drama category, the Angolan film The Hero triumphed to win the grand jury prize.A study of the United States at war in the past 50 years has picked up one of the main awards at the 2005 Sundance Film Festival in Utah, in the US.Twelve films competing in the new world cinema documentary category focused on countries and people under siege.During its 24-year history, the Sundance Film Festival has showcased successes such as Reservoir Dogs, The Blair Witch Project and The Full Monty.British director Sean McAllister's The Liberace of Baghdad - about a pianist in war-torn Iraq - won a special prize in the world documentary category.In the main drama category, Forty Shades of Blue was named winner of the grand jury prize.The Sundance festival was founded by actor Robert Redford in 1981.\n",
      "[Reference] Why We Fight scooped the grand jury prize for documentaries at the world's leading independent film festival.In the new world cinema drama category, the Angolan film The Hero triumphed to win the grand jury prize.A study of the United States at war in the past 50 years has picked up one of the main awards at the 2005 Sundance Film Festival in Utah, in the US.Twelve films competing in the new world cinema documentary category focused on countries and people under siege.During its 24-year history, the Sundance Film Festival has showcased successes such as Reservoir Dogs, The Blair Witch Project and The Full Monty.British director Sean McAllister's The Liberace of Baghdad - about a pianist in war-torn Iraq - won a special prize in the world documentary category.In the main drama category, Forty Shades of Blue was named winner of the grand jury prize.The Sundance festival was founded by actor Robert Redford in 1981.\n",
      "[Generated] ### Prompt:\n",
      "system\n",
      "You are a helpful summarization assistant. Provide a concise and accurate summary of the article.\n",
      "user\n",
      "Summarize the following article:\n",
      "Films on war triumph at Sundance\n",
      "\n",
      "A study of the United States at war in the past 50 years has picked up one of the main awards at the 2005 Sundance Film Festival in Utah, in the US.\n",
      "\n",
      "Why We Fight scooped the grand jury prize for documentaries at the world's leading independent film festival. British director Sean McAllister's The Liberace of Baghdad - about a pianist in war-torn Iraq - won a special prize in the world documentary category. Both Why We Fight and The Liberace of Baghdad were made for the BBC. Why We Fight is due to be screened on BBC Four in March.\n",
      "\n",
      "The Sundance festival was founded by actor Robert Redford in 1981. This year's festival - which ended on Sunday after a 11-day run - has been dominated by the themes of war and politics. In the new world cinema drama category, the Angolan film The Hero triumphed to win the grand jury prize. The film - an Angolan/French/Portuguese production - tells the story of a veteran of the country's civil war who returns home to face a new battle of survival. Twelve films competing in the new world cinema documentary category focused on countries and people under siege.\n",
      "\n",
      "Finnish film The Three Rooms of Melancholia looks at the war in Chechnya and Shake Hands With The Devil: The Journey of Romeo Dallaire tells the story of a UN mission to Rwanda during the 1994 genocide. But it was Dutch documentary Shape of the Moon - a study of an extended family in Indonesia - which took the top prize. Meanwhile, French-Israeli production Wall, which looks at Israel's controversial security wall separating it from the Palestinian territories, picked up a world cinema special jury prize for documentaries. In the main drama category, Forty Shades of Blue was named winner of the grand jury prize. The film tells the tale of a forbidden tug-of-love between a father, his Russian immigrant girlfriend and his son.\n",
      "\n",
      "During its 24-year history, the Sundance Film Festival has showcased successes such as Reservoir Dogs, The Blair Witch Project and The Full Monty. Last year's festival provided a platform for hits such as Open Water, Napoleon Dynamite, Garden State and Super-Size Me. The festival is held in the mountain resort of Park City, east of Salt Lake City, which sees its population rise from 7,500 to 45,000 during the festival.\n",
      "assistant\n",
      "\n",
      "\n",
      "### Summary:\n",
      "Why We Fight scooped the grand jury prize for documentaries at the world's leading independent film festival.In the new world cinema drama category, the Angolan film The Hero triumphed to win the grand jury prize.A study of the United States at war in the past 50 years has picked up one of the main awards at the 2005 Sundance Film Festival in Utah, in the US.Twelve films competing in the new world cinema documentary category focused on countries and people under siege.During its 24-year history, the Sundance Film Festival has showcased successes such as Reservoir Dogs, The Blair Witch Project and The Full Monty.British director Sean McAllister's The Liberace of Baghdad - about a pianist in war-torn Iraq - won a special prize in the world documentary category.In the main drama category, Forty Shades of Blue was named winner of the grand jury prize.The Sundance festival was founded by actor Robert Redford in 1981.Both Why We Fight and The Liberace of Baghdad were made for the BBC.Finnish film The Three Rooms of Melancholia looks at the war in Chechnya and Shake Hands With The Devil: The Journey of Romeo Dallaire tells the story of a UN mission to Rwanda during the 1994 genocide.\n",
      "\n",
      "--- Sample 3 ---\n",
      "[Prompt]    ### Prompt:\n",
      "system\n",
      "You are a helpful summarization assistant. Provide a concise and accurate summary of the article.\n",
      "user\n",
      "Summarize the following article:\n",
      "EMI shares hit by profit warning\n",
      "\n",
      "Shares in music giant EMI have sunk by more than 16% after the firm issued a profit warning following disappointing sales and delays to two album releases.\n",
      "\n",
      "EMI said music sales for the year to March will fall 8-9% from the year before, with profits set to be 15% lower than analysts had expected. It blamed poor sales since Christmas and delays to the releases of new albums by Coldplay and Gorillaz. By 1200 GMT on Monday, EMI shares were down 16.2% at 235.75 pence.\n",
      "\n",
      "EMI said two major albums scheduled for release before the end of the financial year in March - one by Coldplay and one by Gorillaz - have now had their release dates put back.\n",
      "\n",
      "\"EMI Music's sales, particularly re-orders, in January have also been lower than anticipated and this is expected to continue through February and March,\" the company added. \"Therefore, for the full year, at constant currency, EMI Music's sales are now expected to be 8% to 9% lower than the prior year.\" The company said it expected profits to be about £138m ($259.8m). Alain Levy, chairman and chief executive of EMI Music, described the performance as \"disappointing\", but added that he remained optimistic over future trends in the industry. \"The physical music market is showing signs of stabilisation in many parts of the world and digital music, in all its forms, continues to develop at a rapid pace,\" he said.\n",
      "\n",
      "Commenting on the delay to the release of the Coldplay and Gorillaz albums, Mr Levy said that \"creating and marketing music is not an exact science and cannot always coincide with our reporting periods\". \"While this rescheduling and recent softness is disappointing, it does not change my views of the improving health of the global recorded music industry,\" he added. Paul Richards, an analyst at Numis Securities, said the market would be focusing on the slump in music sales rather than the timing of the two albums. \"It's unusual to see this much of a downgrade just because of phasing,\" he said.\n",
      "assistant\n",
      "\n",
      "\n",
      "### Summary:\n",
      "EMI said music sales for the year to March will fall 8-9% from the year before, with profits set to be 15% lower than analysts had expected.Shares in music giant EMI have sunk by more than 16% after the firm issued a profit warning following disappointing sales and delays to two album releases.EMI said two major albums scheduled for release before the end of the financial year in March - one by Coldplay and one by Gorillaz - have now had their release dates put back.\"Therefore, for the full year, at constant currency, EMI Music's sales are now expected to be 8% to 9% lower than the prior year.\"The company said it expected profits to be about £138m ($259.8m).Commenting on the delay to the release of the Coldplay and Gorillaz albums, Mr Levy said that \"creating and marketing music is not an exact science and cannot always coincide with our reporting periods\".\n",
      "[Reference] EMI said music sales for the year to March will fall 8-9% from the year before, with profits set to be 15% lower than analysts had expected.Shares in music giant EMI have sunk by more than 16% after the firm issued a profit warning following disappointing sales and delays to two album releases.EMI said two major albums scheduled for release before the end of the financial year in March - one by Coldplay and one by Gorillaz - have now had their release dates put back.\"Therefore, for the full year, at constant currency, EMI Music's sales are now expected to be 8% to 9% lower than the prior year.\"The company said it expected profits to be about £138m ($259.8m).Commenting on the delay to the release of the Coldplay and Gorillaz albums, Mr Levy said that \"creating and marketing music is not an exact science and cannot always coincide with our reporting periods\".\n",
      "[Generated] ### Prompt:\n",
      "system\n",
      "You are a helpful summarization assistant. Provide a concise and accurate summary of the article.\n",
      "user\n",
      "Summarize the following article:\n",
      "EMI shares hit by profit warning\n",
      "\n",
      "Shares in music giant EMI have sunk by more than 16% after the firm issued a profit warning following disappointing sales and delays to two album releases.\n",
      "\n",
      "EMI said music sales for the year to March will fall 8-9% from the year before, with profits set to be 15% lower than analysts had expected. It blamed poor sales since Christmas and delays to the releases of new albums by Coldplay and Gorillaz. By 1200 GMT on Monday, EMI shares were down 16.2% at 235.75 pence.\n",
      "\n",
      "EMI said two major albums scheduled for release before the end of the financial year in March - one by Coldplay and one by Gorillaz - have now had their release dates put back.\n",
      "\n",
      "\"EMI Music's sales, particularly re-orders, in January have also been lower than anticipated and this is expected to continue through February and March,\" the company added. \"Therefore, for the full year, at constant currency, EMI Music's sales are now expected to be 8% to 9% lower than the prior year.\" The company said it expected profits to be about £138m ($259.8m). Alain Levy, chairman and chief executive of EMI Music, described the performance as \"disappointing\", but added that he remained optimistic over future trends in the industry. \"The physical music market is showing signs of stabilisation in many parts of the world and digital music, in all its forms, continues to develop at a rapid pace,\" he said.\n",
      "\n",
      "Commenting on the delay to the release of the Coldplay and Gorillaz albums, Mr Levy said that \"creating and marketing music is not an exact science and cannot always coincide with our reporting periods\". \"While this rescheduling and recent softness is disappointing, it does not change my views of the improving health of the global recorded music industry,\" he added. Paul Richards, an analyst at Numis Securities, said the market would be focusing on the slump in music sales rather than the timing of the two albums. \"It's unusual to see this much of a downgrade just because of phasing,\" he said.\n",
      "assistant\n",
      "\n",
      "\n",
      "### Summary:\n",
      "EMI said music sales for the year to March will fall 8-9% from the year before, with profits set to be 15% lower than analysts had expected.Shares in music giant EMI have sunk by more than 16% after the firm issued a profit warning following disappointing sales and delays to two album releases.EMI said two major albums scheduled for release before the end of the financial year in March - one by Coldplay and one by Gorillaz - have now had their release dates put back.\"Therefore, for the full year, at constant currency, EMI Music's sales are now expected to be 8% to 9% lower than the prior year.\"The company said it expected profits to be about £138m ($259.8m).Commenting on the delay to the release of the Coldplay and Gorillaz albums, Mr Levy said that \"creating and marketing music is not an exact science and cannot always coincide with our reporting periods\".EMI said music sales for the year to March will fall 8-9% from the year before, with profits set to be 15% lower than analysts had expected.Paul Richards, an analyst at Numis Securities, said the market would be focusing on the slump in music sales rather than the timing of the two albums.EMI said two major albums scheduled for release before the end of the financial year in March - one by Coldplay and one by Gorillaz - have now had their release dates put back.\n",
      "\n",
      "--- Sample 4 ---\n",
      "[Prompt]    ### Prompt:\n",
      "system\n",
      "You are a helpful summarization assistant. Provide a concise and accurate summary of the article.\n",
      "user\n",
      "Summarize the following article:\n",
      "Honda wins China copyright ruling\n",
      "\n",
      "Japan's Honda has won a copyright case in Beijing, further evidence that China is taking a tougher line on protecting intellectual property rights.\n",
      "\n",
      "A court ruled that Chongqing Lifan Industry Group must stop selling Honda brand motorbikes and said it must pay 1.47m yuan ($177,600) in compensation. Internationally recognized regulation is now a key part of China's plans for developing its economy, analysts said. Beijing also has been threatened with sanctions if it fails to clamp down.\n",
      "\n",
      "Chinese firms copy products ranging from computer software and spark plugs to baby milk and compact discs. Despite the fact that product piracy is a major problem, foreign companies have only occasionally won cases and the compensation awarded has usually been small. Still, recent rulings and announcements will have boosted optimism that attitudes are changing. Earlier this week China said that in future it will punish violators of intellectual property rights with up to seven years in jail. And on Tuesday, Paws Incorporated - the owner of the rights to Garfield the cat - won a court battle against a publishing house that violated its copyright. Other firms that have taken legal action in China, with varying degrees of success, include Yamaha, General Motors and Toyota.\n",
      "\n",
      "The problem of piracy is not limited to China, however, and the potential for profit is huge. The European Union estimates that the global trade in pirated wares is worth more than 200bn euros a year (£140bn; $258bn), or about 5% of total world trade. And it is growing. Between 1998 and 2002, the number of counterfeit or pirated goods intercepted at the EU's external borders increased by more than 800%, it said. Last month the EU said it will start monitoring China, Ukraine and Russia to ensure they are going after pirated goods. Other countries on the EU's hit list include Thailand, Brazil, South Korea and Indonesia. Any countries that are not making enough of an effort could be dragged to the World Trade Organisation (WTO), a step that could trigger economic sanctions, the EU warned.\n",
      "assistant\n",
      "\n",
      "\n",
      "### Summary:\n",
      "Japan's Honda has won a copyright case in Beijing, further evidence that China is taking a tougher line on protecting intellectual property rights.Earlier this week China said that in future it will punish violators of intellectual property rights with up to seven years in jail.Last month the EU said it will start monitoring China, Ukraine and Russia to ensure they are going after pirated goods.Between 1998 and 2002, the number of counterfeit or pirated goods intercepted at the EU's external borders increased by more than 800%, it said.Despite the fact that product piracy is a major problem, foreign companies have only occasionally won cases and the compensation awarded has usually been small.The problem of piracy is not limited to China, however, and the potential for profit is huge.Other firms that have taken legal action in China, with varying degrees of success, include Yamaha, General Motors and Toyota.\n",
      "[Reference] Japan's Honda has won a copyright case in Beijing, further evidence that China is taking a tougher line on protecting intellectual property rights.Earlier this week China said that in future it will punish violators of intellectual property rights with up to seven years in jail.Last month the EU said it will start monitoring China, Ukraine and Russia to ensure they are going after pirated goods.Between 1998 and 2002, the number of counterfeit or pirated goods intercepted at the EU's external borders increased by more than 800%, it said.Despite the fact that product piracy is a major problem, foreign companies have only occasionally won cases and the compensation awarded has usually been small.The problem of piracy is not limited to China, however, and the potential for profit is huge.Other firms that have taken legal action in China, with varying degrees of success, include Yamaha, General Motors and Toyota.\n",
      "[Generated] ### Prompt:\n",
      "system\n",
      "You are a helpful summarization assistant. Provide a concise and accurate summary of the article.\n",
      "user\n",
      "Summarize the following article:\n",
      "Honda wins China copyright ruling\n",
      "\n",
      "Japan's Honda has won a copyright case in Beijing, further evidence that China is taking a tougher line on protecting intellectual property rights.\n",
      "\n",
      "A court ruled that Chongqing Lifan Industry Group must stop selling Honda brand motorbikes and said it must pay 1.47m yuan ($177,600) in compensation. Internationally recognized regulation is now a key part of China's plans for developing its economy, analysts said. Beijing also has been threatened with sanctions if it fails to clamp down.\n",
      "\n",
      "Chinese firms copy products ranging from computer software and spark plugs to baby milk and compact discs. Despite the fact that product piracy is a major problem, foreign companies have only occasionally won cases and the compensation awarded has usually been small. Still, recent rulings and announcements will have boosted optimism that attitudes are changing. Earlier this week China said that in future it will punish violators of intellectual property rights with up to seven years in jail. And on Tuesday, Paws Incorporated - the owner of the rights to Garfield the cat - won a court battle against a publishing house that violated its copyright. Other firms that have taken legal action in China, with varying degrees of success, include Yamaha, General Motors and Toyota.\n",
      "\n",
      "The problem of piracy is not limited to China, however, and the potential for profit is huge. The European Union estimates that the global trade in pirated wares is worth more than 200bn euros a year (£140bn; $258bn), or about 5% of total world trade. And it is growing. Between 1998 and 2002, the number of counterfeit or pirated goods intercepted at the EU's external borders increased by more than 800%, it said. Last month the EU said it will start monitoring China, Ukraine and Russia to ensure they are going after pirated goods. Other countries on the EU's hit list include Thailand, Brazil, South Korea and Indonesia. Any countries that are not making enough of an effort could be dragged to the World Trade Organisation (WTO), a step that could trigger economic sanctions, the EU warned.\n",
      "assistant\n",
      "\n",
      "\n",
      "### Summary:\n",
      "Japan's Honda has won a copyright case in Beijing, further evidence that China is taking a tougher line on protecting intellectual property rights.Earlier this week China said that in future it will punish violators of intellectual property rights with up to seven years in jail.Last month the EU said it will start monitoring China, Ukraine and Russia to ensure they are going after pirated goods.Between 1998 and 2002, the number of counterfeit or pirated goods intercepted at the EU's external borders increased by more than 800%, it said.Despite the fact that product piracy is a major problem, foreign companies have only occasionally won cases and the compensation awarded has usually been small.The problem of piracy is not limited to China, however, and the potential for profit is huge.Other firms that have taken legal action in China, with varying degrees of success, include Yamaha, General Motors and Toyota. Still, recent rulings and announcements will have boosted optimism that attitudes are changing.A court ruled that Chongqing Lifan Industry Group must stop selling Honda brand motorbikes and said it must pay 1.47m yuan ($177,600) in compensation. And on Tuesday, Paws Incorporated - the owner of the rights to Garfield the cat - won a court battle against a publishing house that violated its copyright.\n",
      "\n",
      "--- Sample 5 ---\n",
      "[Prompt]    ### Prompt:\n",
      "system\n",
      "You are a helpful summarization assistant. Provide a concise and accurate summary of the article.\n",
      "user\n",
      "Summarize the following article:\n",
      "No half measures with Half-Life 2\n",
      "\n",
      "Could Half-Life 2 possibly live up to the hype? After almost two years of tantalising previews and infuriating delays it's safe to say that this is the most highly-anticipated computer game of all time.\n",
      "\n",
      "Fortunately, it doesn't merely live up to its promise, but exceeds it. No-one who plays the finished product will wonder why it took so long. The impression is of a game that has been endlessly refined to get as close to perfection as could realistically be hoped. All the money - or indeed time - is on the screen. The player sees things through the eyes of Gordon Freeman, the bespectacled scientist who starred in the original 1998 Half-Life. Having survived that skirmish in an desolate monster-infested research facility, he's back in another foreboding troublespot - the enigmatic City 17. It has the look of a beautiful Eastern European city, but as soon as your train pulls in to the station, it's clear that all is not well here. Sinister police patrol the unkempt streets, and the oppressive atmosphere clobbers you like a sledgehammer. A casual smattering of the nightmarish creatures from the first game makes this an even less pleasant place to be.\n",
      "\n",
      "You are herded around like a prisoner and have to mingle with a few freedom-fighting civilians to gather information and progress in your task. It is not immediately explained what your objectives are, nor precisely why everything is so ravaged. Finding out step-by-step is all part of the experience, although you never fully get to understand what it was all about. That does not really matter. HL2 does not waste energy blinding you with plot. Underplaying the narrative in this way is gloriously effective, and immerses the player in the most vivid, convincing and impressive virtual world they are likely to have seen. There are no cut-scenes to interrupt the flow. Exposition is accomplished by other characters stopping to talk directly to you.\n",
      "\n",
      "Whereas the highly impressive Doom III felt like a top-notch theme park thrill-ride, wandering through Half-Life's world truly does feel like being part of a movie.\n",
      "\n",
      "Considering its sophistication, the game runs surprisingly well on computers that only just match the modest minimum specifications. But if ever there was an incentive to upgradeAt times Half-Life 2 feels like one of those annoying people who are unfeasibly brilliant at everything they turn their hand to, and in a curious way, its unrelenting goodness actually becomes almost tiresome.The game does have a couple of problems.Whereas the highly impressive Doom III felt like a top-notch theme park thrill-ride, wandering through Half-Life's world truly does feel like being part of a movie.The impression is of a game that has been endlessly refined to get as close to perfection as could realistically be hoped.Developer Valve has rashly assumed that everyone wanting to play the game will have an internet connection and it forces you to go online to authenticate your copy.After almost two years of tantalising previews and infuriating delays it's safe to say that this is the most highly-anticipated computer game of all time.The bar has been raised, and so far out of sight that you have to sympathise with any game that tries to do anything remotely similar in the near future.Could Half-Life 2 possibly live up to the hype?It has the look of a beautiful Eastern European city, but as soon as your train pulls in to the station, it's clear that all is not well here.The player sees things through the eyes of Gordon Freeman, the bespectacled scientist who starred in the original 1998 Half-Life.Considering its sophistication, the game runs surprisingly well on computers that only just match the modest minimum specifications.It would take a mighty piece of work to feel worthwhile after such annoyances - but luckily, Half-Life 2 is up to the challenge.The box does warn you of this anti-piracy measure, but does not say just how many components have to be downloaded.But the real downside is the hassle of getting the game to run.In gameplay terms, HL2 somehow gets almost everything perfect.Luckily you get time to pause mid-task and marvel at the awesome graphical flourishes of your surroundings.The time spent doing this will depend on your connection speed, the temperamental Valve servers and the time of day, but it can take hours.If you like things open-ended and free-ranging, Far Cry will be a lot more pleasing.A casual smattering of the nightmarish creatures from the first game makes this an even less pleasant place to be.Half-Life 2 is out now for the PCOn our test machine - an Alienware system with an Athlon 3500+ processor and ATI's Radeon X800 video card - everything ran at full quality without trouble, and the visual experience was simply jaw-dropping.\n",
      "[Reference] At times Half-Life 2 feels like one of those annoying people who are unfeasibly brilliant at everything they turn their hand to, and in a curious way, its unrelenting goodness actually becomes almost tiresome.The game does have a couple of problems.Whereas the highly impressive Doom III felt like a top-notch theme park thrill-ride, wandering through Half-Life's world truly does feel like being part of a movie.The impression is of a game that has been endlessly refined to get as close to perfection as could realistically be hoped.Developer Valve has rashly assumed that everyone wanting to play the game will have an internet connection and it forces you to go online to authenticate your copy.After almost two years of tantalising previews and infuriating delays it's safe to say that this is the most highly-anticipated computer game of all time.The bar has been raised, and so far out of sight that you have to sympathise with any game that tries to do anything remotely similar in the near future.Could Half-Life 2 possibly live up to the hype?It has the look of a beautiful Eastern European city, but as soon as your train pulls in to the station, it's clear that all is not well here.The player sees things through the eyes of Gordon Freeman, the bespectacled scientist who starred in the original 1998 Half-Life.Considering its sophistication, the game runs surprisingly well on computers that only just match the modest minimum specifications.It would take a mighty piece of work to feel worthwhile after such annoyances - but luckily, Half-Life 2 is up to the challenge.The box does warn you of this anti-piracy measure, but does not say just how many components have to be downloaded.But the real downside is the hassle of getting the game to run.In gameplay terms, HL2 somehow gets almost everything perfect.Luckily you get time to pause mid-task and marvel at the awesome graphical flourishes of your surroundings.The time spent doing this will depend on your connection speed, the temperamental Valve servers and the time of day, but it can take hours.If you like things open-ended and free-ranging, Far Cry will be a lot more pleasing.A casual smattering of the nightmarish creatures from the first game makes this an even less pleasant place to be.Half-Life 2 is out now for the PCOn our test machine - an Alienware system with an Athlon 3500+ processor and ATI's Radeon X800 video card - everything ran at full quality without trouble, and the visual experience was simply jaw-dropping.\n",
      "[Generated] ### Prompt:\n",
      "system\n",
      "You are a helpful summarization assistant. Provide a concise and accurate summary of the article.\n",
      "user\n",
      "Summarize the following article:\n",
      "No half measures with Half-Life 2\n",
      "\n",
      "Could Half-Life 2 possibly live up to the hype? After almost two years of tantalising previews and infuriating delays it's safe to say that this is the most highly-anticipated computer game of all time.\n",
      "\n",
      "Fortunately, it doesn't merely live up to its promise, but exceeds it. No-one who plays the finished product will wonder why it took so long. The impression is of a game that has been endlessly refined to get as close to perfection as could realistically be hoped. All the money - or indeed time - is on the screen. The player sees things through the eyes of Gordon Freeman, the bespectacled scientist who starred in the original 1998 Half-Life. Having survived that skirmish in an desolate monster-infested research facility, he's back in another foreboding troublespot - the enigmatic City 17. It has the look of a beautiful Eastern European city, but as soon as your train pulls in to the station, it's clear that all is not well here. Sinister police patrol the unkempt streets, and the oppressive atmosphere clobbers you like a sledgehammer. A casual smattering of the nightmarish creatures from the first game makes this an even less pleasant place to be.\n",
      "\n",
      "You are herded around like a prisoner and have to mingle with a few freedom-fighting civilians to gather information and progress in your task. It is not immediately explained what your objectives are, nor precisely why everything is so ravaged. Finding out step-by-step is all part of the experience, although you never fully get to understand what it was all about. That does not really matter. HL2 does not waste energy blinding you with plot. Underplaying the narrative in this way is gloriously effective, and immerses the player in the most vivid, convincing and impressive virtual world they are likely to have seen. There are no cut-scenes to interrupt the flow. Exposition is accomplished by other characters stopping to talk directly to you.\n",
      "\n",
      "Whereas the highly impressive Doom III felt like a top-notch theme park thrill-ride, wandering through Half-Life's world truly does feel like being part of a movie.\n",
      "\n",
      "Considering its sophistication, the game runs surprisingly well on computers that only just match the modest minimum specifications. But if ever there was an incentive to upgradeAt times Half-Life 2 feels like one of those annoying people who are unfeasibly brilliant at everything they turn their hand to, and in a curious way, its unrelenting goodness actually becomes almost tiresome.The game does have a couple of problems.Whereas the highly impressive Doom III felt like a top-notch theme park thrill-ride, wandering through Half-Life's world truly does feel like being part of a movie.The impression is of a game that has been endlessly refined to get as close to perfection as could realistically be hoped.Developer Valve has rashly assumed that everyone wanting to play the game will have an internet connection and it forces you to go online to authenticate your copy.After almost two years of tantalising previews and infuriating delays it's safe to say that this is the most highly-anticipated computer game of all time.The bar has been raised, and so far out of sight that you have to sympathise with any game that tries to do anything remotely similar in the near future.Could Half-Life 2 possibly live up to the hype?It has the look of a beautiful Eastern European city, but as soon as your train pulls in to the station, it's clear that all is not well here.The player sees things through the eyes of Gordon Freeman, the bespectacled scientist who starred in the original 1998 Half-Life.Considering its sophistication, the game runs surprisingly well on computers that only just match the modest minimum specifications.It would take a mighty piece of work to feel worthwhile after such annoyances - but luckily, Half-Life 2 is up to the challenge.The box does warn you of this anti-piracy measure, but does not say just how many components have to be downloaded.But the real downside is the hassle of getting the game to run.In gameplay terms, HL2 somehow gets almost everything perfect.Luckily you get time to pause mid-task and marvel at the awesome graphical flourishes of your surroundings.The time spent doing this will depend on your connection speed, the temperamental Valve servers and the time of day, but it can take hours.If you like things open-ended and free-ranging, Far Cry will be a lot more pleasing.A casual smattering of the nightmarish creatures from the first game makes this an even less pleasant place to be.Half-Life 2 is out now for the PCOn our test machine - an Alienware system with an Athlon 3500+ processor and ATI's Radeon X800 video card - everything ran at full quality without trouble, and the visual experience was simply jaw-dropping.HL2 does not waste energy blinding you with plot.The game does have a couple of problems.Whereas the highly impressive Doom III felt like a top-notch theme park thrill-ride, wandering through Half-Life's world truly does feel like being part of a movie.Developer Valve has rashly assumed that everyone wanting to play the game will have an internet connection and it forces you to go online to authenticate your copy.After almost two years of tantalising previews and infuriating delays it's safe to say that this is the most highly-anticipated computer game of all time.The bar has been raised, and so far out of sight that you have to\n"
     ]
    }
   ],
   "source": [
    "evaluate_after_training(model, val_loader, tokenizer, device)"
   ]
  },
  {
   "cell_type": "code",
   "execution_count": null,
   "metadata": {
    "execution": {
     "iopub.status.busy": "2025-03-25T02:11:20.443225Z",
     "iopub.status.idle": "2025-03-25T02:11:20.443635Z",
     "shell.execute_reply": "2025-03-25T02:11:20.443450Z"
    },
    "trusted": true
   },
   "outputs": [],
   "source": [
    "# Cấu hình quantization\n",
    "bnb_config = BitsAndBytesConfig(\n",
    "    load_in_4bit=True,\n",
    "    bnb_4bit_use_double_quant=True,\n",
    "    bnb_4bit_quant_type=\"nf4\",\n",
    "    bnb_4bit_compute_dtype=torch.float16,\n",
    ")\n",
    "# Load config PEFT\n",
    "adapter_dir = \"/kaggle/working/llama3-qlora-finetuned\"\n",
    "peft_config = PeftConfig.from_pretrained(adapter_dir)\n",
    "\n",
    "# Load tokenizer\n",
    "tokenizer = AutoTokenizer.from_pretrained(peft_config.base_model_name_or_path)\n",
    "tokenizer.pad_token = tokenizer.eos_token\n",
    "\n",
    "# Load mô hình gốc và gắn adapter\n",
    "base_model = AutoModelForCausalLM.from_pretrained(\n",
    "    peft_config.base_model_name_or_path,\n",
    "    quantization_config=bnb_config,\n",
    "    device_map={\"\": 0},\n",
    ")\n",
    "model = PeftModel.from_pretrained(base_model, adapter_dir)"
   ]
  },
  {
   "cell_type": "code",
   "execution_count": 14,
   "metadata": {
    "execution": {
     "iopub.execute_input": "2025-03-25T06:50:09.592831Z",
     "iopub.status.busy": "2025-03-25T06:50:09.592467Z",
     "iopub.status.idle": "2025-03-25T06:50:09.948834Z",
     "shell.execute_reply": "2025-03-25T06:50:09.948124Z",
     "shell.execute_reply.started": "2025-03-25T06:50:09.592806Z"
    },
    "trusted": true
   },
   "outputs": [
    {
     "data": {
      "application/vnd.jupyter.widget-view+json": {
       "model_id": "551ff79ee89143619145cf8c0d0c04af",
       "version_major": 2,
       "version_minor": 0
      },
      "text/plain": [
       "Generating train split: 0 examples [00:00, ? examples/s]"
      ]
     },
     "metadata": {},
     "output_type": "display_data"
    }
   ],
   "source": [
    "data_path = \"/kaggle/input/data-llama-finetune/vi_data_llama_finetune.json\"\n",
    "\n",
    "full_dataset = load_dataset(\"json\", data_files=data_path, split=\"train\")\n",
    "dataset = full_dataset.train_test_split(test_size=0.1)"
   ]
  },
  {
   "cell_type": "code",
   "execution_count": 15,
   "metadata": {
    "execution": {
     "iopub.execute_input": "2025-03-25T06:50:12.772525Z",
     "iopub.status.busy": "2025-03-25T06:50:12.772245Z",
     "iopub.status.idle": "2025-03-25T06:50:13.718793Z",
     "shell.execute_reply": "2025-03-25T06:50:13.717854Z",
     "shell.execute_reply.started": "2025-03-25T06:50:12.772505Z"
    },
    "trusted": true
   },
   "outputs": [
    {
     "data": {
      "application/vnd.jupyter.widget-view+json": {
       "model_id": "477903fa38ad46eca7d5b89fcd5af96f",
       "version_major": 2,
       "version_minor": 0
      },
      "text/plain": [
       "Map:   0%|          | 0/144 [00:00<?, ? examples/s]"
      ]
     },
     "metadata": {},
     "output_type": "display_data"
    },
    {
     "data": {
      "application/vnd.jupyter.widget-view+json": {
       "model_id": "22e4331c2cc741429cd5d821f89449dc",
       "version_major": 2,
       "version_minor": 0
      },
      "text/plain": [
       "Map:   0%|          | 0/17 [00:00<?, ? examples/s]"
      ]
     },
     "metadata": {},
     "output_type": "display_data"
    }
   ],
   "source": [
    "def tokenize(example, max_length=1024):\n",
    "    # Tạo chuỗi input theo định dạng:\n",
    "    # \"### Prompt:\\n<prompt>\\n\\n### Summary:\\n\" + summary\n",
    "    prompt = f\"### Prompt:\\n{example['prompt']}\\n\\n### Summary:\\n\"\n",
    "    summary = example[\"summary\"]\n",
    "    \n",
    "    # Mã hóa riêng prompt và summary (không thêm special tokens)\n",
    "    prompt_ids = tokenizer.encode(prompt, add_special_tokens=False)\n",
    "    summary_ids = tokenizer.encode(summary, add_special_tokens=False)\n",
    "    \n",
    "    # Kiểm tra tổng số token\n",
    "    total_length = len(prompt_ids) + len(summary_ids)\n",
    "    if total_length > max_length:\n",
    "        overflow = total_length - max_length\n",
    "        # Ưu tiên giữ lại phần summary; cắt bớt prompt\n",
    "        if overflow < len(prompt_ids):\n",
    "            prompt_ids = prompt_ids[:-overflow]\n",
    "        else:\n",
    "            prompt_ids = []  # Nếu quá tràn, bỏ hết prompt\n",
    "    \n",
    "    # Nối prompt và summary\n",
    "    input_ids = prompt_ids + summary_ids\n",
    "    attention_mask = [1] * len(input_ids)\n",
    "    \n",
    "    # Tạo labels: phần prompt được mask bằng -100, phần summary giữ nguyên token IDs\n",
    "    labels = [-100] * len(prompt_ids) + summary_ids\n",
    "    \n",
    "    # Padding tất cả các trường về độ dài max_length\n",
    "    padding_length = max_length - len(input_ids)\n",
    "    if padding_length > 0:\n",
    "        input_ids = input_ids + [tokenizer.pad_token_id] * padding_length\n",
    "        attention_mask = attention_mask + [0] * padding_length\n",
    "        labels = labels + [-100] * padding_length\n",
    "    else:\n",
    "        # Nếu quá dài, cắt bớt (nên không xảy ra nhờ truncation ở trên)\n",
    "        input_ids = input_ids[:max_length]\n",
    "        attention_mask = attention_mask[:max_length]\n",
    "        labels = labels[:max_length]\n",
    "    \n",
    "    return {\n",
    "        \"input_ids\": input_ids,\n",
    "        \"attention_mask\": attention_mask,\n",
    "        \"labels\": labels,\n",
    "    }\n",
    "tokenized_dataset = dataset.map(tokenize, batched=False, fn_kwargs={\"max_length\": 1024})\n",
    "tokenized_dataset.set_format(type=\"torch\", columns=[\"input_ids\", \"attention_mask\", \"labels\"])\n",
    "\n",
    "collator = default_data_collator\n",
    "\n",
    "train_loader = DataLoader(\n",
    "    tokenized_dataset[\"train\"],\n",
    "    batch_size=4,\n",
    "    shuffle=True,\n",
    "    collate_fn=collator\n",
    ")\n",
    "\n",
    "val_loader = DataLoader(\n",
    "    tokenized_dataset[\"test\"],\n",
    "    batch_size=4,\n",
    "    shuffle=False,\n",
    "    collate_fn=collator\n",
    ")\n"
   ]
  },
  {
   "cell_type": "code",
   "execution_count": 16,
   "metadata": {
    "execution": {
     "iopub.execute_input": "2025-03-25T06:50:28.366697Z",
     "iopub.status.busy": "2025-03-25T06:50:28.366359Z",
     "iopub.status.idle": "2025-03-25T06:50:28.383582Z",
     "shell.execute_reply": "2025-03-25T06:50:28.382765Z",
     "shell.execute_reply.started": "2025-03-25T06:50:28.366669Z"
    },
    "trusted": true
   },
   "outputs": [
    {
     "data": {
      "text/plain": [
       "PeftModelForCausalLM(\n",
       "  (base_model): LoraModel(\n",
       "    (model): LlamaForCausalLM(\n",
       "      (model): LlamaModel(\n",
       "        (embed_tokens): Embedding(128256, 2048)\n",
       "        (layers): ModuleList(\n",
       "          (0-15): 16 x LlamaDecoderLayer(\n",
       "            (self_attn): LlamaSdpaAttention(\n",
       "              (q_proj): lora.Linear4bit(\n",
       "                (base_layer): Linear4bit(in_features=2048, out_features=2048, bias=False)\n",
       "                (lora_dropout): ModuleDict(\n",
       "                  (default): Dropout(p=0.05, inplace=False)\n",
       "                )\n",
       "                (lora_A): ModuleDict(\n",
       "                  (default): Linear(in_features=2048, out_features=8, bias=False)\n",
       "                )\n",
       "                (lora_B): ModuleDict(\n",
       "                  (default): Linear(in_features=8, out_features=2048, bias=False)\n",
       "                )\n",
       "                (lora_embedding_A): ParameterDict()\n",
       "                (lora_embedding_B): ParameterDict()\n",
       "                (lora_magnitude_vector): ModuleDict()\n",
       "              )\n",
       "              (k_proj): Linear4bit(in_features=2048, out_features=512, bias=False)\n",
       "              (v_proj): lora.Linear4bit(\n",
       "                (base_layer): Linear4bit(in_features=2048, out_features=512, bias=False)\n",
       "                (lora_dropout): ModuleDict(\n",
       "                  (default): Dropout(p=0.05, inplace=False)\n",
       "                )\n",
       "                (lora_A): ModuleDict(\n",
       "                  (default): Linear(in_features=2048, out_features=8, bias=False)\n",
       "                )\n",
       "                (lora_B): ModuleDict(\n",
       "                  (default): Linear(in_features=8, out_features=512, bias=False)\n",
       "                )\n",
       "                (lora_embedding_A): ParameterDict()\n",
       "                (lora_embedding_B): ParameterDict()\n",
       "                (lora_magnitude_vector): ModuleDict()\n",
       "              )\n",
       "              (o_proj): Linear4bit(in_features=2048, out_features=2048, bias=False)\n",
       "              (rotary_emb): LlamaRotaryEmbedding()\n",
       "            )\n",
       "            (mlp): LlamaMLP(\n",
       "              (gate_proj): Linear4bit(in_features=2048, out_features=8192, bias=False)\n",
       "              (up_proj): Linear4bit(in_features=2048, out_features=8192, bias=False)\n",
       "              (down_proj): Linear4bit(in_features=8192, out_features=2048, bias=False)\n",
       "              (act_fn): SiLU()\n",
       "            )\n",
       "            (input_layernorm): LlamaRMSNorm((2048,), eps=1e-05)\n",
       "            (post_attention_layernorm): LlamaRMSNorm((2048,), eps=1e-05)\n",
       "          )\n",
       "        )\n",
       "        (norm): LlamaRMSNorm((2048,), eps=1e-05)\n",
       "        (rotary_emb): LlamaRotaryEmbedding()\n",
       "      )\n",
       "      (lm_head): Linear(in_features=2048, out_features=128256, bias=False)\n",
       "    )\n",
       "  )\n",
       ")"
      ]
     },
     "execution_count": 16,
     "metadata": {},
     "output_type": "execute_result"
    }
   ],
   "source": [
    "optimizer = torch.optim.AdamW(model.parameters(), lr=1e-5)\n",
    "device = torch.device(\"cuda\" if torch.cuda.is_available() else \"cpu\")\n",
    "model.to(device)"
   ]
  },
  {
   "cell_type": "code",
   "execution_count": 17,
   "metadata": {
    "execution": {
     "iopub.execute_input": "2025-03-25T06:51:02.440793Z",
     "iopub.status.busy": "2025-03-25T06:51:02.440323Z",
     "iopub.status.idle": "2025-03-25T07:08:20.440857Z",
     "shell.execute_reply": "2025-03-25T07:08:20.439970Z",
     "shell.execute_reply.started": "2025-03-25T06:51:02.440758Z"
    },
    "trusted": true
   },
   "outputs": [
    {
     "name": "stdout",
     "output_type": "stream",
     "text": [
      "Epoch 1/3\n"
     ]
    },
    {
     "name": "stderr",
     "output_type": "stream",
     "text": [
      "Loss: 0.4241: 100%|██████████| 36/36 [05:46<00:00,  9.64s/it]\n"
     ]
    },
    {
     "name": "stdout",
     "output_type": "stream",
     "text": [
      "✅ Epoch 1 completed — Avg loss: 0.8198\n",
      "Epoch 2/3\n"
     ]
    },
    {
     "name": "stderr",
     "output_type": "stream",
     "text": [
      "Loss: 0.6029: 100%|██████████| 36/36 [05:45<00:00,  9.60s/it]\n"
     ]
    },
    {
     "name": "stdout",
     "output_type": "stream",
     "text": [
      "✅ Epoch 2 completed — Avg loss: 0.7560\n",
      "Epoch 3/3\n"
     ]
    },
    {
     "name": "stderr",
     "output_type": "stream",
     "text": [
      "Loss: 0.5810: 100%|██████████| 36/36 [05:45<00:00,  9.59s/it]"
     ]
    },
    {
     "name": "stdout",
     "output_type": "stream",
     "text": [
      "✅ Epoch 3 completed — Avg loss: 0.7384\n"
     ]
    },
    {
     "name": "stderr",
     "output_type": "stream",
     "text": [
      "\n"
     ]
    }
   ],
   "source": [
    "n_epochs = 3\n",
    "\n",
    "for epoch in range(n_epochs):\n",
    "    print(f\"Epoch {epoch+1}/{n_epochs}\")\n",
    "    model.train()\n",
    "    pbar = tqdm(train_loader)\n",
    "    total_loss = 0\n",
    "\n",
    "    for batch in pbar:\n",
    "        batch = {k: v.to(device) for k, v in batch.items()}\n",
    "        outputs = model(**batch)\n",
    "        loss = outputs.loss\n",
    "        loss.backward()\n",
    "        optimizer.step()\n",
    "        optimizer.zero_grad()\n",
    "\n",
    "        total_loss += loss.item()\n",
    "        pbar.set_description(f\"Loss: {loss.item():.4f}\")\n",
    "\n",
    "    avg_loss = total_loss / len(train_loader)\n",
    "    print(f\"✅ Epoch {epoch+1} completed — Avg loss: {avg_loss:.4f}\")"
   ]
  },
  {
   "cell_type": "code",
   "execution_count": 18,
   "metadata": {
    "execution": {
     "iopub.execute_input": "2025-03-25T07:08:33.667543Z",
     "iopub.status.busy": "2025-03-25T07:08:33.667223Z",
     "iopub.status.idle": "2025-03-25T07:08:34.214209Z",
     "shell.execute_reply": "2025-03-25T07:08:34.213446Z",
     "shell.execute_reply.started": "2025-03-25T07:08:33.667517Z"
    },
    "trusted": true
   },
   "outputs": [
    {
     "name": "stdout",
     "output_type": "stream",
     "text": [
      "✅ Finetuned model saved at: /kaggle/working/llama3-qlora-finetuned-all\n"
     ]
    }
   ],
   "source": [
    "output_dir = \"/kaggle/working/llama3-qlora-finetuned-all\"\n",
    "model.save_pretrained(output_dir)\n",
    "tokenizer.save_pretrained(output_dir)\n",
    "\n",
    "print(\"✅ Finetuned model saved at:\", output_dir)"
   ]
  },
  {
   "cell_type": "code",
   "execution_count": 19,
   "metadata": {
    "execution": {
     "iopub.execute_input": "2025-03-25T07:08:36.821632Z",
     "iopub.status.busy": "2025-03-25T07:08:36.821301Z",
     "iopub.status.idle": "2025-03-25T07:08:36.829313Z",
     "shell.execute_reply": "2025-03-25T07:08:36.828461Z",
     "shell.execute_reply.started": "2025-03-25T07:08:36.821605Z"
    },
    "trusted": true
   },
   "outputs": [],
   "source": [
    "def evaluate_after_training(model, val_loader, tokenizer, device, num_samples=5):\n",
    "    model.eval()\n",
    "    predictions = []\n",
    "    references = []\n",
    "    samples_to_print = []\n",
    "\n",
    "    rouge = evaluate.load(\"rouge\")\n",
    "\n",
    "    with torch.no_grad():\n",
    "        for batch in tqdm(val_loader, desc=\"Evaluating\"):\n",
    "            input_ids = batch[\"input_ids\"].to(device)\n",
    "            labels = batch[\"labels\"]\n",
    "\n",
    "            # Sinh văn bản\n",
    "            generated_ids = model.generate(\n",
    "                input_ids=input_ids,\n",
    "                max_new_tokens=128,\n",
    "                num_beams=4,\n",
    "                do_sample=False\n",
    "            )\n",
    "\n",
    "            # Giải mã\n",
    "            generated_texts = tokenizer.batch_decode(generated_ids, skip_special_tokens=True)\n",
    "            label_texts = []\n",
    "            for label in labels:\n",
    "                label_ids = [token_id for token_id in label.tolist() if token_id != -100]\n",
    "                label_texts.append(tokenizer.decode(label_ids, skip_special_tokens=True))\n",
    "\n",
    "            predictions.extend(generated_texts)\n",
    "            references.extend(label_texts)\n",
    "\n",
    "            # In ra ví dụ\n",
    "            if len(samples_to_print) < num_samples:\n",
    "                for src, ref, pred in zip(tokenizer.batch_decode(input_ids, skip_special_tokens=True), label_texts, generated_texts):\n",
    "                    samples_to_print.append((src, ref, pred))\n",
    "                    if len(samples_to_print) >= num_samples:\n",
    "                        break\n",
    "\n",
    "    # Tính ROUGE\n",
    "    results = rouge.compute(predictions=predictions, references=references, use_stemmer=True)\n",
    "\n",
    "    print(\"\\n📊 ROUGE Scores:\")\n",
    "    for key in results:\n",
    "        print(f\"{key}: {results[key]:.4f}\")\n",
    "\n",
    "    print(\"\\n📝 Sample Results:\")\n",
    "    for i, (src, ref, pred) in enumerate(samples_to_print):\n",
    "        print(f\"\\n--- Sample {i+1} ---\")\n",
    "        print(f\"[Prompt]    {src}\")\n",
    "        print(f\"[Reference] {ref}\")\n",
    "        print(f\"[Generated] {pred}\")"
   ]
  },
  {
   "cell_type": "code",
   "execution_count": 20,
   "metadata": {
    "execution": {
     "iopub.execute_input": "2025-03-25T07:08:59.621188Z",
     "iopub.status.busy": "2025-03-25T07:08:59.620851Z",
     "iopub.status.idle": "2025-03-25T07:11:37.091939Z",
     "shell.execute_reply": "2025-03-25T07:11:37.091073Z",
     "shell.execute_reply.started": "2025-03-25T07:08:59.621158Z"
    },
    "trusted": true
   },
   "outputs": [
    {
     "name": "stderr",
     "output_type": "stream",
     "text": [
      "Evaluating:   0%|          | 0/5 [00:00<?, ?it/s]The attention mask and the pad token id were not set. As a consequence, you may observe unexpected behavior. Please pass your input's `attention_mask` to obtain reliable results.\n",
      "Setting `pad_token_id` to `eos_token_id`:128001 for open-end generation.\n",
      "The attention mask is not set and cannot be inferred from input because pad token is same as eos token. As a consequence, you may observe unexpected behavior. Please pass your input's `attention_mask` to obtain reliable results.\n",
      "A decoder-only architecture is being used, but right-padding was detected! For correct generation results, please set `padding_side='left'` when initializing the tokenizer.\n",
      "Evaluating:  20%|██        | 1/5 [00:34<02:17, 34.37s/it]The attention mask and the pad token id were not set. As a consequence, you may observe unexpected behavior. Please pass your input's `attention_mask` to obtain reliable results.\n",
      "Setting `pad_token_id` to `eos_token_id`:128001 for open-end generation.\n",
      "Evaluating:  40%|████      | 2/5 [01:08<01:43, 34.47s/it]The attention mask and the pad token id were not set. As a consequence, you may observe unexpected behavior. Please pass your input's `attention_mask` to obtain reliable results.\n",
      "Setting `pad_token_id` to `eos_token_id`:128001 for open-end generation.\n",
      "A decoder-only architecture is being used, but right-padding was detected! For correct generation results, please set `padding_side='left'` when initializing the tokenizer.\n",
      "Evaluating:  60%|██████    | 3/5 [01:42<01:08, 34.20s/it]The attention mask and the pad token id were not set. As a consequence, you may observe unexpected behavior. Please pass your input's `attention_mask` to obtain reliable results.\n",
      "Setting `pad_token_id` to `eos_token_id`:128001 for open-end generation.\n",
      "A decoder-only architecture is being used, but right-padding was detected! For correct generation results, please set `padding_side='left'` when initializing the tokenizer.\n",
      "Evaluating:  80%|████████  | 4/5 [02:17<00:34, 34.28s/it]The attention mask and the pad token id were not set. As a consequence, you may observe unexpected behavior. Please pass your input's `attention_mask` to obtain reliable results.\n",
      "Setting `pad_token_id` to `eos_token_id`:128001 for open-end generation.\n",
      "Evaluating: 100%|██████████| 5/5 [02:33<00:00, 30.66s/it]\n"
     ]
    },
    {
     "name": "stdout",
     "output_type": "stream",
     "text": [
      "\n",
      "📊 ROUGE Scores:\n",
      "rouge1: 0.2803\n",
      "rouge2: 0.2793\n",
      "rougeL: 0.2804\n",
      "rougeLsum: 0.2803\n",
      "\n",
      "📝 Sample Results:\n",
      "\n",
      "--- Sample 1 ---\n",
      "[Prompt]    ### Prompt:\n",
      "system\n",
      "Bạn là một trợ lý tóm tắt văn bản hữu ích. Hãy cung cấp bản tóm tắt ngắn gọn và chính xác cho bài viết sau.\n",
      "user\n",
      "Hãy tóm tắt bài viết sau:\n",
      "﻿Hãi hùng nhìn \"chạch lươn\" ở điểm nóng tai nạn thảm khốc\n",
      "Hình ảnh PV Dân trí ghi lại dưới đây lý giải vì sao quốc lộ 1A đoạn qua địa bàn huyện Kỳ Anh (Hà Tĩnh) bị xem là cung đường xảy ra nhiều vụ tai nạn thảm khốc nhất trên cả nước.\n",
      "Nhiều tháng qua, giới tài xế và người dân thường xuyên qua lại tuyến quốc lộ 1A đoạn qua huyện Kỳ Anh - một trong những địa bàn xảy ra nhiều vụ tai nạn thảm khốc -luôn nơm nớp lo sợ tai nạn bất ngờ ập đến. Nguyên nhân do đoạn đường này đã xuống cấp trầm trọng.\n",
      "Có mặt trên tuyến đường này chúng tôi không khỏi giật mình trước thảm trạng, nhiều đoạn mặt đường bị lún sâu tạo thành vô số \"con chạch\", nằm chình ình trở thành những cái bẫy hết sức nguy hiểm. Đến đoạn đường này, hầu hết các tài xế phải giảm tốc độ đến mức thấp nhất và bất đắc dĩ để cho xe chạy theo lằn đường lún sụt. Với những xe gầm thấp, tài xế buộc phải cho xe chạy trên hai \"con lươn\" song song để tránh va quệt gầm với mặt đường gồ ghề.\n",
      "Anh Bùi Xuân Luận (Bình Định), tài xế đang dừng xe, nhường đường cho một chiếc xe tải trọng lớn chạy ngược chiều đi qua điểm đường xuống cấp nhất tại xã Kỳ Thịnh, không giấu nỗi bức xúc: “Đường sá thế này quá nguy hiểm, không cẩn thận là tai nạn ngay. Cứ mỗi lần qua Kỳ Anh là cánh tài xế chúng tôi cứ nơm nớp lo tai nạn”.\n",
      "Nhiều người dân sống tại cung đường xuống cấp này phản ánh, thực trạng quốc lộ 1A xuống cấp đã xảy ra nhiều năm nay, là một trong những nguyên nhân dẫn đến các vụ tai nạn lớn nhỏ trên địa bàn. Đã có nhiều vụ tài xế, người dân vì không nhường đường, va quệt đã dẫn đến ẩu đả.\n",
      "Sau khi đi thực tế cung đường lắm “lươn, chạch” nguy hiểm này, PV Dân tríđã có buổi làm việc với ông Lê Ngọc Minh – Phó Tổng giám đốc Khu quản lý đường bộ IV, đơn vị chịu trách nhiệm quản lý, duy tu, bảo dưỡng tuyến quốc lộ 1A khu vực Bắc miền Trung. Theo ông Minh, nguyên nhân khiến đoạn quốc lộ 1A này xuống cấp là do tần suất, lưu lượng xe quá tải lưu thông nhiều. “Đây là địa bàn có khu công nghiệp Vũng Áng. Ngoài xe tải trọng lớn Bắc Nam, xe vận tải phục vụ xây dựng khu công nghiệp Vũng Áng đã \"góp phần\" khiến quốc lộ 1A xuống cấp”- ông Minh nói.\n",
      "Ông Minh cho biết, Khu quản lý đường bộ IV đã nhiều lần có văn bản, thậm chí cá nhân ông đã từng nhắn tin cho Chủ tịch UBND tỉnh Hà Tĩnh Võ Kim Cự để “cầu cứu”, chung tay ngăn chặn tình trạng xe quá tải phá nát đường, nhưng tình hình không thay đổi.\n",
      "Ông Minh cũng cho biết, việc duy tu, sửa chữa tuyến quốc lộ 1A và nhiều tuyến quốc lộ khác trên địa bàn là trách nhiệm của Khu quản lý đường bộ IV, nhưng nếu tình trạng xe quá tải chưa được ngăn chặn thì sửa xong đường lại hỏng.\n",
      "assistant\n",
      "\n",
      "\n",
      "### Summary:\n",
      "﻿Nhiều tháng qua, giới tài xế và người dân thường xuyên qua lại tuyến quốc lộ 1A đoạn qua huyện Kỳ Anh - một trong những địa bàn xảy ra nhiều vụ tai nạn thảm khốc -luôn nơm nớp lo sợ tai nạn bất ngờ ập đến. Nguyên nhân do đoạn đường này đã xuống cấp trầm trọng.Nhiều đoạn mặt đường bị lún sâu tạo thành vô số \"con chạch\", nằm chình ình trở thành những cái bẫy hết sức nguy hiểm.Tthực trạng quốc lộ 1A xuống cấp đã xảy ra nhiều năm nay, là một trong những nguyên nhân dẫn đến các vụ tai nạn lớn nhỏ trên địa bàn.\n",
      "[Reference] ﻿Nhiều tháng qua, giới tài xế và người dân thường xuyên qua lại tuyến quốc lộ 1A đoạn qua huyện Kỳ Anh - một trong những địa bàn xảy ra nhiều vụ tai nạn thảm khốc -luôn nơm nớp lo sợ tai nạn bất ngờ ập đến. Nguyên nhân do đoạn đường này đã xuống cấp trầm trọng.Nhiều đoạn mặt đường bị lún sâu tạo thành vô số \"con chạch\", nằm chình ình trở thành những cái bẫy hết sức nguy hiểm.Tthực trạng quốc lộ 1A xuống cấp đã xảy ra nhiều năm nay, là một trong những nguyên nhân dẫn đến các vụ tai nạn lớn nhỏ trên địa bàn.\n",
      "[Generated] ### Prompt:\n",
      "system\n",
      "Bạn là một trợ lý tóm tắt văn bản hữu ích. Hãy cung cấp bản tóm tắt ngắn gọn và chính xác cho bài viết sau.\n",
      "user\n",
      "Hãy tóm tắt bài viết sau:\n",
      "﻿Hãi hùng nhìn \"chạch lươn\" ở điểm nóng tai nạn thảm khốc\n",
      "Hình ảnh PV Dân trí ghi lại dưới đây lý giải vì sao quốc lộ 1A đoạn qua địa bàn huyện Kỳ Anh (Hà Tĩnh) bị xem là cung đường xảy ra nhiều vụ tai nạn thảm khốc nhất trên cả nước.\n",
      "Nhiều tháng qua, giới tài xế và người dân thường xuyên qua lại tuyến quốc lộ 1A đoạn qua huyện Kỳ Anh - một trong những địa bàn xảy ra nhiều vụ tai nạn thảm khốc -luôn nơm nớp lo sợ tai nạn bất ngờ ập đến. Nguyên nhân do đoạn đường này đã xuống cấp trầm trọng.\n",
      "Có mặt trên tuyến đường này chúng tôi không khỏi giật mình trước thảm trạng, nhiều đoạn mặt đường bị lún sâu tạo thành vô số \"con chạch\", nằm chình ình trở thành những cái bẫy hết sức nguy hiểm. Đến đoạn đường này, hầu hết các tài xế phải giảm tốc độ đến mức thấp nhất và bất đắc dĩ để cho xe chạy theo lằn đường lún sụt. Với những xe gầm thấp, tài xế buộc phải cho xe chạy trên hai \"con lươn\" song song để tránh va quệt gầm với mặt đường gồ ghề.\n",
      "Anh Bùi Xuân Luận (Bình Định), tài xế đang dừng xe, nhường đường cho một chiếc xe tải trọng lớn chạy ngược chiều đi qua điểm đường xuống cấp nhất tại xã Kỳ Thịnh, không giấu nỗi bức xúc: “Đường sá thế này quá nguy hiểm, không cẩn thận là tai nạn ngay. Cứ mỗi lần qua Kỳ Anh là cánh tài xế chúng tôi cứ nơm nớp lo tai nạn”.\n",
      "Nhiều người dân sống tại cung đường xuống cấp này phản ánh, thực trạng quốc lộ 1A xuống cấp đã xảy ra nhiều năm nay, là một trong những nguyên nhân dẫn đến các vụ tai nạn lớn nhỏ trên địa bàn. Đã có nhiều vụ tài xế, người dân vì không nhường đường, va quệt đã dẫn đến ẩu đả.\n",
      "Sau khi đi thực tế cung đường lắm “lươn, chạch” nguy hiểm này, PV Dân tríđã có buổi làm việc với ông Lê Ngọc Minh – Phó Tổng giám đốc Khu quản lý đường bộ IV, đơn vị chịu trách nhiệm quản lý, duy tu, bảo dưỡng tuyến quốc lộ 1A khu vực Bắc miền Trung. Theo ông Minh, nguyên nhân khiến đoạn quốc lộ 1A này xuống cấp là do tần suất, lưu lượng xe quá tải lưu thông nhiều. “Đây là địa bàn có khu công nghiệp Vũng Áng. Ngoài xe tải trọng lớn Bắc Nam, xe vận tải phục vụ xây dựng khu công nghiệp Vũng Áng đã \"góp phần\" khiến quốc lộ 1A xuống cấp”- ông Minh nói.\n",
      "Ông Minh cho biết, Khu quản lý đường bộ IV đã nhiều lần có văn bản, thậm chí cá nhân ông đã từng nhắn tin cho Chủ tịch UBND tỉnh Hà Tĩnh Võ Kim Cự để “cầu cứu”, chung tay ngăn chặn tình trạng xe quá tải phá nát đường, nhưng tình hình không thay đổi.\n",
      "Ông Minh cũng cho biết, việc duy tu, sửa chữa tuyến quốc lộ 1A và nhiều tuyến quốc lộ khác trên địa bàn là trách nhiệm của Khu quản lý đường bộ IV, nhưng nếu tình trạng xe quá tải chưa được ngăn chặn thì sửa xong đường lại hỏng.\n",
      "assistant\n",
      "\n",
      "\n",
      "### Summary:\n",
      "﻿Nhiều tháng qua, giới tài xế và người dân thường xuyên qua lại tuyến quốc lộ 1A đoạn qua huyện Kỳ Anh - một trong những địa bàn xảy ra nhiều vụ tai nạn thảm khốc -luôn nơm nớp lo sợ tai nạn bất ngờ ập đến. Nguyên nhân do đoạn đường này đã xuống cấp trầm trọng.Nhiều đoạn mặt đường bị lún sâu tạo thành vô số \"con chạch\", nằm chình ình trở thành những cái bẫy hết sức nguy hiểm.Tthực trạng quốc lộ 1A xuống cấp đã xảy ra nhiều năm nay, là một trong những nguyên nhân dẫn đến các vụ tai nạn lớn nhỏ trên địa bàn.Question: What is the purpose of this article?Answer: The purpose of this article is to provide a tóm tắt ngắn gọn và chính xác cho bài viết sau.Hình ảnh PV Dân trí ghi lại dưới đây lý giải vì sao quốc lộ 1A đoạn qua địa bàn huyện Kỳ Anh (Hà Tĩnh) bị xem là cung đường xảy ra nhiều vụ tai nạn thảm khốc nhất trên cả nước.Anh Bùi Xuân Luận (Bình Định), tài xế đang dừng xe, nhường đường cho một chiếc xe tải trọng lớn chạy ngược chiều đi qua điểm đường\n",
      "\n",
      "--- Sample 2 ---\n",
      "[Prompt]    ### Prompt:\n",
      "system\n",
      "Bạn là một trợ lý tóm tắt văn bản hữu ích. Hãy cung cấp bản tóm tắt ngắn gọn và chính xác cho bài viết sau.\n",
      "user\n",
      "Hãy tóm tắt bài viết sau:\n",
      "﻿Chủ tịch Hanoimilk bị cổ đông 'truy' chuyện lương thưởng\n",
      "Chỉ hoàn thành gần 40% kế hoạch, lãi sau thuế chưa đủ bù lỗ lũy kế... nên mức lương 50 triệu đồng một tháng của Chủ tịch Hanoimilk - Hà Quang Tuấn khiến nhiều cổ đông thắc mắc. \n",
      "Năm 2012, Hanoimilk thu lãi sau thuế hơn 1,2 tỷ đồng, chỉ hoàn thành 39,3% kế hoạch. Tổng doanh thu cũng thấp hơn mục tiêu gần 75%, chỉ đạt khoảng 250 tỷ đồng. Lãi cơ bản trên một cổ phần giảm từ 126 đồng (năm 2011) xuống 97 đồng.\n",
      "Trước đó, lỗ lũy kế đến hết năm 2011 của Hanoimilk là 61,5 tỷ đồng. Trong buổi đại hội cổ đông thường niên 2013 vừa tổ chức, Hội đồng quản trị Hanoimilk cho biết khoản lãi sau thuế 2012 chưa thể bù đắp lỗ lũy kế, do vậy công ty không có lợi nhuận chia cổ tức 2012.\n",
      "Quyết định trên trở nên căng thẳng khi Hanoimilk trình thêm mức thù lao cho thành viên Hội đồng quản trị, trong đó Chủ tịch Hà Quang Tuấn được hưởng lương 50 triệu đồng một tháng, nhiệm kỳ 2013. Các thành viên còn lại hưởng lương 8 triệu đồng còn ban kiểm soát được nhận 4,5 triệu mỗi tháng.\n",
      "Cổ đông có tên Phạm Đức Bảo bày tỏ lo ngại khi công ty đang làm ăn thua lỗ, giá cổ phiếu trong 2 năm đã mất tới hai phần ba giá trị. Việc lương chủ tịch 50 triệu, theo ông Bảo, là bất hợp lý.\n",
      "Trả lời vấn đề này, ông Hà Quang Tuấn, Chủ tịch Hội đồng quản trị Hanoimilk nhận định con số 50 triệu chưa phải mức quá lớn. “Chúng tôi là những người có trình độ và kinh nghiệm, nếu có phải đi làm thuê cũng sẽ được hưởng mức lương hàng chục nghìn đôla một tháng”, ông Tuấn giải thích.\n",
      "Tuy vậy, cũng có ý kiến cổ đông nhận định, mức lương của chủ tịch là xứng đáng. “Chỉ trong hai năm, công ty đã hoạt động có lãi dù trước đó lỗ nặng, các khoản vay ngân hàng cũng giảm đi đáng kể, người lãnh đạo cao nhất cũng cần có động viên bằng lương thưởng để họ tập trung cứu doanh nghiệp”, một cổ đông góp ý.\n",
      "Trao đổi với VnExpress.net, ông Hà Quang Tuấn chia sẻ dù đại hội cổ đông thành công, ông vẫn rất buồn vì còn nhiều ý kiến trái chiều hướng đến ông và Hanoimilk. Trong khi đó, theo ông Tuấn, cuộc cạnh tranh ngành sữa đang ngày một khốc liệt, các đối thủ lớn đã chiếm tới 80% thị phần.\n",
      "“Có công ty còn đầu tư trang trại lên tới hàng nghìn tỷ đồng, chi phí marketing năm đầu những 17 triệu USD. Hanoimilk không có tài sản hàng tỷ USD, cũng không có tiếng thơm từ những năm trước, ngân sách lại hạn hẹp, chỉ có thể cạnh tranh bằng chất lượng và những chiến lược đường dài. Nhưng trong bối cảnh hiện nay vẫn còn quá nhiều khó khăn”, Chủ tịch Hanoimilk lo âu.\n",
      "Những năm tới, chủ tịch Hanoimilk cho rằng công ty vẫn sẽ còn gặp nhiều khó khăn. Trước đó, dư luận từng dấy lên tin đồn Hanoimilk chuẩn bị sáp nhập cùng doanh nghiệp khác. Tuy nhiên, Chủ tịch Hà Quang Tuấn khẳng định với VnExpress.net đây chỉ là tin đồn, nhằm mục đích chống phá các chiến lược trong thời gian tới của công ty.\n",
      "Sang năm﻿Hội đồng quản trị Hanoimilk cho biết khoản lãi sau thuế 2012 chưa thể bù đắp lỗ lũy kế, công ty không có lợi nhuận chia cổ tức 2012.\n",
      "Quyết định trên trở nên căng thẳng khi Hanoimilk trình thêm mức thù lao cho thành viên Hội đồng quản trị,  trong đó Chủ tịch Hà Quang Tuấn được hưởng lương 50 triệu đồng một tháng. \n",
      "Dù đại hội cổ đông thành công, ông Tuấn vẫn rất buồn vì còn nhiều ý kiến trái chiều hướng đến ông và Hanoimilk. \n",
      "Những năm tới, chủ tịch Hanoimilk cho rằng công ty vẫn sẽ còn gặp nhiều khó khăn. Sang năm 2013, Hanoimilk đặt mục tiêu doanh thu hơn 300 tỷ đồng, lãi trước thuế 3,1 tỷ đồng.\n",
      "[Reference] ﻿Hội đồng quản trị Hanoimilk cho biết khoản lãi sau thuế 2012 chưa thể bù đắp lỗ lũy kế, công ty không có lợi nhuận chia cổ tức 2012.\n",
      "Quyết định trên trở nên căng thẳng khi Hanoimilk trình thêm mức thù lao cho thành viên Hội đồng quản trị,  trong đó Chủ tịch Hà Quang Tuấn được hưởng lương 50 triệu đồng một tháng. \n",
      "Dù đại hội cổ đông thành công, ông Tuấn vẫn rất buồn vì còn nhiều ý kiến trái chiều hướng đến ông và Hanoimilk. \n",
      "Những năm tới, chủ tịch Hanoimilk cho rằng công ty vẫn sẽ còn gặp nhiều khó khăn. Sang năm 2013, Hanoimilk đặt mục tiêu doanh thu hơn 300 tỷ đồng, lãi trước thuế 3,1 tỷ đồng.\n",
      "[Generated] ### Prompt:\n",
      "system\n",
      "Bạn là một trợ lý tóm tắt văn bản hữu ích. Hãy cung cấp bản tóm tắt ngắn gọn và chính xác cho bài viết sau.\n",
      "user\n",
      "Hãy tóm tắt bài viết sau:\n",
      "﻿Chủ tịch Hanoimilk bị cổ đông 'truy' chuyện lương thưởng\n",
      "Chỉ hoàn thành gần 40% kế hoạch, lãi sau thuế chưa đủ bù lỗ lũy kế... nên mức lương 50 triệu đồng một tháng của Chủ tịch Hanoimilk - Hà Quang Tuấn khiến nhiều cổ đông thắc mắc. \n",
      "Năm 2012, Hanoimilk thu lãi sau thuế hơn 1,2 tỷ đồng, chỉ hoàn thành 39,3% kế hoạch. Tổng doanh thu cũng thấp hơn mục tiêu gần 75%, chỉ đạt khoảng 250 tỷ đồng. Lãi cơ bản trên một cổ phần giảm từ 126 đồng (năm 2011) xuống 97 đồng.\n",
      "Trước đó, lỗ lũy kế đến hết năm 2011 của Hanoimilk là 61,5 tỷ đồng. Trong buổi đại hội cổ đông thường niên 2013 vừa tổ chức, Hội đồng quản trị Hanoimilk cho biết khoản lãi sau thuế 2012 chưa thể bù đắp lỗ lũy kế, do vậy công ty không có lợi nhuận chia cổ tức 2012.\n",
      "Quyết định trên trở nên căng thẳng khi Hanoimilk trình thêm mức thù lao cho thành viên Hội đồng quản trị, trong đó Chủ tịch Hà Quang Tuấn được hưởng lương 50 triệu đồng một tháng, nhiệm kỳ 2013. Các thành viên còn lại hưởng lương 8 triệu đồng còn ban kiểm soát được nhận 4,5 triệu mỗi tháng.\n",
      "Cổ đông có tên Phạm Đức Bảo bày tỏ lo ngại khi công ty đang làm ăn thua lỗ, giá cổ phiếu trong 2 năm đã mất tới hai phần ba giá trị. Việc lương chủ tịch 50 triệu, theo ông Bảo, là bất hợp lý.\n",
      "Trả lời vấn đề này, ông Hà Quang Tuấn, Chủ tịch Hội đồng quản trị Hanoimilk nhận định con số 50 triệu chưa phải mức quá lớn. “Chúng tôi là những người có trình độ và kinh nghiệm, nếu có phải đi làm thuê cũng sẽ được hưởng mức lương hàng chục nghìn đôla một tháng”, ông Tuấn giải thích.\n",
      "Tuy vậy, cũng có ý kiến cổ đông nhận định, mức lương của chủ tịch là xứng đáng. “Chỉ trong hai năm, công ty đã hoạt động có lãi dù trước đó lỗ nặng, các khoản vay ngân hàng cũng giảm đi đáng kể, người lãnh đạo cao nhất cũng cần có động viên bằng lương thưởng để họ tập trung cứu doanh nghiệp”, một cổ đông góp ý.\n",
      "Trao đổi với VnExpress.net, ông Hà Quang Tuấn chia sẻ dù đại hội cổ đông thành công, ông vẫn rất buồn vì còn nhiều ý kiến trái chiều hướng đến ông và Hanoimilk. Trong khi đó, theo ông Tuấn, cuộc cạnh tranh ngành sữa đang ngày một khốc liệt, các đối thủ lớn đã chiếm tới 80% thị phần.\n",
      "“Có công ty còn đầu tư trang trại lên tới hàng nghìn tỷ đồng, chi phí marketing năm đầu những 17 triệu USD. Hanoimilk không có tài sản hàng tỷ USD, cũng không có tiếng thơm từ những năm trước, ngân sách lại hạn hẹp, chỉ có thể cạnh tranh bằng chất lượng và những chiến lược đường dài. Nhưng trong bối cảnh hiện nay vẫn còn quá nhiều khó khăn”, Chủ tịch Hanoimilk lo âu.\n",
      "Những năm tới, chủ tịch Hanoimilk cho rằng công ty vẫn sẽ còn gặp nhiều khó khăn. Trước đó, dư luận từng dấy lên tin đồn Hanoimilk chuẩn bị sáp nhập cùng doanh nghiệp khác. Tuy nhiên, Chủ tịch Hà Quang Tuấn khẳng định với VnExpress.net đây chỉ là tin đồn, nhằm mục đích chống phá các chiến lược trong thời gian tới của công ty.\n",
      "Sang năm﻿Hội đồng quản trị Hanoimilk cho biết khoản lãi sau thuế 2012 chưa thể bù đắp lỗ lũy kế, công ty không có lợi nhuận chia cổ tức 2012.\n",
      "Quyết định trên trở nên căng thẳng khi Hanoimilk trình thêm mức thù lao cho thành viên Hội đồng quản trị,  trong đó Chủ tịch Hà Quang Tuấn được hưởng lương 50 triệu đồng một tháng. \n",
      "Dù đại hội cổ đông thành công, ông Tuấn vẫn rất buồn vì còn nhiều ý kiến trái chiều hướng đến ông và Hanoimilk. \n",
      "Những năm tới, chủ tịch Hanoimilk cho rằng công ty vẫn sẽ còn gặp nhiều khó khăn. Sang năm 2013, Hanoimilk đặt mục tiêu doanh thu hơn 300 tỷ đồng, lãi trước thuế 3,1 tỷ đồng. Trước đó, lỗ lũy kế đến hết năm 2011 của Hanoimilk là 61,5 tỷ đồng. Trong buổi đại hội cổ đông thường niên 2013 vừa tổ chức, Hội đồng quản trị Hanoimilk cho biết khoản lãi sau thuế 2012 chưa thể bù đắp lỗ lũy kế, do vậy công ty không có lợi nhuận chia cổ tức 2012.\n",
      "Cổ đông có tên Phạm Đức Bảo bày tỏ lo ngại khi công ty đang làm ăn thua lỗ, giá cổ phiếu trong 2 năm đã mất tới hai phần ba giá trị. Việc lương chủ\n",
      "\n",
      "--- Sample 3 ---\n",
      "[Prompt]    ### Prompt:\n",
      "system\n",
      "Bạn là một trợ lý tóm tắt văn bản hữu ích. Hãy cung cấp bản tóm tắt ngắn gọn và chính xác cho bài viết sau.\n",
      "user\n",
      "Hãy tóm tắt bài viết sau:\n",
      "Tạm gác huấn luyện, giúp dân chống hạn\n",
      "Năm nay, mùa khô ở miền Trung khắc nghiệt hơn hẳn mọi năm. Để góp phần chống hạn cho hàng nghìn héc-ta lúa, hoa màu của nhân dân vùng hạ lưu thị xã An Nhơn và 2 xã Tây Giang, Tây Xuân, huyện Tây Sơn (Bình Định), từ ngày 4 đến ngày 12-4-2013, hơn 100 cán bộ, chiến sĩ của Tiểu đoàn 1 và Tiểu đoàn 3 (Lữ đoàn Phòng không 573, Quân khu 5) đã khẩn trương hành quân về xã Nhơn Tân, thị xã An Nhơn nạo vét tuyến kênh trục chính của hồ Núi Một. Đoạn kênh này dài khoảng 5km, trải qua nhiều năm lòng kênh bị lớp bùn rác dày trên dưới nửa mét bồi lấp, ngăn cản dòng chảy, trong khi đó do nắng hạn, mực nước hồ Núi Một đang xuống rất thấp. Trước yêu cầu bức thiết của địa phương phải gấp rút khai thông lòng kênh để ngày 15-4 sẽ mở cửa hồ đưa nước về các cánh đồng, đơn vị đã tạm gác việc huấn luyện, ra quân giúp dân làm thủy lợi.\n",
      "\n",
      "Do làm tốt công tác khảo sát tình hình, quán triệt nhiệm vụ, chuẩn bị đầy đủ công cụ lao động, lên phướng án thi công hợp lý nên vừa đặt ba lô xuống bộ đội đã bắt tay ngay vào việc. Hai tiểu đoàn dàn quân “tiến công” từ hai đầu kênh bất chấp cái nắng như thiêu như đốt từ trên trời dội xuống, từ dưới mặt đất bốc lên, nhiệt độ có lúc lên đến 380C. Trong những bộ quân phục dã chiến với chiếc mũ cối trên đầu, cán bộ, chiến sĩ làm việc không ngơi tay. Tốp đào xúc đất cát, tốp vận chuyển đi đổ hiệp đồng ăn ý. Trên công trường, nhiều chiến sĩ xuất thân từ con em thành phố vẫn thao tác rất thuần thục. Hỏi ra mới biết, môi trường quân ngũ đã rèn cho các anh không những chắc tay súng mà còn vững tay cuốc, huấn luyện giỏi mà tăng gia sản xuất cũng cừ. Binh nhất Dương Duy Thức xòe bàn tay cộm nhiều vết chai, nói: “Mấy bữa đầu tay phồng rộp bỏng rát, làm riết bây chừ không còn cảm giác đau nữa. Khối lượng công việc lớn trong khi đó yêu cầu tiến độ lại đòi hỏi gắt gao nên ai cũng xác định phải tăng tốc. Trong lòng kênh này không chỉ có bùn đất, rác thải, đá sỏi, xác súc vật chết mà còn lẫn nhiều mảnh sành, sắt gỉ nên chúng tôi vừa làm vừa nhắc nhở nhau bảo đảm an toàn”.\n",
      "\n",
      "Để hạn chế tác động của nắng nóng gay gắt vào buổi trưa, mỗi sáng đơn vị làm việc từ 6 giờ đến 10 giờ 15, chiều từ 14 giờ đến 18 giờ. Các tiểu đoàn có sáng kiến khoán sản phẩm đến từng ngày lao động. Cán bộ bám bộ đội, bám \"công trường\" và trực tiếp xắn tay vào cùng làm nên hầu hết các ca đều vượt tiến độ đề ra. Gạt những dòng mồ hôi đầm đìa trên mặt, Trung sĩ-Khẩu đội trưởng Nguyễn Văn Châu chia sẻ: “Lần nào đi giúp dân chúng tôi cũng dốc sứcĐể góp phần chống hạn cho hàng nghìn héc-ta lúa, hoa màu của nhân dân vùng hạ lưu thị xã An Nhơn và 2 xã Tây Giang, Tây Xuân, huyện Tây Sơn, từ ngày 4 đến ngày 12-4-2013, hơn 100 cán bộ, chiến sĩ của Tiểu đoàn 1 và Tiểu đoàn 3 đã khẩn trương hành quân về xã Nhơn Tân, thị xã An Nhơn nạo vét tuyến kênh trục chính của hồ Núi Một.\n",
      "Trước yêu cầu bức thiết của địa phương phải gấp rút khai thông lòng kênh để ngày 15-4 sẽ mở cửa hồ đưa nước về các cánh đồng, đơn vị đã tạm gác việc huấn luyện, ra quân giúp dân làm thủy lợi.\n",
      "Chỉ trong 8 ngày, hoàn thành nạo vét 2.000m3 đất cát bồi lấp, làm sạch tuyến kênh dài 5km, nhiều đoạn bùn đất ngập sâu đến 0,8m, vượt 2 ngày so với tiến độ đề ra.\n",
      "[Reference] Để góp phần chống hạn cho hàng nghìn héc-ta lúa, hoa màu của nhân dân vùng hạ lưu thị xã An Nhơn và 2 xã Tây Giang, Tây Xuân, huyện Tây Sơn, từ ngày 4 đến ngày 12-4-2013, hơn 100 cán bộ, chiến sĩ của Tiểu đoàn 1 và Tiểu đoàn 3 đã khẩn trương hành quân về xã Nhơn Tân, thị xã An Nhơn nạo vét tuyến kênh trục chính của hồ Núi Một.\n",
      "Trước yêu cầu bức thiết của địa phương phải gấp rút khai thông lòng kênh để ngày 15-4 sẽ mở cửa hồ đưa nước về các cánh đồng, đơn vị đã tạm gác việc huấn luyện, ra quân giúp dân làm thủy lợi.\n",
      "Chỉ trong 8 ngày, hoàn thành nạo vét 2.000m3 đất cát bồi lấp, làm sạch tuyến kênh dài 5km, nhiều đoạn bùn đất ngập sâu đến 0,8m, vượt 2 ngày so với tiến độ đề ra.\n",
      "[Generated] ### Prompt:\n",
      "system\n",
      "Bạn là một trợ lý tóm tắt văn bản hữu ích. Hãy cung cấp bản tóm tắt ngắn gọn và chính xác cho bài viết sau.\n",
      "user\n",
      "Hãy tóm tắt bài viết sau:\n",
      "Tạm gác huấn luyện, giúp dân chống hạn\n",
      "Năm nay, mùa khô ở miền Trung khắc nghiệt hơn hẳn mọi năm. Để góp phần chống hạn cho hàng nghìn héc-ta lúa, hoa màu của nhân dân vùng hạ lưu thị xã An Nhơn và 2 xã Tây Giang, Tây Xuân, huyện Tây Sơn (Bình Định), từ ngày 4 đến ngày 12-4-2013, hơn 100 cán bộ, chiến sĩ của Tiểu đoàn 1 và Tiểu đoàn 3 (Lữ đoàn Phòng không 573, Quân khu 5) đã khẩn trương hành quân về xã Nhơn Tân, thị xã An Nhơn nạo vét tuyến kênh trục chính của hồ Núi Một. Đoạn kênh này dài khoảng 5km, trải qua nhiều năm lòng kênh bị lớp bùn rác dày trên dưới nửa mét bồi lấp, ngăn cản dòng chảy, trong khi đó do nắng hạn, mực nước hồ Núi Một đang xuống rất thấp. Trước yêu cầu bức thiết của địa phương phải gấp rút khai thông lòng kênh để ngày 15-4 sẽ mở cửa hồ đưa nước về các cánh đồng, đơn vị đã tạm gác việc huấn luyện, ra quân giúp dân làm thủy lợi.\n",
      "\n",
      "Do làm tốt công tác khảo sát tình hình, quán triệt nhiệm vụ, chuẩn bị đầy đủ công cụ lao động, lên phướng án thi công hợp lý nên vừa đặt ba lô xuống bộ đội đã bắt tay ngay vào việc. Hai tiểu đoàn dàn quân “tiến công” từ hai đầu kênh bất chấp cái nắng như thiêu như đốt từ trên trời dội xuống, từ dưới mặt đất bốc lên, nhiệt độ có lúc lên đến 380C. Trong những bộ quân phục dã chiến với chiếc mũ cối trên đầu, cán bộ, chiến sĩ làm việc không ngơi tay. Tốp đào xúc đất cát, tốp vận chuyển đi đổ hiệp đồng ăn ý. Trên công trường, nhiều chiến sĩ xuất thân từ con em thành phố vẫn thao tác rất thuần thục. Hỏi ra mới biết, môi trường quân ngũ đã rèn cho các anh không những chắc tay súng mà còn vững tay cuốc, huấn luyện giỏi mà tăng gia sản xuất cũng cừ. Binh nhất Dương Duy Thức xòe bàn tay cộm nhiều vết chai, nói: “Mấy bữa đầu tay phồng rộp bỏng rát, làm riết bây chừ không còn cảm giác đau nữa. Khối lượng công việc lớn trong khi đó yêu cầu tiến độ lại đòi hỏi gắt gao nên ai cũng xác định phải tăng tốc. Trong lòng kênh này không chỉ có bùn đất, rác thải, đá sỏi, xác súc vật chết mà còn lẫn nhiều mảnh sành, sắt gỉ nên chúng tôi vừa làm vừa nhắc nhở nhau bảo đảm an toàn”.\n",
      "\n",
      "Để hạn chế tác động của nắng nóng gay gắt vào buổi trưa, mỗi sáng đơn vị làm việc từ 6 giờ đến 10 giờ 15, chiều từ 14 giờ đến 18 giờ. Các tiểu đoàn có sáng kiến khoán sản phẩm đến từng ngày lao động. Cán bộ bám bộ đội, bám \"công trường\" và trực tiếp xắn tay vào cùng làm nên hầu hết các ca đều vượt tiến độ đề ra. Gạt những dòng mồ hôi đầm đìa trên mặt, Trung sĩ-Khẩu đội trưởng Nguyễn Văn Châu chia sẻ: “Lần nào đi giúp dân chúng tôi cũng dốc sứcĐể góp phần chống hạn cho hàng nghìn héc-ta lúa, hoa màu của nhân dân vùng hạ lưu thị xã An Nhơn và 2 xã Tây Giang, Tây Xuân, huyện Tây Sơn, từ ngày 4 đến ngày 12-4-2013, hơn 100 cán bộ, chiến sĩ của Tiểu đoàn 1 và Tiểu đoàn 3 đã khẩn trương hành quân về xã Nhơn Tân, thị xã An Nhơn nạo vét tuyến kênh trục chính của hồ Núi Một.\n",
      "Trước yêu cầu bức thiết của địa phương phải gấp rút khai thông lòng kênh để ngày 15-4 sẽ mở cửa hồ đưa nước về các cánh đồng, đơn vị đã tạm gác việc huấn luyện, ra quân giúp dân làm thủy lợi.\n",
      "Chỉ trong 8 ngày, hoàn thành nạo vét 2.000m3 đất cát bồi lấp, làm sạch tuyến kênh dài 5km, nhiều đoạn bùn đất ngập sâu đến 0,8m, vượt 2 ngày so với tiến độ đề ra. Trong những bộ quân phục dã chiến với chiếc mũ cối trên đầu, cán bộ, chiến sĩ làm việc không ngơi tay. Tốp đào xúc đất cát, tốp vận chuyển đi đổ hiệp đồng ăn ý. Trên công trường, nhiều chiến sĩ xuất thân từ con em thành phố vẫn thao tác rất thuần thục. Hỏi ra mới biết, môi trường quân ngũ đã rèn cho các anh không những chắc tay súng mà còn vững tay cuốc, huấn luyện giỏi mà tăng gia sản xuất cũng cừ.\n",
      "Binh nhất Dương Duy Thức x\n",
      "\n",
      "--- Sample 4 ---\n",
      "[Prompt]    ### Prompt:\n",
      "system\n",
      "Bạn là một trợ lý tóm tắt văn bản hữu ích. Hãy cung cấp bản tóm tắt ngắn gọn và chính xác cho bài viết sau.\n",
      "user\n",
      "Hãy tóm tắt bài viết sau:\n",
      "﻿Cuốn sách của năm 2014\n",
      "\n",
      "Sau khi thu thập ý kiến từ nhiều nhà xuất bản trên thế giới, tờ Guardian nhận định cuốn hồi ký sắp xuất bản của bà Hillary Clinton sẽ là một hiện tượng đình đám đối với các nhà xuất bản và những người yêu sách trong năm 2014.\n",
      "Mỗi khi sắp cho ra đời một đầu sách hứa hẹn sẽ bán chạy, các nhà xuất bản luôn hồi hộp, háo hức chờ đợi. Họ chính là những nhà đánh giá tinh tường nhất đối với mức độ triển vọng về doanh số bán ra của một cuốn sách.\n",
      "Về cuốn hồi ký mà bà Hillary Clinton sẽ sớm hoàn tất và cho ra mắt trong năm 2014. Các nhà xuất bản đều tỏ ra lạc quan trước khả năng bán chạy của sách. Đây là cuốn sách thứ 5 mà vị cựu Ngoại trưởng Mỹ chắp bút, nó hứa hẹn sẽ là “bom tấn” của năm 2014.\n",
      "Cuốn sách chủ yếu viết về những sự kiện, biến cố, những kỷ niệm của bà Hillary Clinton trong nhiệm kỳ làm Ngoại trưởng Mỹ.\n",
      "Trong đó, có những chi tiết về sự kiện tìm diệt Osama Bin Laden, làn sóng cách mạng và các cuộc nổi dậy ở thế giới Ả Rập, đất nước phát triển \"nóng\" tại Châu Á – Trung Quốc...\n",
      "Trong cả cuốn sách, cựu Ngoại trưởng Clinton sẽ tiết lộ cho độc giả những câu chuyện nhỏ thú vị mà chưa có một báo đài nào đưa tin.\n",
      "Đó là những sự kiện được nhìn nhận qua lăng kính cá nhân sống động của bà, những kỷ niệm khi hợp tác với Tổng thống Obama cũng như những câu chuyện thú vị giữa bà và các vị chính trị gia đến từ khắp các nước trên thế giới…\n",
      "Nhà xuất bản Simon & Schuster của Mỹ cho rằng bà Hillary Clinton với tư cách là một chính trị gia đã \"đem lại một định nghĩa mới về hình ảnh người phụ nữ đi tiên phong trên chính trường\".\n",
      "\"Sự nghiệp của bà được chia ra làm nhiều chặng và dù ở thời kỳ nào, bà cũng đều là người phụ nữ có sức ảnh hưởng mang tầm thế giới. Khi là một phu nhân Tổng thống, khi là một thượng nghị sĩ, khi là Ngoại trưởng và khi là một nhà văn, bà đều hoàn thành xuất sắc mọi vai trò.\"\n",
      "Nhà xuất bản Waterstones của Anh coi việc bà Clinton viết sách mới là \"tin trọng đại, tuyệt vời\" của các nhà xuất bản.\n",
      "Cuốn hồi ký trước đó của bà Clinton – \"Living History\" (Lịch sử sống) đã bán được 200.000 bản ngay trong ngày đầu tiên ra mắt tại thị trường Mỹ hồi năm 2003. \n",
      "\"Danh tiếng của bà bây giờ thậm chí còn lớn hơn trước nhiều nhờ nhiệm kỳ Ngoại trưởng mà bà đã đảm nhiệm rất thành công dưới thời Tổng thống Obama. Bà là người nổi tiếng, được yêu mến và là một nhân vật quan trọng mang tính then chốt tại một số sự kiện thế giới dịp gần đây.\n",
      "Vì những lý do này, cuốn hồi ký sắp được xuất bản vào năm 2014 của bà chắc chắn sẽ là một trong những cuốn sách tiêu điểm\", đại diện nhà xuất bản Waterstones nhận định.\n",
      "Nhà xuất bản Foyles của Anh thì cho rằng sẽ khó có cuốn sách nào mang chủ đề chính trị vượt qua được cuốn tự truyện của bà Hillary trong năm 2014.\n",
      "\"Yếu tố gây bất ngờ nhất lúc này là liệu bà có quyết định tham gia tranh cử Tổng thống trong nhiệm kỳ mới bắt đầu vào năm 2016. Nếu câu trả lời là có, đó sẽ là một quả bom kích nổ vô cùngSau khi thu thập ý kiến từ nhiều nhà xuất bản trên thế giới, tờ Guardian nhận định cuốn hồi ký sắp xuất bản của bà Hillary Clinton sẽ là một hiện tượng đình đám đối với các nhà xuất bản và những người yêu sách trong năm 2014.Về cuốn hồi ký mà bà Hillary Clinton sẽ sớm hoàn tất và cho ra mắt trong năm 2014, các nhà xuất bản đều tỏ ra lạc quan trước khả năng bán chạy của sách.Đây là cuốn sách thứ 5 mà vị cựu Ngoại trưởng Mỹ chắp bút, nó hứa hẹn sẽ là bom tấn của năm 2014. Trong cả cuốn sách, cựu Ngoại trưởng Clinton sẽ tiết lộ cho độc giả những câu chuyện nhỏ thú vị mà chưa có một báo đài nào đưa tin.Cuốn hồi ký trước đó của bà Clinton đã bán được 200.000 bản ngay trong ngày đầu tiên ra mắt tại thị trường Mỹ hồi năm 2003.\n",
      "[Reference] Sau khi thu thập ý kiến từ nhiều nhà xuất bản trên thế giới, tờ Guardian nhận định cuốn hồi ký sắp xuất bản của bà Hillary Clinton sẽ là một hiện tượng đình đám đối với các nhà xuất bản và những người yêu sách trong năm 2014.Về cuốn hồi ký mà bà Hillary Clinton sẽ sớm hoàn tất và cho ra mắt trong năm 2014, các nhà xuất bản đều tỏ ra lạc quan trước khả năng bán chạy của sách.Đây là cuốn sách thứ 5 mà vị cựu Ngoại trưởng Mỹ chắp bút, nó hứa hẹn sẽ là bom tấn của năm 2014. Trong cả cuốn sách, cựu Ngoại trưởng Clinton sẽ tiết lộ cho độc giả những câu chuyện nhỏ thú vị mà chưa có một báo đài nào đưa tin.Cuốn hồi ký trước đó của bà Clinton đã bán được 200.000 bản ngay trong ngày đầu tiên ra mắt tại thị trường Mỹ hồi năm 2003.\n",
      "[Generated] ### Prompt:\n",
      "system\n",
      "Bạn là một trợ lý tóm tắt văn bản hữu ích. Hãy cung cấp bản tóm tắt ngắn gọn và chính xác cho bài viết sau.\n",
      "user\n",
      "Hãy tóm tắt bài viết sau:\n",
      "﻿Cuốn sách của năm 2014\n",
      "\n",
      "Sau khi thu thập ý kiến từ nhiều nhà xuất bản trên thế giới, tờ Guardian nhận định cuốn hồi ký sắp xuất bản của bà Hillary Clinton sẽ là một hiện tượng đình đám đối với các nhà xuất bản và những người yêu sách trong năm 2014.\n",
      "Mỗi khi sắp cho ra đời một đầu sách hứa hẹn sẽ bán chạy, các nhà xuất bản luôn hồi hộp, háo hức chờ đợi. Họ chính là những nhà đánh giá tinh tường nhất đối với mức độ triển vọng về doanh số bán ra của một cuốn sách.\n",
      "Về cuốn hồi ký mà bà Hillary Clinton sẽ sớm hoàn tất và cho ra mắt trong năm 2014. Các nhà xuất bản đều tỏ ra lạc quan trước khả năng bán chạy của sách. Đây là cuốn sách thứ 5 mà vị cựu Ngoại trưởng Mỹ chắp bút, nó hứa hẹn sẽ là “bom tấn” của năm 2014.\n",
      "Cuốn sách chủ yếu viết về những sự kiện, biến cố, những kỷ niệm của bà Hillary Clinton trong nhiệm kỳ làm Ngoại trưởng Mỹ.\n",
      "Trong đó, có những chi tiết về sự kiện tìm diệt Osama Bin Laden, làn sóng cách mạng và các cuộc nổi dậy ở thế giới Ả Rập, đất nước phát triển \"nóng\" tại Châu Á – Trung Quốc...\n",
      "Trong cả cuốn sách, cựu Ngoại trưởng Clinton sẽ tiết lộ cho độc giả những câu chuyện nhỏ thú vị mà chưa có một báo đài nào đưa tin.\n",
      "Đó là những sự kiện được nhìn nhận qua lăng kính cá nhân sống động của bà, những kỷ niệm khi hợp tác với Tổng thống Obama cũng như những câu chuyện thú vị giữa bà và các vị chính trị gia đến từ khắp các nước trên thế giới…\n",
      "Nhà xuất bản Simon & Schuster của Mỹ cho rằng bà Hillary Clinton với tư cách là một chính trị gia đã \"đem lại một định nghĩa mới về hình ảnh người phụ nữ đi tiên phong trên chính trường\".\n",
      "\"Sự nghiệp của bà được chia ra làm nhiều chặng và dù ở thời kỳ nào, bà cũng đều là người phụ nữ có sức ảnh hưởng mang tầm thế giới. Khi là một phu nhân Tổng thống, khi là một thượng nghị sĩ, khi là Ngoại trưởng và khi là một nhà văn, bà đều hoàn thành xuất sắc mọi vai trò.\"\n",
      "Nhà xuất bản Waterstones của Anh coi việc bà Clinton viết sách mới là \"tin trọng đại, tuyệt vời\" của các nhà xuất bản.\n",
      "Cuốn hồi ký trước đó của bà Clinton – \"Living History\" (Lịch sử sống) đã bán được 200.000 bản ngay trong ngày đầu tiên ra mắt tại thị trường Mỹ hồi năm 2003. \n",
      "\"Danh tiếng của bà bây giờ thậm chí còn lớn hơn trước nhiều nhờ nhiệm kỳ Ngoại trưởng mà bà đã đảm nhiệm rất thành công dưới thời Tổng thống Obama. Bà là người nổi tiếng, được yêu mến và là một nhân vật quan trọng mang tính then chốt tại một số sự kiện thế giới dịp gần đây.\n",
      "Vì những lý do này, cuốn hồi ký sắp được xuất bản vào năm 2014 của bà chắc chắn sẽ là một trong những cuốn sách tiêu điểm\", đại diện nhà xuất bản Waterstones nhận định.\n",
      "Nhà xuất bản Foyles của Anh thì cho rằng sẽ khó có cuốn sách nào mang chủ đề chính trị vượt qua được cuốn tự truyện của bà Hillary trong năm 2014.\n",
      "\"Yếu tố gây bất ngờ nhất lúc này là liệu bà có quyết định tham gia tranh cử Tổng thống trong nhiệm kỳ mới bắt đầu vào năm 2016. Nếu câu trả lời là có, đó sẽ là một quả bom kích nổ vô cùngSau khi thu thập ý kiến từ nhiều nhà xuất bản trên thế giới, tờ Guardian nhận định cuốn hồi ký sắp xuất bản của bà Hillary Clinton sẽ là một hiện tượng đình đám đối với các nhà xuất bản và những người yêu sách trong năm 2014.Về cuốn hồi ký mà bà Hillary Clinton sẽ sớm hoàn tất và cho ra mắt trong năm 2014, các nhà xuất bản đều tỏ ra lạc quan trước khả năng bán chạy của sách.Đây là cuốn sách thứ 5 mà vị cựu Ngoại trưởng Mỹ chắp bút, nó hứa hẹn sẽ là bom tấn của năm 2014. Trong cả cuốn sách, cựu Ngoại trưởng Clinton sẽ tiết lộ cho độc giả những câu chuyện nhỏ thú vị mà chưa có một báo đài nào đưa tin.Cuốn hồi ký trước đó của bà Clinton đã bán được 200.000 bản ngay trong ngày đầu tiên ra mắt tại thị trường Mỹ hồi năm 2003. Cuốn sách chủ yếu viết về những sự kiện, biến cố, những kỷ niệm của bà Hillary Clinton trong nhiệm kỳ làm Ngoại trưởng Mỹ.Danh tiếng của bà bây giờ thậm chí còn lớn hơn trước nhiều nhờ nhiệm kỳ Ngoại trưởng mà bà đã đảm nhiệm rất thành công dưới thời Tổng thống Obama. Bà là người nổi tiếng, được yêu mến và là một nhân vật quan trọng mang tính then chốt tại một số sự kiện thế giới dịp gần đây.Vì những lý do này, cuốn hồi ký sắp được xuất bản vào năm 2014 của bà chắc chắn sẽ là một trong những cuốn\n",
      "\n",
      "--- Sample 5 ---\n",
      "[Prompt]    ### Prompt:\n",
      "system\n",
      "Bạn là một trợ lý tóm tắt văn bản hữu ích. Hãy cung cấp bản tóm tắt ngắn gọn và chính xác cho bài viết sau.\n",
      "user\n",
      "Hãy tóm tắt bài viết sau:\n",
      "﻿Bộ Khoa học và Công nghệ tổ chức Hội nghị công bố Quyết định kiểm toán \n",
      "Ngày 09/7/2013 Văn phòng Bộ Khoa học và Công nghệ (KH&CN) đã tổ chức Hội nghị công bố Quyết định kiểm toán. Tham dự Hội nghị có Thứ trưởng Bộ KH&CN Trần Việt Thanh, Vụ trưởng Vụ Tài chính Nguyễn Ngọc Song và đại diện lãnh đạo các đơn vị thuộc Bộ có liên quan.\n",
      "Về phía Đoàn Kiểm toán nhà nước có Phó Tổng Kiểm toán nhà nước Vũ Văn Họa, Phó Kiểm toán trưởng Kiểm toán nhà nước chuyên nghành III Trần Ngọc Quý (Trưởng đoàn) và các thành viên trong Đoàn.\n",
      "Phát biểu tại Hội nghị, ông Trần Ngọc Quý cho biết, mục tiêu kiểm toán nhằm xác định tính đúng đắn, trung thực hợp lý của Báo cáo quyết toán ngân sách năm 2012 của Bộ KH&CN; đánh giá tính kinh tế, hiệu lực và hiệu quả trong quản lý, sử dụng ngân sách, tiền, tài sản nhà nước tại các đơn vị được kiểm toán, trong đó đi sâu vào đánh giá việc triển khai thực hiện các Nghị quyết của Quốc hội, Chính phủ về phát triển kinh tế - xã hội và các giải pháp chủ yếu tập trung kiềm chế lạm phát, ổn định kinh tế vĩ mô, bảo đảm an sinh xã hội; xác định rõ trách nhiệm của tập thể và cá nhân, kiến nghị xử lý vi phạm theo quy định của pháp luật.\n",
      "Ngoài ra, nội dung kiểm toán cũng tập trung vào việc lập, phân bổ, quản lý và sử dụng các khoản thu, chi ngân sách, tiền và tài sản nhà nước; việc mua sắm, quản lý, sử dụng tài sản; việc chấp hành pháp luật, chính sách, chế độ quản lý tài chính – kế toán, chế độ quản lý đầu tư của nhà nước; việc huy động nguồn vốn, xét chọn, phê duyệt, hợp đồng nghiên cứu khoa học, nghiệm thu, công nhận kết quả nghiên cứu, quyết toán kinh phí thực hiện đề tài được Quỹ phát triển KH&CN tài trợ theo quy định. Phạm vi kiểm toán là báo cáo quyết toán ngân sách năm 2012 của Bộ KH&CN, báo cáo quyết toán năm 2011, 2012 của Quỹ phát triển KH&CN và các thời kỳ trước, sau có liên quan của các đơn vị được kiểm toán.\n",
      "Thay mặt Kiểm toán nhà nước, Phó Tổng Kiểm toán Vũ Văn Họa đánh giá cao sự hợp tác của Bộ KH&CN trong thời gian qua và mong muốn tiếp tục nhận được sự phối hợp chặt chẽ hơn nữa từ phía đơn vị được kiểm toán trong việc phản ảnh tình hình thực tế, rà soát các cơ chế chính sách, cơ chế tự chủ tài chính, những bất cập trong các cơ chế hiện nay,… Qua đó, các bên sẽ cùng đưa ra các giải pháp tốt nhất để tháo gỡ những khó khăn, vướng mắc trong quá trình triển khai kiểm toán ngân sách, tiền và tài sản nhà nước năm 2012 của Bộ KH&CN và công tác quản lý, sử dụng Quỹ phát triển KH&CN quốc gia giai đoạn 2011 - 2012.\n",
      "Tại Hội nghị, Thứ trưởng Trần Việt Thanh đã thông báo một số thành tựu quan trọng trong năm 2012 của Bộ KH&CN tới các đại biểu tham dự như: Việc ban hành Chiến lược phát triển KH&CN từ năm 2011 - 2020 của Thủ tướng Chính phủ; Nghị quyết số 20-NQ/TW về phát triển KH&CN; Luật KH&CN (sửa đổi) đã được Quốc hội thông qua và sẽ có hiệu lực vào ngày 01/01/2014,… Thứ trưởng﻿ Bộ Khoa học và Công nghệ đã tổ chức Hội nghị công bố Quyết định kiểm toán.\n",
      "Mục tiêu kiểm toán nhằm xác định tính đúng đắn, trung thực hợp lý của Báo cáo quyết toán ngân sách năm 2012 của Bộ KH&CN; đánh giá tính kinh tế, hiệu lực và hiệu quả trong quản lý, sử dụng ngân sách, tiền, tài sản nhà nước tại các đơn vị được kiểm toán.\n",
      "Phạm vi kiểm toán là báo cáo quyết toán ngân sách năm 2012 của Bộ KH&CN, báo cáo quyết toán năm 2011, 2012 của Quỹ phát triển KH&CN và các thời kỳ trước, sau có liên quan của các đơn vị được kiểm toán.\n",
      "Vụ Tài chính sẽ là đầu mối thông tin cho các đơn vị thuộc Bộ và các đơn vị có liên quan.\n",
      "Thời gian kiểm toán sẽ bắt đầu từ ngày 09/7 và kết thúc vào ngày 10/9/2013.\n",
      "[Reference] ﻿ Bộ Khoa học và Công nghệ đã tổ chức Hội nghị công bố Quyết định kiểm toán.\n",
      "Mục tiêu kiểm toán nhằm xác định tính đúng đắn, trung thực hợp lý của Báo cáo quyết toán ngân sách năm 2012 của Bộ KH&CN; đánh giá tính kinh tế, hiệu lực và hiệu quả trong quản lý, sử dụng ngân sách, tiền, tài sản nhà nước tại các đơn vị được kiểm toán.\n",
      "Phạm vi kiểm toán là báo cáo quyết toán ngân sách năm 2012 của Bộ KH&CN, báo cáo quyết toán năm 2011, 2012 của Quỹ phát triển KH&CN và các thời kỳ trước, sau có liên quan của các đơn vị được kiểm toán.\n",
      "Vụ Tài chính sẽ là đầu mối thông tin cho các đơn vị thuộc Bộ và các đơn vị có liên quan.\n",
      "Thời gian kiểm toán sẽ bắt đầu từ ngày 09/7 và kết thúc vào ngày 10/9/2013.\n",
      "[Generated] ### Prompt:\n",
      "system\n",
      "Bạn là một trợ lý tóm tắt văn bản hữu ích. Hãy cung cấp bản tóm tắt ngắn gọn và chính xác cho bài viết sau.\n",
      "user\n",
      "Hãy tóm tắt bài viết sau:\n",
      "﻿Bộ Khoa học và Công nghệ tổ chức Hội nghị công bố Quyết định kiểm toán \n",
      "Ngày 09/7/2013 Văn phòng Bộ Khoa học và Công nghệ (KH&CN) đã tổ chức Hội nghị công bố Quyết định kiểm toán. Tham dự Hội nghị có Thứ trưởng Bộ KH&CN Trần Việt Thanh, Vụ trưởng Vụ Tài chính Nguyễn Ngọc Song và đại diện lãnh đạo các đơn vị thuộc Bộ có liên quan.\n",
      "Về phía Đoàn Kiểm toán nhà nước có Phó Tổng Kiểm toán nhà nước Vũ Văn Họa, Phó Kiểm toán trưởng Kiểm toán nhà nước chuyên nghành III Trần Ngọc Quý (Trưởng đoàn) và các thành viên trong Đoàn.\n",
      "Phát biểu tại Hội nghị, ông Trần Ngọc Quý cho biết, mục tiêu kiểm toán nhằm xác định tính đúng đắn, trung thực hợp lý của Báo cáo quyết toán ngân sách năm 2012 của Bộ KH&CN; đánh giá tính kinh tế, hiệu lực và hiệu quả trong quản lý, sử dụng ngân sách, tiền, tài sản nhà nước tại các đơn vị được kiểm toán, trong đó đi sâu vào đánh giá việc triển khai thực hiện các Nghị quyết của Quốc hội, Chính phủ về phát triển kinh tế - xã hội và các giải pháp chủ yếu tập trung kiềm chế lạm phát, ổn định kinh tế vĩ mô, bảo đảm an sinh xã hội; xác định rõ trách nhiệm của tập thể và cá nhân, kiến nghị xử lý vi phạm theo quy định của pháp luật.\n",
      "Ngoài ra, nội dung kiểm toán cũng tập trung vào việc lập, phân bổ, quản lý và sử dụng các khoản thu, chi ngân sách, tiền và tài sản nhà nước; việc mua sắm, quản lý, sử dụng tài sản; việc chấp hành pháp luật, chính sách, chế độ quản lý tài chính – kế toán, chế độ quản lý đầu tư của nhà nước; việc huy động nguồn vốn, xét chọn, phê duyệt, hợp đồng nghiên cứu khoa học, nghiệm thu, công nhận kết quả nghiên cứu, quyết toán kinh phí thực hiện đề tài được Quỹ phát triển KH&CN tài trợ theo quy định. Phạm vi kiểm toán là báo cáo quyết toán ngân sách năm 2012 của Bộ KH&CN, báo cáo quyết toán năm 2011, 2012 của Quỹ phát triển KH&CN và các thời kỳ trước, sau có liên quan của các đơn vị được kiểm toán.\n",
      "Thay mặt Kiểm toán nhà nước, Phó Tổng Kiểm toán Vũ Văn Họa đánh giá cao sự hợp tác của Bộ KH&CN trong thời gian qua và mong muốn tiếp tục nhận được sự phối hợp chặt chẽ hơn nữa từ phía đơn vị được kiểm toán trong việc phản ảnh tình hình thực tế, rà soát các cơ chế chính sách, cơ chế tự chủ tài chính, những bất cập trong các cơ chế hiện nay,… Qua đó, các bên sẽ cùng đưa ra các giải pháp tốt nhất để tháo gỡ những khó khăn, vướng mắc trong quá trình triển khai kiểm toán ngân sách, tiền và tài sản nhà nước năm 2012 của Bộ KH&CN và công tác quản lý, sử dụng Quỹ phát triển KH&CN quốc gia giai đoạn 2011 - 2012.\n",
      "Tại Hội nghị, Thứ trưởng Trần Việt Thanh đã thông báo một số thành tựu quan trọng trong năm 2012 của Bộ KH&CN tới các đại biểu tham dự như: Việc ban hành Chiến lược phát triển KH&CN từ năm 2011 - 2020 của Thủ tướng Chính phủ; Nghị quyết số 20-NQ/TW về phát triển KH&CN; Luật KH&CN (sửa đổi) đã được Quốc hội thông qua và sẽ có hiệu lực vào ngày 01/01/2014,… Thứ trưởng﻿ Bộ Khoa học và Công nghệ đã tổ chức Hội nghị công bố Quyết định kiểm toán.\n",
      "Mục tiêu kiểm toán nhằm xác định tính đúng đắn, trung thực hợp lý của Báo cáo quyết toán ngân sách năm 2012 của Bộ KH&CN; đánh giá tính kinh tế, hiệu lực và hiệu quả trong quản lý, sử dụng ngân sách, tiền, tài sản nhà nước tại các đơn vị được kiểm toán.\n",
      "Phạm vi kiểm toán là báo cáo quyết toán ngân sách năm 2012 của Bộ KH&CN, báo cáo quyết toán năm 2011, 2012 của Quỹ phát triển KH&CN và các thời kỳ trước, sau có liên quan của các đơn vị được kiểm toán.\n",
      "Vụ Tài chính sẽ là đầu mối thông tin cho các đơn vị thuộc Bộ và các đơn vị có liên quan.\n",
      "Thời gian kiểm toán sẽ bắt đầu từ ngày 09/7 và kết thúc vào ngày 10/9/2013. Thay mặt Kiểm toán nhà nước, Phó Tổng Kiểm toán Vũ Văn Họa đánh giá cao sự hợp tác của Bộ KH&CN trong thời gian qua và mong muốn tiếp tục nhận được sự phối hợp chặt chẽ hơn nữa từ phía đơn vị được kiểm toán trong việc phản ảnh tình hình thực tế, rà soát các cơ chế chính sách, cơ chế tự chủ tài chính, những bất cập trong các cơ chế hiện nay,… Qua đó, các bên sẽ cùng đưa ra các giải pháp tốt nhất để tháo gỡ những khó khăn, vướng mắc trong quá trình triển khai kiểm toán ngân sách, tiền và tài\n"
     ]
    }
   ],
   "source": [
    "evaluate_after_training(model, val_loader, tokenizer, device)"
   ]
  }
 ],
 "metadata": {
  "kaggle": {
   "accelerator": "nvidiaTeslaT4",
   "dataSources": [
    {
     "datasetId": 6959873,
     "sourceId": 11155081,
     "sourceType": "datasetVersion"
    }
   ],
   "dockerImageVersionId": 30919,
   "isGpuEnabled": true,
   "isInternetEnabled": true,
   "language": "python",
   "sourceType": "notebook"
  },
  "kernelspec": {
   "display_name": "Python 3",
   "language": "python",
   "name": "python3"
  },
  "language_info": {
   "codemirror_mode": {
    "name": "ipython",
    "version": 3
   },
   "file_extension": ".py",
   "mimetype": "text/x-python",
   "name": "python",
   "nbconvert_exporter": "python",
   "pygments_lexer": "ipython3",
   "version": "3.10.12"
  }
 },
 "nbformat": 4,
 "nbformat_minor": 4
}
